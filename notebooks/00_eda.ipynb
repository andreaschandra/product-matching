{
 "cells": [
  {
   "cell_type": "code",
   "execution_count": 52,
   "metadata": {},
   "outputs": [],
   "source": [
    "import os\n",
    "import pandas as pd\n",
    "import matplotlib.pyplot as plt"
   ]
  },
  {
   "cell_type": "code",
   "execution_count": 13,
   "metadata": {},
   "outputs": [],
   "source": [
    "data_path = \"../data\""
   ]
  },
  {
   "cell_type": "code",
   "execution_count": 27,
   "metadata": {},
   "outputs": [],
   "source": [
    "d_train = pd.read_csv(os.path.join(data_path, \"new_training_set.csv\"),\n",
    "                      usecols=[\"title_1\", \"image_1\", \"title_2\", \"image_2\", \"Label\"])\n",
    "d_test = pd.read_csv(os.path.join(data_path, \"new_test_sample.csv\"))"
   ]
  },
  {
   "cell_type": "code",
   "execution_count": 28,
   "metadata": {},
   "outputs": [
    {
     "data": {
      "text/plain": [
       "(10181, 5)"
      ]
     },
     "execution_count": 28,
     "metadata": {},
     "output_type": "execute_result"
    }
   ],
   "source": [
    "d_train.shape"
   ]
  },
  {
   "cell_type": "code",
   "execution_count": 29,
   "metadata": {},
   "outputs": [
    {
     "data": {
      "text/plain": [
       "(207, 5)"
      ]
     },
     "execution_count": 29,
     "metadata": {},
     "output_type": "execute_result"
    }
   ],
   "source": [
    "d_test.shape"
   ]
  },
  {
   "cell_type": "code",
   "execution_count": 30,
   "metadata": {},
   "outputs": [
    {
     "data": {
      "text/html": [
       "<div>\n",
       "<style scoped>\n",
       "    .dataframe tbody tr th:only-of-type {\n",
       "        vertical-align: middle;\n",
       "    }\n",
       "\n",
       "    .dataframe tbody tr th {\n",
       "        vertical-align: top;\n",
       "    }\n",
       "\n",
       "    .dataframe thead th {\n",
       "        text-align: right;\n",
       "    }\n",
       "</style>\n",
       "<table border=\"1\" class=\"dataframe\">\n",
       "  <thead>\n",
       "    <tr style=\"text-align: right;\">\n",
       "      <th></th>\n",
       "      <th>title_1</th>\n",
       "      <th>image_1</th>\n",
       "      <th>title_2</th>\n",
       "      <th>image_2</th>\n",
       "      <th>Label</th>\n",
       "    </tr>\n",
       "  </thead>\n",
       "  <tbody>\n",
       "    <tr>\n",
       "      <th>0</th>\n",
       "      <td>Johnson’s ® Top to Toe Hair &amp; Body Bath 500ml</td>\n",
       "      <td>fdff8b9b8229da091dd7d070aae05f81.jpg</td>\n",
       "      <td>Johnson's cottontouch top to toe hair &amp; body b...</td>\n",
       "      <td>41e191742760932598c7bd201e5dad47.jpg</td>\n",
       "      <td>0</td>\n",
       "    </tr>\n",
       "    <tr>\n",
       "      <th>1</th>\n",
       "      <td>Sandal Humble</td>\n",
       "      <td>906cc44f0be72d4e767669b5b63e3a17.jpg</td>\n",
       "      <td>Sandal Humble Glass - Glanzton</td>\n",
       "      <td>7a556b836bfdd08ea592216440524a34.jpg</td>\n",
       "      <td>0</td>\n",
       "    </tr>\n",
       "    <tr>\n",
       "      <th>2</th>\n",
       "      <td>PROMO LIKUID LIKUIT LIQUIT BABY POD LIQUID SAL...</td>\n",
       "      <td>475c26635de18b9f93032400732ff336.jpg</td>\n",
       "      <td>Voporizer Liquit - Likuit - Likuid - Liquid Pr...</td>\n",
       "      <td>ace93bec689f3f1565800c500a8341fa.jpg</td>\n",
       "      <td>0</td>\n",
       "    </tr>\n",
       "    <tr>\n",
       "      <th>3</th>\n",
       "      <td>6 Pasang / Set Anting Tusuk Bentuk Lingkaran A...</td>\n",
       "      <td>e630997f6217555d6026547ad1c15f0b.jpg</td>\n",
       "      <td>Subei 6 Pasang / Set Anting Tusuk Boho Bohemia...</td>\n",
       "      <td>31abbc176b09f5bd1728cfc3ecbbfb9c.jpg</td>\n",
       "      <td>0</td>\n",
       "    </tr>\n",
       "    <tr>\n",
       "      <th>4</th>\n",
       "      <td>ROREC NATURAL SKIN CARE MASK ROREC SHEET MASK ...</td>\n",
       "      <td>a27d11700a7902febd039dc3a96f10f2.jpg</td>\n",
       "      <td>Rorec 86 Natural Skin Care Shert Mask All Variant</td>\n",
       "      <td>813ad9dd638c10f1765db9dde20c9e42.jpg</td>\n",
       "      <td>1</td>\n",
       "    </tr>\n",
       "  </tbody>\n",
       "</table>\n",
       "</div>"
      ],
      "text/plain": [
       "                                             title_1  \\\n",
       "0      Johnson’s ® Top to Toe Hair & Body Bath 500ml   \n",
       "1                                      Sandal Humble   \n",
       "2  PROMO LIKUID LIKUIT LIQUIT BABY POD LIQUID SAL...   \n",
       "3  6 Pasang / Set Anting Tusuk Bentuk Lingkaran A...   \n",
       "4  ROREC NATURAL SKIN CARE MASK ROREC SHEET MASK ...   \n",
       "\n",
       "                                image_1  \\\n",
       "0  fdff8b9b8229da091dd7d070aae05f81.jpg   \n",
       "1  906cc44f0be72d4e767669b5b63e3a17.jpg   \n",
       "2  475c26635de18b9f93032400732ff336.jpg   \n",
       "3  e630997f6217555d6026547ad1c15f0b.jpg   \n",
       "4  a27d11700a7902febd039dc3a96f10f2.jpg   \n",
       "\n",
       "                                             title_2  \\\n",
       "0  Johnson's cottontouch top to toe hair & body b...   \n",
       "1                     Sandal Humble Glass - Glanzton   \n",
       "2  Voporizer Liquit - Likuit - Likuid - Liquid Pr...   \n",
       "3  Subei 6 Pasang / Set Anting Tusuk Boho Bohemia...   \n",
       "4  Rorec 86 Natural Skin Care Shert Mask All Variant   \n",
       "\n",
       "                                image_2  Label  \n",
       "0  41e191742760932598c7bd201e5dad47.jpg      0  \n",
       "1  7a556b836bfdd08ea592216440524a34.jpg      0  \n",
       "2  ace93bec689f3f1565800c500a8341fa.jpg      0  \n",
       "3  31abbc176b09f5bd1728cfc3ecbbfb9c.jpg      0  \n",
       "4  813ad9dd638c10f1765db9dde20c9e42.jpg      1  "
      ]
     },
     "execution_count": 30,
     "metadata": {},
     "output_type": "execute_result"
    }
   ],
   "source": [
    "d_train.head()"
   ]
  },
  {
   "cell_type": "code",
   "execution_count": 55,
   "metadata": {},
   "outputs": [
    {
     "data": {
      "text/html": [
       "<div>\n",
       "<style scoped>\n",
       "    .dataframe tbody tr th:only-of-type {\n",
       "        vertical-align: middle;\n",
       "    }\n",
       "\n",
       "    .dataframe tbody tr th {\n",
       "        vertical-align: top;\n",
       "    }\n",
       "\n",
       "    .dataframe thead th {\n",
       "        text-align: right;\n",
       "    }\n",
       "</style>\n",
       "<table border=\"1\" class=\"dataframe\">\n",
       "  <thead>\n",
       "    <tr style=\"text-align: right;\">\n",
       "      <th></th>\n",
       "      <th>Unnamed: 0</th>\n",
       "      <th>title_1</th>\n",
       "      <th>image_1</th>\n",
       "      <th>title_2</th>\n",
       "      <th>image_2</th>\n",
       "    </tr>\n",
       "  </thead>\n",
       "  <tbody>\n",
       "    <tr>\n",
       "      <th>0</th>\n",
       "      <td>0</td>\n",
       "      <td>12.12 SUPER PROMO !! Sandal Jepit Pantai Fashion</td>\n",
       "      <td>83d1798fee1c90c2845204d9261169bb.jpg</td>\n",
       "      <td>Clarisse CRAZY OFFER Beli 5 Dapet 12 POLKA SUM...</td>\n",
       "      <td>caba83a8a7f9def9c4d268b6c34da7f4.jpg</td>\n",
       "    </tr>\n",
       "    <tr>\n",
       "      <th>1</th>\n",
       "      <td>1</td>\n",
       "      <td>Damai fashion jakarta - long dress JUMBO wanit...</td>\n",
       "      <td>126868769ca4a4694d36d28960f9de8a.jpg</td>\n",
       "      <td>[VIP] kasih fashion jakarta - long dress JUMBO...</td>\n",
       "      <td>7fdfe855a7be9c87238757c43b712b81.jpg</td>\n",
       "    </tr>\n",
       "    <tr>\n",
       "      <th>2</th>\n",
       "      <td>2</td>\n",
       "      <td>My Baby Minyak Telon 145 ML</td>\n",
       "      <td>86aee3dc281911f5f9d50fea17b978f0.jpg</td>\n",
       "      <td>My Baby Minyak Telon Plus 145 Ml 4btl kemasan ...</td>\n",
       "      <td>0ec544d3d4169df76ae156e76c724f0c.jpg</td>\n",
       "    </tr>\n",
       "    <tr>\n",
       "      <th>3</th>\n",
       "      <td>3</td>\n",
       "      <td>Creative Waterborne Marker Very Fine Double - ...</td>\n",
       "      <td>40ef98354335cf4780937da703ed6d65.jpg</td>\n",
       "      <td>SOMETHINC BROW WIZ Retractable Eyebrow</td>\n",
       "      <td>9cf798e5f940429f14b4af0fd48992a4.jpg</td>\n",
       "    </tr>\n",
       "    <tr>\n",
       "      <th>4</th>\n",
       "      <td>4</td>\n",
       "      <td>Goblin♛ COD Tas Ransel Anak Sekolah Karakter K...</td>\n",
       "      <td>c28512df97d0fc1d61fd30de966e01c3.jpg</td>\n",
       "      <td>TAS KARAKTER ANAK LUCU</td>\n",
       "      <td>a4c09a46d8b1adda43a2433d40bba583.jpg</td>\n",
       "    </tr>\n",
       "  </tbody>\n",
       "</table>\n",
       "</div>"
      ],
      "text/plain": [
       "   Unnamed: 0                                            title_1  \\\n",
       "0           0   12.12 SUPER PROMO !! Sandal Jepit Pantai Fashion   \n",
       "1           1  Damai fashion jakarta - long dress JUMBO wanit...   \n",
       "2           2                        My Baby Minyak Telon 145 ML   \n",
       "3           3  Creative Waterborne Marker Very Fine Double - ...   \n",
       "4           4  Goblin♛ COD Tas Ransel Anak Sekolah Karakter K...   \n",
       "\n",
       "                                image_1  \\\n",
       "0  83d1798fee1c90c2845204d9261169bb.jpg   \n",
       "1  126868769ca4a4694d36d28960f9de8a.jpg   \n",
       "2  86aee3dc281911f5f9d50fea17b978f0.jpg   \n",
       "3  40ef98354335cf4780937da703ed6d65.jpg   \n",
       "4  c28512df97d0fc1d61fd30de966e01c3.jpg   \n",
       "\n",
       "                                             title_2  \\\n",
       "0  Clarisse CRAZY OFFER Beli 5 Dapet 12 POLKA SUM...   \n",
       "1  [VIP] kasih fashion jakarta - long dress JUMBO...   \n",
       "2  My Baby Minyak Telon Plus 145 Ml 4btl kemasan ...   \n",
       "3             SOMETHINC BROW WIZ Retractable Eyebrow   \n",
       "4                             TAS KARAKTER ANAK LUCU   \n",
       "\n",
       "                                image_2  \n",
       "0  caba83a8a7f9def9c4d268b6c34da7f4.jpg  \n",
       "1  7fdfe855a7be9c87238757c43b712b81.jpg  \n",
       "2  0ec544d3d4169df76ae156e76c724f0c.jpg  \n",
       "3  9cf798e5f940429f14b4af0fd48992a4.jpg  \n",
       "4  a4c09a46d8b1adda43a2433d40bba583.jpg  "
      ]
     },
     "execution_count": 55,
     "metadata": {},
     "output_type": "execute_result"
    }
   ],
   "source": [
    "d_test.head()"
   ]
  },
  {
   "cell_type": "code",
   "execution_count": 34,
   "metadata": {},
   "outputs": [
    {
     "data": {
      "text/plain": [
       "title_1    0\n",
       "image_1    0\n",
       "title_2    2\n",
       "image_2    0\n",
       "Label      0\n",
       "dtype: int64"
      ]
     },
     "execution_count": 34,
     "metadata": {},
     "output_type": "execute_result"
    }
   ],
   "source": [
    "d_train.isna().sum()"
   ]
  },
  {
   "cell_type": "code",
   "execution_count": 54,
   "metadata": {},
   "outputs": [
    {
     "data": {
      "image/png": "[encoded data removed]",
      "text/plain": [
       "<Figure size 432x288 with 1 Axes>"
      ]
     },
     "metadata": {},
     "output_type": "display_data"
    }
   ],
   "source": [
    "d_train.Label.value_counts().plot(kind='pie', autopct='%1.1f%%')\n",
    "plt.savefig('../figures/label_dist.png')"
   ]
  },
  {
   "cell_type": "code",
   "execution_count": 49,
   "metadata": {
    "scrolled": true
   },
   "outputs": [
    {
     "name": "stdout",
     "output_type": "stream",
     "text": [
      "ROREC NATURAL SKIN CARE MASK ROREC SHEET MASK MASKER WAJAH MASK SHEET MASKER TOPENG SKINCARE\n",
      "Rorec 86 Natural Skin Care Shert Mask All Variant\n",
      "\n",
      "\n",
      "rokok elektrik evod 1100mAh\n",
      "rokok elektric evod 1100mah\n",
      "\n",
      "\n",
      "HIJAB INSTAN / JILBAB SERUT JOKOWI ADIBA\n",
      "JILBAB SERUT ADIBA JOKOWI POLOS (1KG=10PCS) / JILBAB INSTAN\n",
      "\n",
      "\n",
      "Juice Cup Blender Mini Portable/USB Blender Juicer/Alat Pembuat Jus\n",
      "Blender Juice CUP Mini Portable\n",
      "\n",
      "\n",
      "BATAMGROSIR.ID | PULPEN BTS - BANGTAN BOYS - ARMY - PENA BTS - PENA BTS - PENA BT21 - PULPEN BT21\n",
      "PULPEN KARAKTER BT21 / UNICORN / BANGTAN BOYS - ARMY - PENA BTS\n",
      "\n",
      "\n",
      "Pompa ASI Real Bubee Double Electric Beast Pump - B10007\n",
      "Pompa ASI Real Bubee Double Electric Beast Pump ~ su185\n",
      "\n",
      "\n",
      "freemir Set Alat Makan Wheat Straw Tableware 4 in 1\n",
      "ALAT MAKAN WHEAT STRAW TABLEWARE 4 PCS\n",
      "\n",
      "\n",
      "KAOS RINGER TEE L POLOS / BAHAN TEBAL / ASLI SPANDEX SOFT / KAOS WANITA TERLARIS / TSHIRT\n",
      "ZAYA - KAOS RINGER TEE POLOS\n",
      "\n",
      "\n",
      "PROMO: PROFELIN Kaleng bisa utk JUNIOR & ADULT 400gr\n",
      "Big Promo Profelin Wet Food Kaleng 400 Gram for Kitten & Adult (All Stages) ....\n",
      "\n",
      "\n",
      "Kasur Kelambu Bayi Set Bantal Guling PREMIUM / Kasur Lipat Kelambu Bayi / Kasur Kelambu /Kasur Bayi\n",
      "Kasur Kelambu Bayi Set Bantal Guling PREMIUM / Kasur Lipat Kelambu Bayi / Kasur Kelambu /Kasur Bayi\n",
      "\n",
      "\n",
      "【dudubaba】Piyama Set Baju Atasan Blus Lengan Panjang Gambar Binatang+Celana untuk Bayi Laki-laki\n",
      "Setelan Piyama Lengan Panjang Motif Print Kartun Hewan + Celana untuk Bayi 0-6 Tahun\n",
      "\n",
      "\n",
      "[Original Murah] Bolt Repack 1 kg / Makanan Kucing / Cat Food\n",
      "[Original] Bolt Repack 500 gr / Makanan Kucing / Cat Food\n",
      "\n",
      "\n",
      "Tas Organizer Kosmetik / Makeup / Alat Mandi Bahan PVC untuk Travel\n",
      "[Bayar Di Tempat]Tempat Pensil Model Korea Motif Kartun Transparan untuk Pelajar\n",
      "\n",
      "\n",
      "KARDIGAN SELLY\n",
      "Buruan Serbu Outer Wanita Cardigan Murah / Vest / Cardygan / Cardy - Putih\n",
      "\n",
      "\n",
      "Headset Samsung Original Cabutan J1 J2 J3 J1 Ace J5 J7 2015 2016 2017 Handfree Earphone Support Mic\n",
      "Handset samsung HS330\n",
      "\n",
      "\n",
      "[Bayar Di Tempat]O.TWO.O Gold Mascara Waterproof Long Lasting Curling Eyelash Cosmetics\n",
      "O.TWO.O Gold Mascara Waterproof Long Lasting Curling Eyelash Cosmetics 9981\n",
      "\n",
      "\n",
      "izany boxer random\n",
      "Izany celana pendek Boxer size XL\n",
      "\n",
      "\n",
      "Rak serbaguna kain 5 tingkat 4 susun rak buku portable lemari multi fungsi\n",
      "Rak lemari serbaguna 5 tingkat 4 susun rak buku portable lemari multi fungsi - pink polka\n",
      "\n",
      "\n",
      "Bubble Wrap\n",
      "extra bubble wrap GOSEND / BAHAN KACA FRAGILE\n",
      "\n",
      "\n",
      "(COD) KAOS ANAK LED LOL /Kaos SUPERHERO LED lampu 2 1-8TH / PAYET DI JAHIT LED 2 [Z.R]\n",
      "Baju kaos LOL LED kid WA\n",
      "\n",
      "\n"
     ]
    }
   ],
   "source": [
    "for row in d_train.loc[d_train[\"Label\"] == 1, [\"title_1\", \"title_2\", \"Label\"]].to_dict(orient='records')[:20]:\n",
    "    print(row['title_1'])\n",
    "    print(row['title_2'])\n",
    "    print(\"\\n\")"
   ]
  },
  {
   "cell_type": "code",
   "execution_count": 50,
   "metadata": {
    "scrolled": true
   },
   "outputs": [
    {
     "name": "stdout",
     "output_type": "stream",
     "text": [
      "Johnson’s ® Top to Toe Hair & Body Bath 500ml\n",
      "Johnson's cottontouch top to toe hair & body baby bath 500 ml\n",
      "\n",
      "\n",
      "Sandal Humble\n",
      "Sandal Humble Glass - Glanzton\n",
      "\n",
      "\n",
      "PROMO LIKUID LIKUIT LIQUIT BABY POD LIQUID SALT POD 15ML 10RASA\n",
      "Voporizer Liquit - Likuit - Likuid - Liquid Premium Berry Banana Mochi 60ML 3MG - Bananalicious\n",
      "\n",
      "\n",
      "6 Pasang / Set Anting Tusuk Bentuk Lingkaran Aksen Mutiara + Rumbai Gaya Bohemian untuk Wanita\n",
      "Subei 6 Pasang / Set Anting Tusuk Boho Bohemia Desain Geometri Hias Kristal / Rumbai untuk Wanita\n",
      "\n",
      "\n",
      "Hijab bergo 1 layer tali nonpet hijab instant diamond strecht\n",
      "Khimar tali belakang\n",
      "\n",
      "\n",
      "Korea 2019 Versi Korea Dari Musim Gugur Baru Sastra Retro Peas Sepatu Wanita Fila Perempuan New Year\n",
      "Korea 2019 Versi Korea Dari Musim Gugur Baru Sastra Retro Peas Sepatu Wanita Fila Perempuan New Year\n",
      "\n",
      "\n",
      "AlQuran Mudah Hafal A5\n",
      "Al Quran AL HUFAZ A5 (biru) Al Quran Hafalan Mudah Terjemah & Tajwid Warna - Cordoba\n",
      "\n",
      "\n",
      "【12.12】Ready Stok / Romper Bayi Laki-laki / Perempuan Lengan Pendek Tulisan Babi Jumper Pakaian Bayi\n",
      "Ready Stok / Romper Bayi Laki-laki / Perempuan Lengan Pendek Tulisan Babi Jumper Pakaian Bayi\n",
      "\n",
      "\n",
      "CHANEL BESI / SELEMPANG / BISA COD MIN ORDER 2 / REAL PICTURE\n",
      "DOMPET CHANEL 2 RUANG / BISA COD / REAL PICTURE / SELEMPANG / WANITA / KERANG / TERMUrah / BATAm\n",
      "\n",
      "\n",
      "KERIPIK BELING 1/2 KG\n",
      "[ 1 kg ] Keripik kaca / keripik beling\n",
      "\n",
      "\n",
      "YIYI Bra Fashion Wanita Bra Wanita Murah BH Busa Tipis Tanpa Kawat Push Up Bra REAL PIC\n",
      "YIYI Bra Fashion Wanita Bra Wanita Murah BH Busa Tipis Tanpa Kawat Push Up Bra REAL PIC\n",
      "\n",
      "\n",
      "4WD RC Rock Crawler Remote Control OFFROAD 1:16 RC Truck Crawler RC\n",
      "RC Mobil Mainan Rock Crawler 1:16 Off Road 2.4GHz 4WD - Mobil Remot Kontrol\n",
      "\n",
      "\n",
      "Fygalery PROMO Tumblr Light Lampu tumblr lampu natal lampu led lampu hias ricelamp 10 Meter\n",
      "PROMO Tumblr 10 Meter 100 led Light Lampu tumblr lampu natal lampu led lampu hias ricelamp Padang\n",
      "\n",
      "\n",
      "Vaseline Lotion Healthy White Uv Lightening 400Ml Twin Pack\n",
      "VASELINE Healthy White UV Lightening Lotion 400ml\n",
      "\n",
      "\n",
      "S-26 Procal Gold Tahap 3 Vanila Susu Pertumbuhan Anak Usia 1-3 Tahun Kaleng 1600Gr\n",
      "S-26 Procal Tahap 3 Vanila Susu Pertumbuhan Anak Usia 1-3 Tahun Kotak 700Gr\n",
      "\n",
      "\n",
      "HIJAB INSTAN / JILBAB SERUT JOKOWI ADIBA\n",
      "Hijab Jilbab Serut Jokowi ADIBA Instan Seri 2 ? HIJAB INSTAN SERUT JOKOWI 2\n",
      "\n",
      "\n",
      "PREMIUM RAJUT LOOCY OVERSIZED OUTHER CARDIE\n",
      "PREMIUM RAJUT KUMI OVERSIZED OUTHER CARDIE\n",
      "\n",
      "\n",
      "Philips MyCare 4Watt Lampu LED Bulb EyeComfort - Putih\n",
      "NEW! PHILIPS MYCARE 8WATT MULTIPACK 4PCS LAMPU LED BULB EYECOMFORT - PUTIH UNIK\n",
      "\n",
      "\n",
      "Ultra Memory Card 128GB 64GB 32GB 16GB 16GB 8GB Micro SDHC UHS-1 c10 A1 98mb / S\n",
      "SanDisk memory card A1 128GB 100mb/s micro SD Card 32gb class 10 SDXC 64gb Ultra SDHC 32gb 16gb\n",
      "\n",
      "\n",
      "TAS FY SLEMPANG FASHION KOPER MINI FASHION\n",
      "【Bisa Dikirim Segera】ORI FY LOGO MARBLE TAS KOPER MINI FOREVER YOUNG TAS WANITA SLEMPANG On\n",
      "\n",
      "\n"
     ]
    }
   ],
   "source": [
    "for row in d_train.loc[d_train[\"Label\"] == 0, [\"title_1\", \"title_2\", \"Label\"]].to_dict(orient='records')[:20]:\n",
    "    print(row['title_1'])\n",
    "    print(row['title_2'])\n",
    "    print(\"\\n\")"
   ]
  },
  {
   "cell_type": "code",
   "execution_count": null,
   "metadata": {},
   "outputs": [],
   "source": []
  }
 ],
 "metadata": {
  "kernelspec": {
   "display_name": "Python 3",
   "language": "python",
   "name": "python3"
  },
  "language_info": {
   "codemirror_mode": {
    "name": "ipython",
    "version": 3
   },
   "file_extension": ".py",
   "mimetype": "text/x-python",
   "name": "python",
   "nbconvert_exporter": "python",
   "pygments_lexer": "ipython3",
   "version": "3.8.3"
  }
 },
 "nbformat": 4,
 "nbformat_minor": 4
}
