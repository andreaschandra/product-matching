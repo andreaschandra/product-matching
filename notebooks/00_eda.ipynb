{
 "cells": [
  {
   "cell_type": "code",
   "execution_count": 112,
   "metadata": {},
   "outputs": [],
   "source": [
    "import os\n",
    "import re\n",
    "import pandas as pd\n",
    "import matplotlib.pyplot as plt\n",
    "import seaborn as sns"
   ]
  },
  {
   "cell_type": "code",
   "execution_count": 43,
   "metadata": {},
   "outputs": [],
   "source": [
    "data_path = \"../data/raw\""
   ]
  },
  {
   "cell_type": "code",
   "execution_count": 44,
   "metadata": {},
   "outputs": [],
   "source": [
    "d_train = pd.read_csv(os.path.join(data_path, \"new_training_set.csv\"),\n",
    "                      usecols=[\"title_1\", \"image_1\", \"title_2\", \"image_2\", \"Label\"])"
   ]
  },
  {
   "cell_type": "code",
   "execution_count": 45,
   "metadata": {},
   "outputs": [],
   "source": [
    "d_test = pd.read_csv(os.path.join(data_path, \"new_test_sample.csv\"))"
   ]
  },
  {
   "cell_type": "code",
   "execution_count": 46,
   "metadata": {},
   "outputs": [
    {
     "data": {
      "text/plain": [
       "(10181, 5)"
      ]
     },
     "execution_count": 46,
     "metadata": {},
     "output_type": "execute_result"
    }
   ],
   "source": [
    "d_train.shape"
   ]
  },
  {
   "cell_type": "code",
   "execution_count": 47,
   "metadata": {},
   "outputs": [
    {
     "data": {
      "text/plain": [
       "(207, 5)"
      ]
     },
     "execution_count": 47,
     "metadata": {},
     "output_type": "execute_result"
    }
   ],
   "source": [
    "d_test.shape"
   ]
  },
  {
   "cell_type": "code",
   "execution_count": 48,
   "metadata": {},
   "outputs": [
    {
     "data": {
      "text/html": [
       "<div>\n",
       "<style scoped>\n",
       "    .dataframe tbody tr th:only-of-type {\n",
       "        vertical-align: middle;\n",
       "    }\n",
       "\n",
       "    .dataframe tbody tr th {\n",
       "        vertical-align: top;\n",
       "    }\n",
       "\n",
       "    .dataframe thead th {\n",
       "        text-align: right;\n",
       "    }\n",
       "</style>\n",
       "<table border=\"1\" class=\"dataframe\">\n",
       "  <thead>\n",
       "    <tr style=\"text-align: right;\">\n",
       "      <th></th>\n",
       "      <th>title_1</th>\n",
       "      <th>image_1</th>\n",
       "      <th>title_2</th>\n",
       "      <th>image_2</th>\n",
       "      <th>Label</th>\n",
       "    </tr>\n",
       "  </thead>\n",
       "  <tbody>\n",
       "    <tr>\n",
       "      <th>0</th>\n",
       "      <td>Johnson’s ® Top to Toe Hair &amp; Body Bath 500ml</td>\n",
       "      <td>fdff8b9b8229da091dd7d070aae05f81.jpg</td>\n",
       "      <td>Johnson's cottontouch top to toe hair &amp; body b...</td>\n",
       "      <td>41e191742760932598c7bd201e5dad47.jpg</td>\n",
       "      <td>0</td>\n",
       "    </tr>\n",
       "    <tr>\n",
       "      <th>1</th>\n",
       "      <td>Sandal Humble</td>\n",
       "      <td>906cc44f0be72d4e767669b5b63e3a17.jpg</td>\n",
       "      <td>Sandal Humble Glass - Glanzton</td>\n",
       "      <td>7a556b836bfdd08ea592216440524a34.jpg</td>\n",
       "      <td>0</td>\n",
       "    </tr>\n",
       "    <tr>\n",
       "      <th>2</th>\n",
       "      <td>PROMO LIKUID LIKUIT LIQUIT BABY POD LIQUID SAL...</td>\n",
       "      <td>475c26635de18b9f93032400732ff336.jpg</td>\n",
       "      <td>Voporizer Liquit - Likuit - Likuid - Liquid Pr...</td>\n",
       "      <td>ace93bec689f3f1565800c500a8341fa.jpg</td>\n",
       "      <td>0</td>\n",
       "    </tr>\n",
       "    <tr>\n",
       "      <th>3</th>\n",
       "      <td>6 Pasang / Set Anting Tusuk Bentuk Lingkaran A...</td>\n",
       "      <td>e630997f6217555d6026547ad1c15f0b.jpg</td>\n",
       "      <td>Subei 6 Pasang / Set Anting Tusuk Boho Bohemia...</td>\n",
       "      <td>31abbc176b09f5bd1728cfc3ecbbfb9c.jpg</td>\n",
       "      <td>0</td>\n",
       "    </tr>\n",
       "    <tr>\n",
       "      <th>4</th>\n",
       "      <td>ROREC NATURAL SKIN CARE MASK ROREC SHEET MASK ...</td>\n",
       "      <td>a27d11700a7902febd039dc3a96f10f2.jpg</td>\n",
       "      <td>Rorec 86 Natural Skin Care Shert Mask All Variant</td>\n",
       "      <td>813ad9dd638c10f1765db9dde20c9e42.jpg</td>\n",
       "      <td>1</td>\n",
       "    </tr>\n",
       "  </tbody>\n",
       "</table>\n",
       "</div>"
      ],
      "text/plain": [
       "                                             title_1  \\\n",
       "0      Johnson’s ® Top to Toe Hair & Body Bath 500ml   \n",
       "1                                      Sandal Humble   \n",
       "2  PROMO LIKUID LIKUIT LIQUIT BABY POD LIQUID SAL...   \n",
       "3  6 Pasang / Set Anting Tusuk Bentuk Lingkaran A...   \n",
       "4  ROREC NATURAL SKIN CARE MASK ROREC SHEET MASK ...   \n",
       "\n",
       "                                image_1  \\\n",
       "0  fdff8b9b8229da091dd7d070aae05f81.jpg   \n",
       "1  906cc44f0be72d4e767669b5b63e3a17.jpg   \n",
       "2  475c26635de18b9f93032400732ff336.jpg   \n",
       "3  e630997f6217555d6026547ad1c15f0b.jpg   \n",
       "4  a27d11700a7902febd039dc3a96f10f2.jpg   \n",
       "\n",
       "                                             title_2  \\\n",
       "0  Johnson's cottontouch top to toe hair & body b...   \n",
       "1                     Sandal Humble Glass - Glanzton   \n",
       "2  Voporizer Liquit - Likuit - Likuid - Liquid Pr...   \n",
       "3  Subei 6 Pasang / Set Anting Tusuk Boho Bohemia...   \n",
       "4  Rorec 86 Natural Skin Care Shert Mask All Variant   \n",
       "\n",
       "                                image_2  Label  \n",
       "0  41e191742760932598c7bd201e5dad47.jpg      0  \n",
       "1  7a556b836bfdd08ea592216440524a34.jpg      0  \n",
       "2  ace93bec689f3f1565800c500a8341fa.jpg      0  \n",
       "3  31abbc176b09f5bd1728cfc3ecbbfb9c.jpg      0  \n",
       "4  813ad9dd638c10f1765db9dde20c9e42.jpg      1  "
      ]
     },
     "execution_count": 48,
     "metadata": {},
     "output_type": "execute_result"
    }
   ],
   "source": [
    "d_train.head()"
   ]
  },
  {
   "cell_type": "code",
   "execution_count": 49,
   "metadata": {},
   "outputs": [
    {
     "data": {
      "text/html": [
       "<div>\n",
       "<style scoped>\n",
       "    .dataframe tbody tr th:only-of-type {\n",
       "        vertical-align: middle;\n",
       "    }\n",
       "\n",
       "    .dataframe tbody tr th {\n",
       "        vertical-align: top;\n",
       "    }\n",
       "\n",
       "    .dataframe thead th {\n",
       "        text-align: right;\n",
       "    }\n",
       "</style>\n",
       "<table border=\"1\" class=\"dataframe\">\n",
       "  <thead>\n",
       "    <tr style=\"text-align: right;\">\n",
       "      <th></th>\n",
       "      <th>Unnamed: 0</th>\n",
       "      <th>title_1</th>\n",
       "      <th>image_1</th>\n",
       "      <th>title_2</th>\n",
       "      <th>image_2</th>\n",
       "    </tr>\n",
       "  </thead>\n",
       "  <tbody>\n",
       "    <tr>\n",
       "      <th>0</th>\n",
       "      <td>0</td>\n",
       "      <td>12.12 SUPER PROMO !! Sandal Jepit Pantai Fashion</td>\n",
       "      <td>83d1798fee1c90c2845204d9261169bb.jpg</td>\n",
       "      <td>Clarisse CRAZY OFFER Beli 5 Dapet 12 POLKA SUM...</td>\n",
       "      <td>caba83a8a7f9def9c4d268b6c34da7f4.jpg</td>\n",
       "    </tr>\n",
       "    <tr>\n",
       "      <th>1</th>\n",
       "      <td>1</td>\n",
       "      <td>Damai fashion jakarta - long dress JUMBO wanit...</td>\n",
       "      <td>126868769ca4a4694d36d28960f9de8a.jpg</td>\n",
       "      <td>[VIP] kasih fashion jakarta - long dress JUMBO...</td>\n",
       "      <td>7fdfe855a7be9c87238757c43b712b81.jpg</td>\n",
       "    </tr>\n",
       "    <tr>\n",
       "      <th>2</th>\n",
       "      <td>2</td>\n",
       "      <td>My Baby Minyak Telon 145 ML</td>\n",
       "      <td>86aee3dc281911f5f9d50fea17b978f0.jpg</td>\n",
       "      <td>My Baby Minyak Telon Plus 145 Ml 4btl kemasan ...</td>\n",
       "      <td>0ec544d3d4169df76ae156e76c724f0c.jpg</td>\n",
       "    </tr>\n",
       "    <tr>\n",
       "      <th>3</th>\n",
       "      <td>3</td>\n",
       "      <td>Creative Waterborne Marker Very Fine Double - ...</td>\n",
       "      <td>40ef98354335cf4780937da703ed6d65.jpg</td>\n",
       "      <td>SOMETHINC BROW WIZ Retractable Eyebrow</td>\n",
       "      <td>9cf798e5f940429f14b4af0fd48992a4.jpg</td>\n",
       "    </tr>\n",
       "    <tr>\n",
       "      <th>4</th>\n",
       "      <td>4</td>\n",
       "      <td>Goblin♛ COD Tas Ransel Anak Sekolah Karakter K...</td>\n",
       "      <td>c28512df97d0fc1d61fd30de966e01c3.jpg</td>\n",
       "      <td>TAS KARAKTER ANAK LUCU</td>\n",
       "      <td>a4c09a46d8b1adda43a2433d40bba583.jpg</td>\n",
       "    </tr>\n",
       "  </tbody>\n",
       "</table>\n",
       "</div>"
      ],
      "text/plain": [
       "   Unnamed: 0                                            title_1  \\\n",
       "0           0   12.12 SUPER PROMO !! Sandal Jepit Pantai Fashion   \n",
       "1           1  Damai fashion jakarta - long dress JUMBO wanit...   \n",
       "2           2                        My Baby Minyak Telon 145 ML   \n",
       "3           3  Creative Waterborne Marker Very Fine Double - ...   \n",
       "4           4  Goblin♛ COD Tas Ransel Anak Sekolah Karakter K...   \n",
       "\n",
       "                                image_1  \\\n",
       "0  83d1798fee1c90c2845204d9261169bb.jpg   \n",
       "1  126868769ca4a4694d36d28960f9de8a.jpg   \n",
       "2  86aee3dc281911f5f9d50fea17b978f0.jpg   \n",
       "3  40ef98354335cf4780937da703ed6d65.jpg   \n",
       "4  c28512df97d0fc1d61fd30de966e01c3.jpg   \n",
       "\n",
       "                                             title_2  \\\n",
       "0  Clarisse CRAZY OFFER Beli 5 Dapet 12 POLKA SUM...   \n",
       "1  [VIP] kasih fashion jakarta - long dress JUMBO...   \n",
       "2  My Baby Minyak Telon Plus 145 Ml 4btl kemasan ...   \n",
       "3             SOMETHINC BROW WIZ Retractable Eyebrow   \n",
       "4                             TAS KARAKTER ANAK LUCU   \n",
       "\n",
       "                                image_2  \n",
       "0  caba83a8a7f9def9c4d268b6c34da7f4.jpg  \n",
       "1  7fdfe855a7be9c87238757c43b712b81.jpg  \n",
       "2  0ec544d3d4169df76ae156e76c724f0c.jpg  \n",
       "3  9cf798e5f940429f14b4af0fd48992a4.jpg  \n",
       "4  a4c09a46d8b1adda43a2433d40bba583.jpg  "
      ]
     },
     "execution_count": 49,
     "metadata": {},
     "output_type": "execute_result"
    }
   ],
   "source": [
    "d_test.head()"
   ]
  },
  {
   "cell_type": "code",
   "execution_count": 50,
   "metadata": {},
   "outputs": [
    {
     "data": {
      "text/plain": [
       "title_1    0\n",
       "image_1    0\n",
       "title_2    2\n",
       "image_2    0\n",
       "Label      0\n",
       "dtype: int64"
      ]
     },
     "execution_count": 50,
     "metadata": {},
     "output_type": "execute_result"
    }
   ],
   "source": [
    "d_train.isna().sum()"
   ]
  },
  {
   "cell_type": "code",
   "execution_count": 51,
   "metadata": {},
   "outputs": [
    {
     "data": {
      "image/png": "[encoded data removed]",
      "text/plain": [
       "<Figure size 432x288 with 1 Axes>"
      ]
     },
     "metadata": {},
     "output_type": "display_data"
    }
   ],
   "source": [
    "d_train.Label.value_counts().plot(kind='pie', autopct='%1.1f%%')\n",
    "plt.savefig('../figures/label_dist.png')"
   ]
  },
  {
   "cell_type": "code",
   "execution_count": 52,
   "metadata": {
    "scrolled": true
   },
   "outputs": [
    {
     "name": "stdout",
     "output_type": "stream",
     "text": [
      "ROREC NATURAL SKIN CARE MASK ROREC SHEET MASK MASKER WAJAH MASK SHEET MASKER TOPENG SKINCARE\n",
      "Rorec 86 Natural Skin Care Shert Mask All Variant\n",
      "\n",
      "\n",
      "rokok elektrik evod 1100mAh\n",
      "rokok elektric evod 1100mah\n",
      "\n",
      "\n",
      "HIJAB INSTAN / JILBAB SERUT JOKOWI ADIBA\n",
      "JILBAB SERUT ADIBA JOKOWI POLOS (1KG=10PCS) / JILBAB INSTAN\n",
      "\n",
      "\n",
      "Juice Cup Blender Mini Portable/USB Blender Juicer/Alat Pembuat Jus\n",
      "Blender Juice CUP Mini Portable\n",
      "\n",
      "\n",
      "BATAMGROSIR.ID | PULPEN BTS - BANGTAN BOYS - ARMY - PENA BTS - PENA BTS - PENA BT21 - PULPEN BT21\n",
      "PULPEN KARAKTER BT21 / UNICORN / BANGTAN BOYS - ARMY - PENA BTS\n",
      "\n",
      "\n",
      "Pompa ASI Real Bubee Double Electric Beast Pump - B10007\n",
      "Pompa ASI Real Bubee Double Electric Beast Pump ~ su185\n",
      "\n",
      "\n",
      "freemir Set Alat Makan Wheat Straw Tableware 4 in 1\n",
      "ALAT MAKAN WHEAT STRAW TABLEWARE 4 PCS\n",
      "\n",
      "\n",
      "KAOS RINGER TEE L POLOS / BAHAN TEBAL / ASLI SPANDEX SOFT / KAOS WANITA TERLARIS / TSHIRT\n",
      "ZAYA - KAOS RINGER TEE POLOS\n",
      "\n",
      "\n",
      "PROMO: PROFELIN Kaleng bisa utk JUNIOR & ADULT 400gr\n",
      "Big Promo Profelin Wet Food Kaleng 400 Gram for Kitten & Adult (All Stages) ....\n",
      "\n",
      "\n",
      "Kasur Kelambu Bayi Set Bantal Guling PREMIUM / Kasur Lipat Kelambu Bayi / Kasur Kelambu /Kasur Bayi\n",
      "Kasur Kelambu Bayi Set Bantal Guling PREMIUM / Kasur Lipat Kelambu Bayi / Kasur Kelambu /Kasur Bayi\n",
      "\n",
      "\n",
      "【dudubaba】Piyama Set Baju Atasan Blus Lengan Panjang Gambar Binatang+Celana untuk Bayi Laki-laki\n",
      "Setelan Piyama Lengan Panjang Motif Print Kartun Hewan + Celana untuk Bayi 0-6 Tahun\n",
      "\n",
      "\n",
      "[Original Murah] Bolt Repack 1 kg / Makanan Kucing / Cat Food\n",
      "[Original] Bolt Repack 500 gr / Makanan Kucing / Cat Food\n",
      "\n",
      "\n",
      "Tas Organizer Kosmetik / Makeup / Alat Mandi Bahan PVC untuk Travel\n",
      "[Bayar Di Tempat]Tempat Pensil Model Korea Motif Kartun Transparan untuk Pelajar\n",
      "\n",
      "\n",
      "KARDIGAN SELLY\n",
      "Buruan Serbu Outer Wanita Cardigan Murah / Vest / Cardygan / Cardy - Putih\n",
      "\n",
      "\n",
      "Headset Samsung Original Cabutan J1 J2 J3 J1 Ace J5 J7 2015 2016 2017 Handfree Earphone Support Mic\n",
      "Handset samsung HS330\n",
      "\n",
      "\n",
      "[Bayar Di Tempat]O.TWO.O Gold Mascara Waterproof Long Lasting Curling Eyelash Cosmetics\n",
      "O.TWO.O Gold Mascara Waterproof Long Lasting Curling Eyelash Cosmetics 9981\n",
      "\n",
      "\n",
      "izany boxer random\n",
      "Izany celana pendek Boxer size XL\n",
      "\n",
      "\n",
      "Rak serbaguna kain 5 tingkat 4 susun rak buku portable lemari multi fungsi\n",
      "Rak lemari serbaguna 5 tingkat 4 susun rak buku portable lemari multi fungsi - pink polka\n",
      "\n",
      "\n",
      "Bubble Wrap\n",
      "extra bubble wrap GOSEND / BAHAN KACA FRAGILE\n",
      "\n",
      "\n",
      "(COD) KAOS ANAK LED LOL /Kaos SUPERHERO LED lampu 2 1-8TH / PAYET DI JAHIT LED 2 [Z.R]\n",
      "Baju kaos LOL LED kid WA\n",
      "\n",
      "\n"
     ]
    }
   ],
   "source": [
    "for row in d_train.loc[d_train[\"Label\"] == 1, [\"title_1\", \"title_2\", \"Label\"]].to_dict(orient='records')[:20]:\n",
    "    print(row['title_1'])\n",
    "    print(row['title_2'])\n",
    "    print(\"\\n\")"
   ]
  },
  {
   "cell_type": "code",
   "execution_count": 53,
   "metadata": {
    "scrolled": true
   },
   "outputs": [
    {
     "name": "stdout",
     "output_type": "stream",
     "text": [
      "Johnson’s ® Top to Toe Hair & Body Bath 500ml\n",
      "Johnson's cottontouch top to toe hair & body baby bath 500 ml\n",
      "\n",
      "\n",
      "Sandal Humble\n",
      "Sandal Humble Glass - Glanzton\n",
      "\n",
      "\n",
      "PROMO LIKUID LIKUIT LIQUIT BABY POD LIQUID SALT POD 15ML 10RASA\n",
      "Voporizer Liquit - Likuit - Likuid - Liquid Premium Berry Banana Mochi 60ML 3MG - Bananalicious\n",
      "\n",
      "\n",
      "6 Pasang / Set Anting Tusuk Bentuk Lingkaran Aksen Mutiara + Rumbai Gaya Bohemian untuk Wanita\n",
      "Subei 6 Pasang / Set Anting Tusuk Boho Bohemia Desain Geometri Hias Kristal / Rumbai untuk Wanita\n",
      "\n",
      "\n",
      "Hijab bergo 1 layer tali nonpet hijab instant diamond strecht\n",
      "Khimar tali belakang\n",
      "\n",
      "\n",
      "Korea 2019 Versi Korea Dari Musim Gugur Baru Sastra Retro Peas Sepatu Wanita Fila Perempuan New Year\n",
      "Korea 2019 Versi Korea Dari Musim Gugur Baru Sastra Retro Peas Sepatu Wanita Fila Perempuan New Year\n",
      "\n",
      "\n",
      "AlQuran Mudah Hafal A5\n",
      "Al Quran AL HUFAZ A5 (biru) Al Quran Hafalan Mudah Terjemah & Tajwid Warna - Cordoba\n",
      "\n",
      "\n",
      "【12.12】Ready Stok / Romper Bayi Laki-laki / Perempuan Lengan Pendek Tulisan Babi Jumper Pakaian Bayi\n",
      "Ready Stok / Romper Bayi Laki-laki / Perempuan Lengan Pendek Tulisan Babi Jumper Pakaian Bayi\n",
      "\n",
      "\n",
      "CHANEL BESI / SELEMPANG / BISA COD MIN ORDER 2 / REAL PICTURE\n",
      "DOMPET CHANEL 2 RUANG / BISA COD / REAL PICTURE / SELEMPANG / WANITA / KERANG / TERMUrah / BATAm\n",
      "\n",
      "\n",
      "KERIPIK BELING 1/2 KG\n",
      "[ 1 kg ] Keripik kaca / keripik beling\n",
      "\n",
      "\n",
      "YIYI Bra Fashion Wanita Bra Wanita Murah BH Busa Tipis Tanpa Kawat Push Up Bra REAL PIC\n",
      "YIYI Bra Fashion Wanita Bra Wanita Murah BH Busa Tipis Tanpa Kawat Push Up Bra REAL PIC\n",
      "\n",
      "\n",
      "4WD RC Rock Crawler Remote Control OFFROAD 1:16 RC Truck Crawler RC\n",
      "RC Mobil Mainan Rock Crawler 1:16 Off Road 2.4GHz 4WD - Mobil Remot Kontrol\n",
      "\n",
      "\n",
      "Fygalery PROMO Tumblr Light Lampu tumblr lampu natal lampu led lampu hias ricelamp 10 Meter\n",
      "PROMO Tumblr 10 Meter 100 led Light Lampu tumblr lampu natal lampu led lampu hias ricelamp Padang\n",
      "\n",
      "\n",
      "Vaseline Lotion Healthy White Uv Lightening 400Ml Twin Pack\n",
      "VASELINE Healthy White UV Lightening Lotion 400ml\n",
      "\n",
      "\n",
      "S-26 Procal Gold Tahap 3 Vanila Susu Pertumbuhan Anak Usia 1-3 Tahun Kaleng 1600Gr\n",
      "S-26 Procal Tahap 3 Vanila Susu Pertumbuhan Anak Usia 1-3 Tahun Kotak 700Gr\n",
      "\n",
      "\n",
      "HIJAB INSTAN / JILBAB SERUT JOKOWI ADIBA\n",
      "Hijab Jilbab Serut Jokowi ADIBA Instan Seri 2 ? HIJAB INSTAN SERUT JOKOWI 2\n",
      "\n",
      "\n",
      "PREMIUM RAJUT LOOCY OVERSIZED OUTHER CARDIE\n",
      "PREMIUM RAJUT KUMI OVERSIZED OUTHER CARDIE\n",
      "\n",
      "\n",
      "Philips MyCare 4Watt Lampu LED Bulb EyeComfort - Putih\n",
      "NEW! PHILIPS MYCARE 8WATT MULTIPACK 4PCS LAMPU LED BULB EYECOMFORT - PUTIH UNIK\n",
      "\n",
      "\n",
      "Ultra Memory Card 128GB 64GB 32GB 16GB 16GB 8GB Micro SDHC UHS-1 c10 A1 98mb / S\n",
      "SanDisk memory card A1 128GB 100mb/s micro SD Card 32gb class 10 SDXC 64gb Ultra SDHC 32gb 16gb\n",
      "\n",
      "\n",
      "TAS FY SLEMPANG FASHION KOPER MINI FASHION\n",
      "【Bisa Dikirim Segera】ORI FY LOGO MARBLE TAS KOPER MINI FOREVER YOUNG TAS WANITA SLEMPANG On\n",
      "\n",
      "\n"
     ]
    }
   ],
   "source": [
    "for row in d_train.loc[d_train[\"Label\"] == 0, [\"title_1\", \"title_2\", \"Label\"]].to_dict(orient='records')[:20]:\n",
    "    print(row['title_1'])\n",
    "    print(row['title_2'])\n",
    "    print(\"\\n\")"
   ]
  },
  {
   "cell_type": "markdown",
   "metadata": {},
   "source": [
    "## Need to cleansing\n",
    "\n",
    "- lower case\n",
    "- add space before|after symbol like ][\n",
    "- add space after number"
   ]
  },
  {
   "cell_type": "code",
   "execution_count": 54,
   "metadata": {},
   "outputs": [],
   "source": [
    "d_train.title_1 = d_train.title_1.str.lower()\n",
    "d_train.title_2 = d_train.title_2.str.lower()"
   ]
  },
  {
   "cell_type": "code",
   "execution_count": 55,
   "metadata": {},
   "outputs": [],
   "source": [
    "d_train.dropna(inplace=True)"
   ]
  },
  {
   "cell_type": "code",
   "execution_count": 89,
   "metadata": {},
   "outputs": [],
   "source": [
    "d_train['title_1_pre'] = d_train.title_1.apply(lambda x: re.sub('(\\d+)([a-zA-Z]+)', r'\\1 \\2', x))\n",
    "d_train['title_1_pre'] = d_train.title_1_pre.apply(lambda x: re.sub('\\]', r' ] ', x))\n",
    "d_train['title_1_pre'] = d_train.title_1_pre.apply(lambda x: re.sub('\\[', r' [ ', x))\n",
    "\n",
    "d_train['title_2_pre'] = d_train.title_2.apply(lambda x: re.sub('(\\d+)([a-zA-Z]+)', r'\\1 \\2', x))\n",
    "d_train['title_2_pre'] = d_train.title_2_pre.apply(lambda x: re.sub('\\]', r' ] ', x))\n",
    "d_train['title_2_pre'] = d_train.title_2_pre.apply(lambda x: re.sub('\\[', r' [ ', x))"
   ]
  },
  {
   "cell_type": "code",
   "execution_count": 90,
   "metadata": {
    "scrolled": true
   },
   "outputs": [
    {
     "data": {
      "text/html": [
       "<div>\n",
       "<style scoped>\n",
       "    .dataframe tbody tr th:only-of-type {\n",
       "        vertical-align: middle;\n",
       "    }\n",
       "\n",
       "    .dataframe tbody tr th {\n",
       "        vertical-align: top;\n",
       "    }\n",
       "\n",
       "    .dataframe thead th {\n",
       "        text-align: right;\n",
       "    }\n",
       "</style>\n",
       "<table border=\"1\" class=\"dataframe\">\n",
       "  <thead>\n",
       "    <tr style=\"text-align: right;\">\n",
       "      <th></th>\n",
       "      <th>title_1</th>\n",
       "      <th>image_1</th>\n",
       "      <th>title_2</th>\n",
       "      <th>image_2</th>\n",
       "      <th>Label</th>\n",
       "      <th>title_1_pre</th>\n",
       "      <th>title_1_unique</th>\n",
       "      <th>title_2_pre</th>\n",
       "      <th>title_2_unique</th>\n",
       "      <th>vocab</th>\n",
       "      <th>num_vocab</th>\n",
       "    </tr>\n",
       "  </thead>\n",
       "  <tbody>\n",
       "    <tr>\n",
       "      <th>0</th>\n",
       "      <td>johnson’s ® top to toe hair &amp; body bath 500ml</td>\n",
       "      <td>fdff8b9b8229da091dd7d070aae05f81.jpg</td>\n",
       "      <td>johnson's cottontouch top to toe hair &amp; body b...</td>\n",
       "      <td>41e191742760932598c7bd201e5dad47.jpg</td>\n",
       "      <td>0</td>\n",
       "      <td>johnson’s ® top to toe hair &amp; body bath 500 ml</td>\n",
       "      <td>[500, hair, to, ml, toe, johnson’s, top, body,...</td>\n",
       "      <td>johnson's cottontouch top to toe hair &amp; body b...</td>\n",
       "      <td>[cottontouch, hair, to, baby, ml, 50, 0, toe, ...</td>\n",
       "      <td>[500, hair, cottontouch, to, ml, baby, 50, 0, ...</td>\n",
       "      <td>16</td>\n",
       "    </tr>\n",
       "    <tr>\n",
       "      <th>1</th>\n",
       "      <td>sandal humble</td>\n",
       "      <td>906cc44f0be72d4e767669b5b63e3a17.jpg</td>\n",
       "      <td>sandal humble glass - glanzton</td>\n",
       "      <td>7a556b836bfdd08ea592216440524a34.jpg</td>\n",
       "      <td>0</td>\n",
       "      <td>sandal humble</td>\n",
       "      <td>[sandal, humble]</td>\n",
       "      <td>sandal humble glass - glanzton</td>\n",
       "      <td>[glanzton, sandal, glass, -, humble]</td>\n",
       "      <td>[glanzton, sandal, glass, -, humble]</td>\n",
       "      <td>5</td>\n",
       "    </tr>\n",
       "    <tr>\n",
       "      <th>2</th>\n",
       "      <td>promo likuid likuit liquit baby pod liquid sal...</td>\n",
       "      <td>475c26635de18b9f93032400732ff336.jpg</td>\n",
       "      <td>voporizer liquit - likuit - likuid - liquid pr...</td>\n",
       "      <td>ace93bec689f3f1565800c500a8341fa.jpg</td>\n",
       "      <td>0</td>\n",
       "      <td>promo likuid likuit liquit baby pod liquid sal...</td>\n",
       "      <td>[15, liquit, baby, ml, promo, 10, likuid, pod,...</td>\n",
       "      <td>voporizer liquit - likuit - likuid - liquid pr...</td>\n",
       "      <td>[3, liquid, liquit, bananalicious, ml, berry, ...</td>\n",
       "      <td>[liquid, 15, premium, rasa, mochi, salt, baby,...</td>\n",
       "      <td>22</td>\n",
       "    </tr>\n",
       "    <tr>\n",
       "      <th>3</th>\n",
       "      <td>6 pasang / set anting tusuk bentuk lingkaran a...</td>\n",
       "      <td>e630997f6217555d6026547ad1c15f0b.jpg</td>\n",
       "      <td>subei 6 pasang / set anting tusuk boho bohemia...</td>\n",
       "      <td>31abbc176b09f5bd1728cfc3ecbbfb9c.jpg</td>\n",
       "      <td>0</td>\n",
       "      <td>6 pasang / set anting tusuk bentuk lingkaran a...</td>\n",
       "      <td>[6, tusuk, aksen, lingkaran, bentuk, gaya, wan...</td>\n",
       "      <td>subei 6 pasang / set anting tusuk boho bohemia...</td>\n",
       "      <td>[kristal, 6, tusuk, subei, boho, bohemia, desa...</td>\n",
       "      <td>[tusuk, boho, rumbai, set, /, +, lingkaran, su...</td>\n",
       "      <td>23</td>\n",
       "    </tr>\n",
       "    <tr>\n",
       "      <th>4</th>\n",
       "      <td>rorec natural skin care mask rorec sheet mask ...</td>\n",
       "      <td>a27d11700a7902febd039dc3a96f10f2.jpg</td>\n",
       "      <td>rorec 86 natural skin care shert mask all variant</td>\n",
       "      <td>813ad9dd638c10f1765db9dde20c9e42.jpg</td>\n",
       "      <td>1</td>\n",
       "      <td>rorec natural skin care mask rorec sheet mask ...</td>\n",
       "      <td>[wajah, skincare, rorec, care, natural, masker...</td>\n",
       "      <td>rorec 86 natural skin care shert mask all variant</td>\n",
       "      <td>[shert, all, 6, care, natural, 8, variant, mas...</td>\n",
       "      <td>[wajah, skincare, shert, all, 6, care, natural...</td>\n",
       "      <td>15</td>\n",
       "    </tr>\n",
       "    <tr>\n",
       "      <th>...</th>\n",
       "      <td>...</td>\n",
       "      <td>...</td>\n",
       "      <td>...</td>\n",
       "      <td>...</td>\n",
       "      <td>...</td>\n",
       "      <td>...</td>\n",
       "      <td>...</td>\n",
       "      <td>...</td>\n",
       "      <td>...</td>\n",
       "      <td>...</td>\n",
       "      <td>...</td>\n",
       "    </tr>\n",
       "    <tr>\n",
       "      <th>10176</th>\n",
       "      <td>[bayar di tempat]o.two.o lipstick matte 12 war...</td>\n",
       "      <td>08f5ba211a48e9b66bbf0d0105272efb.jpg</td>\n",
       "      <td>o.two.o lipstick matte 12 warna (2 in 1)</td>\n",
       "      <td>08f5ba211a48e9b66bbf0d0105272efb.jpg</td>\n",
       "      <td>1</td>\n",
       "      <td>[ bayar di tempat ] o.two.o lipstick matte 12...</td>\n",
       "      <td>[], 1, tempat, warna, matte, [, lipstick, o.tw...</td>\n",
       "      <td>o.two.o lipstick matte 12 warna (2 in 1)</td>\n",
       "      <td>[1, warna, matte, lipstick, o.two.o, in, (2, 1...</td>\n",
       "      <td>[], 1, tempat, warna, matte, [, lipstick, o.tw...</td>\n",
       "      <td>14</td>\n",
       "    </tr>\n",
       "    <tr>\n",
       "      <th>10177</th>\n",
       "      <td>baso aci jeletot intans gurih khas kota garut</td>\n",
       "      <td>855daa89bf4f31cec0f40b144cdb283e.jpg</td>\n",
       "      <td>baso aci instan khas garut enak gurih..</td>\n",
       "      <td>ffad7f79772f4e482f420591848cd69e.jpg</td>\n",
       "      <td>0</td>\n",
       "      <td>baso aci jeletot intans gurih khas kota garut</td>\n",
       "      <td>[aci, baso, khas, jeletot, gurih, kota, garut,...</td>\n",
       "      <td>baso aci instan khas garut enak gurih..</td>\n",
       "      <td>[aci, baso, gurih.., khas, garut, enak, instan]</td>\n",
       "      <td>[aci, baso, gurih.., khas, jeletot, gurih, kot...</td>\n",
       "      <td>11</td>\n",
       "    </tr>\n",
       "    <tr>\n",
       "      <th>10178</th>\n",
       "      <td>minyak kutus kutus asli bali</td>\n",
       "      <td>9525365b5b15af5855abf9daf03da8b4.jpg</td>\n",
       "      <td>minyak kutus kutus tamba waras 100ml</td>\n",
       "      <td>7098a9638b9ad66fb8a7912201ec3d82.jpg</td>\n",
       "      <td>1</td>\n",
       "      <td>minyak kutus kutus asli bali</td>\n",
       "      <td>[asli, kutus, minyak, bali]</td>\n",
       "      <td>minyak kutus kutus tamba waras 100 ml</td>\n",
       "      <td>[ml, kutus, tamba, waras, minyak, 100]</td>\n",
       "      <td>[bali, asli, ml, kutus, tamba, minyak, waras, ...</td>\n",
       "      <td>8</td>\n",
       "    </tr>\n",
       "    <tr>\n",
       "      <th>10179</th>\n",
       "      <td>[1kg 13pcs] ❤ minimamy ❤ baju jumper pendek ka...</td>\n",
       "      <td>a245f49fdc9a03655d98e6a22a89cb7d.jpg</td>\n",
       "      <td>[1kg 13pcs] ❤ kiddikiddo❤ baju jumper kaos pen...</td>\n",
       "      <td>ea3e2af55a4ebcdb61bfb9f5da56d1bb.jpg</td>\n",
       "      <td>0</td>\n",
       "      <td>[ 1 kg 13 pcs ]  ❤ minimamy ❤ baju jumper pen...</td>\n",
       "      <td>[], 1, ❤, baju, pcs, kaos, dengan, [, minimamy...</td>\n",
       "      <td>[ 1 kg 13 pcs ]  ❤ kiddikiddo❤ baju jumper ka...</td>\n",
       "      <td>[], 1, ❤, baju, pcs, kaos, dengan, [, pendek, ...</td>\n",
       "      <td>[], 1, ❤, baju, pcs, kaos, dengan, 13, [, pend...</td>\n",
       "      <td>18</td>\n",
       "    </tr>\n",
       "    <tr>\n",
       "      <th>10180</th>\n",
       "      <td>somebymi snail true cica miracle repair serum ...</td>\n",
       "      <td>b53a42dc8c7642798a55f1f48834933f.jpg</td>\n",
       "      <td>some by mi snail true cica miracle repair seru...</td>\n",
       "      <td>1161b1cb24f4f160a087c977dbf4a013.jpg</td>\n",
       "      <td>1</td>\n",
       "      <td>somebymi snail true cica miracle repair serum ...</td>\n",
       "      <td>[ml, serum, snail, 50, true, somebymi, miracle...</td>\n",
       "      <td>some by mi snail true cica miracle repair seru...</td>\n",
       "      <td>[), ml, serum, snail, (, 50, true, mi, miracle...</td>\n",
       "      <td>[), ml, serum, snail, 50, (, true, somebymi, m...</td>\n",
       "      <td>14</td>\n",
       "    </tr>\n",
       "  </tbody>\n",
       "</table>\n",
       "<p>10179 rows × 11 columns</p>\n",
       "</div>"
      ],
      "text/plain": [
       "                                                 title_1  \\\n",
       "0          johnson’s ® top to toe hair & body bath 500ml   \n",
       "1                                          sandal humble   \n",
       "2      promo likuid likuit liquit baby pod liquid sal...   \n",
       "3      6 pasang / set anting tusuk bentuk lingkaran a...   \n",
       "4      rorec natural skin care mask rorec sheet mask ...   \n",
       "...                                                  ...   \n",
       "10176  [bayar di tempat]o.two.o lipstick matte 12 war...   \n",
       "10177      baso aci jeletot intans gurih khas kota garut   \n",
       "10178                       minyak kutus kutus asli bali   \n",
       "10179  [1kg 13pcs] ❤ minimamy ❤ baju jumper pendek ka...   \n",
       "10180  somebymi snail true cica miracle repair serum ...   \n",
       "\n",
       "                                    image_1  \\\n",
       "0      fdff8b9b8229da091dd7d070aae05f81.jpg   \n",
       "1      906cc44f0be72d4e767669b5b63e3a17.jpg   \n",
       "2      475c26635de18b9f93032400732ff336.jpg   \n",
       "3      e630997f6217555d6026547ad1c15f0b.jpg   \n",
       "4      a27d11700a7902febd039dc3a96f10f2.jpg   \n",
       "...                                     ...   \n",
       "10176  08f5ba211a48e9b66bbf0d0105272efb.jpg   \n",
       "10177  855daa89bf4f31cec0f40b144cdb283e.jpg   \n",
       "10178  9525365b5b15af5855abf9daf03da8b4.jpg   \n",
       "10179  a245f49fdc9a03655d98e6a22a89cb7d.jpg   \n",
       "10180  b53a42dc8c7642798a55f1f48834933f.jpg   \n",
       "\n",
       "                                                 title_2  \\\n",
       "0      johnson's cottontouch top to toe hair & body b...   \n",
       "1                         sandal humble glass - glanzton   \n",
       "2      voporizer liquit - likuit - likuid - liquid pr...   \n",
       "3      subei 6 pasang / set anting tusuk boho bohemia...   \n",
       "4      rorec 86 natural skin care shert mask all variant   \n",
       "...                                                  ...   \n",
       "10176           o.two.o lipstick matte 12 warna (2 in 1)   \n",
       "10177            baso aci instan khas garut enak gurih..   \n",
       "10178               minyak kutus kutus tamba waras 100ml   \n",
       "10179  [1kg 13pcs] ❤ kiddikiddo❤ baju jumper kaos pen...   \n",
       "10180  some by mi snail true cica miracle repair seru...   \n",
       "\n",
       "                                    image_2  Label  \\\n",
       "0      41e191742760932598c7bd201e5dad47.jpg      0   \n",
       "1      7a556b836bfdd08ea592216440524a34.jpg      0   \n",
       "2      ace93bec689f3f1565800c500a8341fa.jpg      0   \n",
       "3      31abbc176b09f5bd1728cfc3ecbbfb9c.jpg      0   \n",
       "4      813ad9dd638c10f1765db9dde20c9e42.jpg      1   \n",
       "...                                     ...    ...   \n",
       "10176  08f5ba211a48e9b66bbf0d0105272efb.jpg      1   \n",
       "10177  ffad7f79772f4e482f420591848cd69e.jpg      0   \n",
       "10178  7098a9638b9ad66fb8a7912201ec3d82.jpg      1   \n",
       "10179  ea3e2af55a4ebcdb61bfb9f5da56d1bb.jpg      0   \n",
       "10180  1161b1cb24f4f160a087c977dbf4a013.jpg      1   \n",
       "\n",
       "                                             title_1_pre  \\\n",
       "0         johnson’s ® top to toe hair & body bath 500 ml   \n",
       "1                                          sandal humble   \n",
       "2      promo likuid likuit liquit baby pod liquid sal...   \n",
       "3      6 pasang / set anting tusuk bentuk lingkaran a...   \n",
       "4      rorec natural skin care mask rorec sheet mask ...   \n",
       "...                                                  ...   \n",
       "10176   [ bayar di tempat ] o.two.o lipstick matte 12...   \n",
       "10177      baso aci jeletot intans gurih khas kota garut   \n",
       "10178                       minyak kutus kutus asli bali   \n",
       "10179   [ 1 kg 13 pcs ]  ❤ minimamy ❤ baju jumper pen...   \n",
       "10180  somebymi snail true cica miracle repair serum ...   \n",
       "\n",
       "                                          title_1_unique  \\\n",
       "0      [500, hair, to, ml, toe, johnson’s, top, body,...   \n",
       "1                                       [sandal, humble]   \n",
       "2      [15, liquit, baby, ml, promo, 10, likuid, pod,...   \n",
       "3      [6, tusuk, aksen, lingkaran, bentuk, gaya, wan...   \n",
       "4      [wajah, skincare, rorec, care, natural, masker...   \n",
       "...                                                  ...   \n",
       "10176  [], 1, tempat, warna, matte, [, lipstick, o.tw...   \n",
       "10177  [aci, baso, khas, jeletot, gurih, kota, garut,...   \n",
       "10178                        [asli, kutus, minyak, bali]   \n",
       "10179  [], 1, ❤, baju, pcs, kaos, dengan, [, minimamy...   \n",
       "10180  [ml, serum, snail, 50, true, somebymi, miracle...   \n",
       "\n",
       "                                             title_2_pre  \\\n",
       "0      johnson's cottontouch top to toe hair & body b...   \n",
       "1                         sandal humble glass - glanzton   \n",
       "2      voporizer liquit - likuit - likuid - liquid pr...   \n",
       "3      subei 6 pasang / set anting tusuk boho bohemia...   \n",
       "4      rorec 86 natural skin care shert mask all variant   \n",
       "...                                                  ...   \n",
       "10176           o.two.o lipstick matte 12 warna (2 in 1)   \n",
       "10177            baso aci instan khas garut enak gurih..   \n",
       "10178              minyak kutus kutus tamba waras 100 ml   \n",
       "10179   [ 1 kg 13 pcs ]  ❤ kiddikiddo❤ baju jumper ka...   \n",
       "10180  some by mi snail true cica miracle repair seru...   \n",
       "\n",
       "                                          title_2_unique  \\\n",
       "0      [cottontouch, hair, to, baby, ml, 50, 0, toe, ...   \n",
       "1                   [glanzton, sandal, glass, -, humble]   \n",
       "2      [3, liquid, liquit, bananalicious, ml, berry, ...   \n",
       "3      [kristal, 6, tusuk, subei, boho, bohemia, desa...   \n",
       "4      [shert, all, 6, care, natural, 8, variant, mas...   \n",
       "...                                                  ...   \n",
       "10176  [1, warna, matte, lipstick, o.two.o, in, (2, 1...   \n",
       "10177    [aci, baso, gurih.., khas, garut, enak, instan]   \n",
       "10178             [ml, kutus, tamba, waras, minyak, 100]   \n",
       "10179  [], 1, ❤, baju, pcs, kaos, dengan, [, pendek, ...   \n",
       "10180  [), ml, serum, snail, (, 50, true, mi, miracle...   \n",
       "\n",
       "                                                   vocab  num_vocab  \n",
       "0      [500, hair, cottontouch, to, ml, baby, 50, 0, ...         16  \n",
       "1                   [glanzton, sandal, glass, -, humble]          5  \n",
       "2      [liquid, 15, premium, rasa, mochi, salt, baby,...         22  \n",
       "3      [tusuk, boho, rumbai, set, /, +, lingkaran, su...         23  \n",
       "4      [wajah, skincare, shert, all, 6, care, natural...         15  \n",
       "...                                                  ...        ...  \n",
       "10176  [], 1, tempat, warna, matte, [, lipstick, o.tw...         14  \n",
       "10177  [aci, baso, gurih.., khas, jeletot, gurih, kot...         11  \n",
       "10178  [bali, asli, ml, kutus, tamba, minyak, waras, ...          8  \n",
       "10179  [], 1, ❤, baju, pcs, kaos, dengan, 13, [, pend...         18  \n",
       "10180  [), ml, serum, snail, 50, (, true, somebymi, m...         14  \n",
       "\n",
       "[10179 rows x 11 columns]"
      ]
     },
     "execution_count": 90,
     "metadata": {},
     "output_type": "execute_result"
    }
   ],
   "source": [
    "d_train"
   ]
  },
  {
   "cell_type": "markdown",
   "metadata": {},
   "source": [
    "## Overlapping"
   ]
  },
  {
   "cell_type": "code",
   "execution_count": 91,
   "metadata": {},
   "outputs": [],
   "source": [
    "d_train['title_1_unique'] = d_train.title_1_pre.apply(lambda x: list(set(x.split())))\n",
    "d_train['title_2_unique'] = d_train.title_2_pre.apply(lambda x: list(set(x.split())))"
   ]
  },
  {
   "cell_type": "code",
   "execution_count": 92,
   "metadata": {},
   "outputs": [],
   "source": [
    "d_train['vocab'] = d_train.title_1_unique + d_train.title_2_unique"
   ]
  },
  {
   "cell_type": "code",
   "execution_count": 93,
   "metadata": {},
   "outputs": [],
   "source": [
    "d_train['vocab'] = d_train.vocab.apply(lambda x: list(set(x)))"
   ]
  },
  {
   "cell_type": "code",
   "execution_count": 94,
   "metadata": {},
   "outputs": [],
   "source": [
    "d_train['num_vocab'] = d_train.vocab.apply(lambda x: len(x))"
   ]
  },
  {
   "cell_type": "code",
   "execution_count": 103,
   "metadata": {},
   "outputs": [],
   "source": [
    "def word_overlap(row):\n",
    "    t1 = set(row['title_1_unique'])\n",
    "    t2 = set(row['title_2_unique'])\n",
    "    \n",
    "    num_intersec = len(t1.intersection(t2))\n",
    "    return num_intersec"
   ]
  },
  {
   "cell_type": "code",
   "execution_count": 107,
   "metadata": {},
   "outputs": [],
   "source": [
    "d_train['num_overlap'] = d_train.apply(word_overlap, axis = 1)"
   ]
  },
  {
   "cell_type": "code",
   "execution_count": 109,
   "metadata": {},
   "outputs": [],
   "source": [
    "d_train['percent_overlap'] = (d_train.num_overlap / d_train.num_vocab) * 100"
   ]
  },
  {
   "cell_type": "code",
   "execution_count": 120,
   "metadata": {},
   "outputs": [
    {
     "data": {
      "image/png": "[encoded data removed]",
      "text/plain": [
       "<Figure size 216x360 with 1 Axes>"
      ]
     },
     "metadata": {
      "needs_background": "light"
     },
     "output_type": "display_data"
    }
   ],
   "source": [
    "plt.figure(figsize=(3,5))\n",
    "sns.boxplot(x = 'Label', y='percent_overlap', data = d_train)\n",
    "plt.savefig(\"../figures/word_overlap_boxplot.png\")"
   ]
  },
  {
   "cell_type": "code",
   "execution_count": 117,
   "metadata": {},
   "outputs": [
    {
     "data": {
      "text/plain": [
       "55.07727508488962"
      ]
     },
     "execution_count": 117,
     "metadata": {},
     "output_type": "execute_result"
    }
   ],
   "source": [
    "d_train.loc[d_train['Label'] == 1, 'percent_overlap'].mean()"
   ]
  },
  {
   "cell_type": "code",
   "execution_count": 118,
   "metadata": {},
   "outputs": [
    {
     "data": {
      "text/plain": [
       "53.902572813672464"
      ]
     },
     "execution_count": 118,
     "metadata": {},
     "output_type": "execute_result"
    }
   ],
   "source": [
    "d_train.loc[d_train['Label'] == 0, 'percent_overlap'].mean()"
   ]
  },
  {
   "cell_type": "code",
   "execution_count": null,
   "metadata": {},
   "outputs": [],
   "source": []
  }
 ],
 "metadata": {
  "kernelspec": {
   "display_name": "Python 3",
   "language": "python",
   "name": "python3"
  },
  "language_info": {
   "codemirror_mode": {
    "name": "ipython",
    "version": 3
   },
   "file_extension": ".py",
   "mimetype": "text/x-python",
   "name": "python",
   "nbconvert_exporter": "python",
   "pygments_lexer": "ipython3",
   "version": "3.8.3"
  }
 },
 "nbformat": 4,
 "nbformat_minor": 4
}
