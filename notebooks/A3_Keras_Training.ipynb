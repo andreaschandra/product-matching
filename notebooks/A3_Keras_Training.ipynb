{
 "cells": [
  {
   "cell_type": "code",
   "execution_count": 1,
   "metadata": {},
   "outputs": [],
   "source": [
    "import os\n",
    "import pandas as pd\n",
    "import matplotlib.pyplot as plt\n",
    "import cv2\n",
    "import numpy as np\n",
    "import sys\n",
    "sys.path.insert(1, '../src/')\n",
    "\n",
    "from image_tools import *\n",
    "from text_tools import *\n",
    "from data_prepare import *\n",
    "import keras\n",
    "from keras.datasets import mnist\n",
    "from sklearn.model_selection import train_test_split\n",
    "from keras.callbacks import ModelCheckpoint\n",
    "from keras.models import load_model\n",
    "import matplotlib.pyplot as plt"
   ]
  },
  {
   "cell_type": "code",
   "execution_count": 2,
   "metadata": {},
   "outputs": [],
   "source": [
    "data_path = \"../../ndsc_data/\"\n",
    "path_image = '../../ndsc_data/training_img/training_img/'"
   ]
  },
  {
   "cell_type": "code",
   "execution_count": 3,
   "metadata": {},
   "outputs": [],
   "source": [
    "d_train = pd.read_csv(os.path.join(data_path, \"new_training_set.csv\"),\n",
    "                      usecols=[\"title_1\", \"image_1\", \"title_2\", \"image_2\", \"Label\"])\n",
    "d_test = pd.read_csv(os.path.join(data_path, \"new_test_sample.csv\"))"
   ]
  },
  {
   "cell_type": "code",
   "execution_count": 4,
   "metadata": {},
   "outputs": [
    {
     "data": {
      "text/plain": [
       "(10181, 5)"
      ]
     },
     "execution_count": 4,
     "metadata": {},
     "output_type": "execute_result"
    }
   ],
   "source": [
    "d_train.shape"
   ]
  },
  {
   "cell_type": "code",
   "execution_count": 5,
   "metadata": {},
   "outputs": [
    {
     "data": {
      "text/html": [
       "<div>\n",
       "<style scoped>\n",
       "    .dataframe tbody tr th:only-of-type {\n",
       "        vertical-align: middle;\n",
       "    }\n",
       "\n",
       "    .dataframe tbody tr th {\n",
       "        vertical-align: top;\n",
       "    }\n",
       "\n",
       "    .dataframe thead th {\n",
       "        text-align: right;\n",
       "    }\n",
       "</style>\n",
       "<table border=\"1\" class=\"dataframe\">\n",
       "  <thead>\n",
       "    <tr style=\"text-align: right;\">\n",
       "      <th></th>\n",
       "      <th>title_1</th>\n",
       "      <th>image_1</th>\n",
       "      <th>title_2</th>\n",
       "      <th>image_2</th>\n",
       "      <th>Label</th>\n",
       "    </tr>\n",
       "  </thead>\n",
       "  <tbody>\n",
       "    <tr>\n",
       "      <th>0</th>\n",
       "      <td>Johnson’s ® Top to Toe Hair &amp; Body Bath 500ml</td>\n",
       "      <td>fdff8b9b8229da091dd7d070aae05f81.jpg</td>\n",
       "      <td>Johnson's cottontouch top to toe hair &amp; body b...</td>\n",
       "      <td>41e191742760932598c7bd201e5dad47.jpg</td>\n",
       "      <td>0</td>\n",
       "    </tr>\n",
       "    <tr>\n",
       "      <th>1</th>\n",
       "      <td>Sandal Humble</td>\n",
       "      <td>906cc44f0be72d4e767669b5b63e3a17.jpg</td>\n",
       "      <td>Sandal Humble Glass - Glanzton</td>\n",
       "      <td>7a556b836bfdd08ea592216440524a34.jpg</td>\n",
       "      <td>0</td>\n",
       "    </tr>\n",
       "    <tr>\n",
       "      <th>2</th>\n",
       "      <td>PROMO LIKUID LIKUIT LIQUIT BABY POD LIQUID SAL...</td>\n",
       "      <td>475c26635de18b9f93032400732ff336.jpg</td>\n",
       "      <td>Voporizer Liquit - Likuit - Likuid - Liquid Pr...</td>\n",
       "      <td>ace93bec689f3f1565800c500a8341fa.jpg</td>\n",
       "      <td>0</td>\n",
       "    </tr>\n",
       "    <tr>\n",
       "      <th>3</th>\n",
       "      <td>6 Pasang / Set Anting Tusuk Bentuk Lingkaran A...</td>\n",
       "      <td>e630997f6217555d6026547ad1c15f0b.jpg</td>\n",
       "      <td>Subei 6 Pasang / Set Anting Tusuk Boho Bohemia...</td>\n",
       "      <td>31abbc176b09f5bd1728cfc3ecbbfb9c.jpg</td>\n",
       "      <td>0</td>\n",
       "    </tr>\n",
       "    <tr>\n",
       "      <th>4</th>\n",
       "      <td>ROREC NATURAL SKIN CARE MASK ROREC SHEET MASK ...</td>\n",
       "      <td>a27d11700a7902febd039dc3a96f10f2.jpg</td>\n",
       "      <td>Rorec 86 Natural Skin Care Shert Mask All Variant</td>\n",
       "      <td>813ad9dd638c10f1765db9dde20c9e42.jpg</td>\n",
       "      <td>1</td>\n",
       "    </tr>\n",
       "  </tbody>\n",
       "</table>\n",
       "</div>"
      ],
      "text/plain": [
       "                                             title_1  \\\n",
       "0      Johnson’s ® Top to Toe Hair & Body Bath 500ml   \n",
       "1                                      Sandal Humble   \n",
       "2  PROMO LIKUID LIKUIT LIQUIT BABY POD LIQUID SAL...   \n",
       "3  6 Pasang / Set Anting Tusuk Bentuk Lingkaran A...   \n",
       "4  ROREC NATURAL SKIN CARE MASK ROREC SHEET MASK ...   \n",
       "\n",
       "                                image_1  \\\n",
       "0  fdff8b9b8229da091dd7d070aae05f81.jpg   \n",
       "1  906cc44f0be72d4e767669b5b63e3a17.jpg   \n",
       "2  475c26635de18b9f93032400732ff336.jpg   \n",
       "3  e630997f6217555d6026547ad1c15f0b.jpg   \n",
       "4  a27d11700a7902febd039dc3a96f10f2.jpg   \n",
       "\n",
       "                                             title_2  \\\n",
       "0  Johnson's cottontouch top to toe hair & body b...   \n",
       "1                     Sandal Humble Glass - Glanzton   \n",
       "2  Voporizer Liquit - Likuit - Likuid - Liquid Pr...   \n",
       "3  Subei 6 Pasang / Set Anting Tusuk Boho Bohemia...   \n",
       "4  Rorec 86 Natural Skin Care Shert Mask All Variant   \n",
       "\n",
       "                                image_2  Label  \n",
       "0  41e191742760932598c7bd201e5dad47.jpg      0  \n",
       "1  7a556b836bfdd08ea592216440524a34.jpg      0  \n",
       "2  ace93bec689f3f1565800c500a8341fa.jpg      0  \n",
       "3  31abbc176b09f5bd1728cfc3ecbbfb9c.jpg      0  \n",
       "4  813ad9dd638c10f1765db9dde20c9e42.jpg      1  "
      ]
     },
     "execution_count": 5,
     "metadata": {},
     "output_type": "execute_result"
    }
   ],
   "source": [
    "d_train.head()"
   ]
  },
  {
   "cell_type": "code",
   "execution_count": null,
   "metadata": {},
   "outputs": [],
   "source": []
  },
  {
   "cell_type": "markdown",
   "metadata": {},
   "source": [
    "## Prepare Dataset"
   ]
  },
  {
   "cell_type": "code",
   "execution_count": 6,
   "metadata": {},
   "outputs": [],
   "source": [
    "d_train2 = d_train[:10]\n",
    "d_test2 = d_test[:10]"
   ]
  },
  {
   "cell_type": "code",
   "execution_count": 7,
   "metadata": {},
   "outputs": [
    {
     "name": "stderr",
     "output_type": "stream",
     "text": [
      "<ipython-input-7-6fc9d2101629>:1: SettingWithCopyWarning: \n",
      "A value is trying to be set on a copy of a slice from a DataFrame.\n",
      "Try using .loc[row_indexer,col_indexer] = value instead\n",
      "\n",
      "See the caveats in the documentation: https://pandas.pydata.org/pandas-docs/stable/user_guide/indexing.html#returning-a-view-versus-a-copy\n",
      "  d_train2['title_1_pre'] = d_train2.title_1.apply(text_cleansing)\n",
      "<ipython-input-7-6fc9d2101629>:2: SettingWithCopyWarning: \n",
      "A value is trying to be set on a copy of a slice from a DataFrame.\n",
      "Try using .loc[row_indexer,col_indexer] = value instead\n",
      "\n",
      "See the caveats in the documentation: https://pandas.pydata.org/pandas-docs/stable/user_guide/indexing.html#returning-a-view-versus-a-copy\n",
      "  d_train2['title_2_pre'] = d_train2.title_2.apply(text_cleansing)\n",
      "<ipython-input-7-6fc9d2101629>:4: SettingWithCopyWarning: \n",
      "A value is trying to be set on a copy of a slice from a DataFrame.\n",
      "Try using .loc[row_indexer,col_indexer] = value instead\n",
      "\n",
      "See the caveats in the documentation: https://pandas.pydata.org/pandas-docs/stable/user_guide/indexing.html#returning-a-view-versus-a-copy\n",
      "  d_test2['title_1_pre'] = d_test2.title_1.apply(text_cleansing)\n",
      "<ipython-input-7-6fc9d2101629>:5: SettingWithCopyWarning: \n",
      "A value is trying to be set on a copy of a slice from a DataFrame.\n",
      "Try using .loc[row_indexer,col_indexer] = value instead\n",
      "\n",
      "See the caveats in the documentation: https://pandas.pydata.org/pandas-docs/stable/user_guide/indexing.html#returning-a-view-versus-a-copy\n",
      "  d_test2['title_2_pre'] = d_test2.title_2.apply(text_cleansing)\n"
     ]
    }
   ],
   "source": [
    "d_train2['title_1_pre'] = d_train2.title_1.apply(text_cleansing)\n",
    "d_train2['title_2_pre'] = d_train2.title_2.apply(text_cleansing)\n",
    "\n",
    "d_test2['title_1_pre'] = d_test2.title_1.apply(text_cleansing)\n",
    "d_test2['title_2_pre'] = d_test2.title_2.apply(text_cleansing)"
   ]
  },
  {
   "cell_type": "code",
   "execution_count": null,
   "metadata": {},
   "outputs": [],
   "source": []
  },
  {
   "cell_type": "code",
   "execution_count": 8,
   "metadata": {},
   "outputs": [
    {
     "name": "stderr",
     "output_type": "stream",
     "text": [
      "/Users/alamhanz/anaconda/envs/joko/lib/python3.8/site-packages/pandas/core/indexing.py:1596: SettingWithCopyWarning: \n",
      "A value is trying to be set on a copy of a slice from a DataFrame.\n",
      "Try using .loc[row_indexer,col_indexer] = value instead\n",
      "\n",
      "See the caveats in the documentation: https://pandas.pydata.org/pandas-docs/stable/user_guide/indexing.html#returning-a-view-versus-a-copy\n",
      "  self.obj[key] = _infer_fill_value(value)\n",
      "/Users/alamhanz/anaconda/envs/joko/lib/python3.8/site-packages/pandas/core/indexing.py:1743: SettingWithCopyWarning: \n",
      "A value is trying to be set on a copy of a slice from a DataFrame.\n",
      "Try using .loc[row_indexer,col_indexer] = value instead\n",
      "\n",
      "See the caveats in the documentation: https://pandas.pydata.org/pandas-docs/stable/user_guide/indexing.html#returning-a-view-versus-a-copy\n",
      "  isetter(ilocs[0], value)\n"
     ]
    }
   ],
   "source": [
    "d_train, d_test, word2idx, idx2word = data_text_prep(d_train2, d_test2)"
   ]
  },
  {
   "cell_type": "code",
   "execution_count": null,
   "metadata": {},
   "outputs": [],
   "source": []
  },
  {
   "cell_type": "code",
   "execution_count": 9,
   "metadata": {},
   "outputs": [],
   "source": [
    "dataset_train = ShopeeDataset(d_train, d_test, word2idx, idx2word)\n",
    "dataset_test = ShopeeDataset(d_train, d_test, word2idx, idx2word, stage = 'val')"
   ]
  },
  {
   "cell_type": "code",
   "execution_count": 10,
   "metadata": {},
   "outputs": [
    {
     "data": {
      "text/plain": [
       "data_prepare.ShopeeDataset"
      ]
     },
     "execution_count": 10,
     "metadata": {},
     "output_type": "execute_result"
    }
   ],
   "source": [
    "type(dataset)"
   ]
  },
  {
   "cell_type": "code",
   "execution_count": 12,
   "metadata": {},
   "outputs": [],
   "source": [
    "t1_encode, t2_encode, i1_scaled, i2_scaled, label = dataset.__getitem__(3)"
   ]
  },
  {
   "cell_type": "code",
   "execution_count": null,
   "metadata": {},
   "outputs": [],
   "source": []
  },
  {
   "cell_type": "code",
   "execution_count": null,
   "metadata": {},
   "outputs": [],
   "source": []
  }
 ],
 "metadata": {
  "kernelspec": {
   "display_name": "joko-notebook",
   "language": "python",
   "name": "joko"
  },
  "language_info": {
   "codemirror_mode": {
    "name": "ipython",
    "version": 3
   },
   "file_extension": ".py",
   "mimetype": "text/x-python",
   "name": "python",
   "nbconvert_exporter": "python",
   "pygments_lexer": "ipython3",
   "version": "3.8.3"
  }
 },
 "nbformat": 4,
 "nbformat_minor": 4
}
