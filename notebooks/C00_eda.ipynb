{
 "cells": [
  {
   "cell_type": "code",
   "execution_count": 1,
   "metadata": {},
   "outputs": [],
   "source": [
    "import os\n",
    "import re\n",
    "import string\n",
    "import pandas as pd\n",
    "import matplotlib.pyplot as plt\n",
    "import seaborn as sns\n",
    "\n",
    "import cv2"
   ]
  },
  {
   "cell_type": "code",
   "execution_count": 2,
   "metadata": {},
   "outputs": [],
   "source": [
    "data_path = \"../data/raw\""
   ]
  },
  {
   "cell_type": "code",
   "execution_count": 3,
   "metadata": {},
   "outputs": [],
   "source": [
    "d_train = pd.read_csv(os.path.join(data_path, \"new_training_set.csv\"),\n",
    "                      usecols=[\"title_1\", \"image_1\", \"title_2\", \"image_2\", \"Label\"])"
   ]
  },
  {
   "cell_type": "code",
   "execution_count": 4,
   "metadata": {},
   "outputs": [],
   "source": [
    "d_test = pd.read_csv(os.path.join(data_path, \"new_test_sample.csv\"),\n",
    "                    names=[\"pair_index\", \"title_1\", \"image_1\", \"title_2\", \"image_2\"], skiprows=1)"
   ]
  },
  {
   "cell_type": "code",
   "execution_count": 5,
   "metadata": {},
   "outputs": [
    {
     "data": {
      "text/plain": [
       "(10181, 5)"
      ]
     },
     "execution_count": 5,
     "metadata": {},
     "output_type": "execute_result"
    }
   ],
   "source": [
    "d_train.shape"
   ]
  },
  {
   "cell_type": "code",
   "execution_count": 6,
   "metadata": {},
   "outputs": [
    {
     "data": {
      "text/plain": [
       "(207, 5)"
      ]
     },
     "execution_count": 6,
     "metadata": {},
     "output_type": "execute_result"
    }
   ],
   "source": [
    "d_test.shape"
   ]
  },
  {
   "cell_type": "code",
   "execution_count": 7,
   "metadata": {},
   "outputs": [
    {
     "data": {
      "text/html": [
       "<div>\n",
       "<style scoped>\n",
       "    .dataframe tbody tr th:only-of-type {\n",
       "        vertical-align: middle;\n",
       "    }\n",
       "\n",
       "    .dataframe tbody tr th {\n",
       "        vertical-align: top;\n",
       "    }\n",
       "\n",
       "    .dataframe thead th {\n",
       "        text-align: right;\n",
       "    }\n",
       "</style>\n",
       "<table border=\"1\" class=\"dataframe\">\n",
       "  <thead>\n",
       "    <tr style=\"text-align: right;\">\n",
       "      <th></th>\n",
       "      <th>title_1</th>\n",
       "      <th>image_1</th>\n",
       "      <th>title_2</th>\n",
       "      <th>image_2</th>\n",
       "      <th>Label</th>\n",
       "    </tr>\n",
       "  </thead>\n",
       "  <tbody>\n",
       "    <tr>\n",
       "      <th>0</th>\n",
       "      <td>Johnson’s ® Top to Toe Hair &amp; Body Bath 500ml</td>\n",
       "      <td>fdff8b9b8229da091dd7d070aae05f81.jpg</td>\n",
       "      <td>Johnson's cottontouch top to toe hair &amp; body b...</td>\n",
       "      <td>41e191742760932598c7bd201e5dad47.jpg</td>\n",
       "      <td>0</td>\n",
       "    </tr>\n",
       "    <tr>\n",
       "      <th>1</th>\n",
       "      <td>Sandal Humble</td>\n",
       "      <td>906cc44f0be72d4e767669b5b63e3a17.jpg</td>\n",
       "      <td>Sandal Humble Glass - Glanzton</td>\n",
       "      <td>7a556b836bfdd08ea592216440524a34.jpg</td>\n",
       "      <td>0</td>\n",
       "    </tr>\n",
       "    <tr>\n",
       "      <th>2</th>\n",
       "      <td>PROMO LIKUID LIKUIT LIQUIT BABY POD LIQUID SAL...</td>\n",
       "      <td>475c26635de18b9f93032400732ff336.jpg</td>\n",
       "      <td>Voporizer Liquit - Likuit - Likuid - Liquid Pr...</td>\n",
       "      <td>ace93bec689f3f1565800c500a8341fa.jpg</td>\n",
       "      <td>0</td>\n",
       "    </tr>\n",
       "    <tr>\n",
       "      <th>3</th>\n",
       "      <td>6 Pasang / Set Anting Tusuk Bentuk Lingkaran A...</td>\n",
       "      <td>e630997f6217555d6026547ad1c15f0b.jpg</td>\n",
       "      <td>Subei 6 Pasang / Set Anting Tusuk Boho Bohemia...</td>\n",
       "      <td>31abbc176b09f5bd1728cfc3ecbbfb9c.jpg</td>\n",
       "      <td>0</td>\n",
       "    </tr>\n",
       "    <tr>\n",
       "      <th>4</th>\n",
       "      <td>ROREC NATURAL SKIN CARE MASK ROREC SHEET MASK ...</td>\n",
       "      <td>a27d11700a7902febd039dc3a96f10f2.jpg</td>\n",
       "      <td>Rorec 86 Natural Skin Care Shert Mask All Variant</td>\n",
       "      <td>813ad9dd638c10f1765db9dde20c9e42.jpg</td>\n",
       "      <td>1</td>\n",
       "    </tr>\n",
       "  </tbody>\n",
       "</table>\n",
       "</div>"
      ],
      "text/plain": [
       "                                             title_1  \\\n",
       "0      Johnson’s ® Top to Toe Hair & Body Bath 500ml   \n",
       "1                                      Sandal Humble   \n",
       "2  PROMO LIKUID LIKUIT LIQUIT BABY POD LIQUID SAL...   \n",
       "3  6 Pasang / Set Anting Tusuk Bentuk Lingkaran A...   \n",
       "4  ROREC NATURAL SKIN CARE MASK ROREC SHEET MASK ...   \n",
       "\n",
       "                                image_1  \\\n",
       "0  fdff8b9b8229da091dd7d070aae05f81.jpg   \n",
       "1  906cc44f0be72d4e767669b5b63e3a17.jpg   \n",
       "2  475c26635de18b9f93032400732ff336.jpg   \n",
       "3  e630997f6217555d6026547ad1c15f0b.jpg   \n",
       "4  a27d11700a7902febd039dc3a96f10f2.jpg   \n",
       "\n",
       "                                             title_2  \\\n",
       "0  Johnson's cottontouch top to toe hair & body b...   \n",
       "1                     Sandal Humble Glass - Glanzton   \n",
       "2  Voporizer Liquit - Likuit - Likuid - Liquid Pr...   \n",
       "3  Subei 6 Pasang / Set Anting Tusuk Boho Bohemia...   \n",
       "4  Rorec 86 Natural Skin Care Shert Mask All Variant   \n",
       "\n",
       "                                image_2  Label  \n",
       "0  41e191742760932598c7bd201e5dad47.jpg      0  \n",
       "1  7a556b836bfdd08ea592216440524a34.jpg      0  \n",
       "2  ace93bec689f3f1565800c500a8341fa.jpg      0  \n",
       "3  31abbc176b09f5bd1728cfc3ecbbfb9c.jpg      0  \n",
       "4  813ad9dd638c10f1765db9dde20c9e42.jpg      1  "
      ]
     },
     "execution_count": 7,
     "metadata": {},
     "output_type": "execute_result"
    }
   ],
   "source": [
    "d_train.head()"
   ]
  },
  {
   "cell_type": "code",
   "execution_count": 8,
   "metadata": {},
   "outputs": [
    {
     "data": {
      "text/html": [
       "<div>\n",
       "<style scoped>\n",
       "    .dataframe tbody tr th:only-of-type {\n",
       "        vertical-align: middle;\n",
       "    }\n",
       "\n",
       "    .dataframe tbody tr th {\n",
       "        vertical-align: top;\n",
       "    }\n",
       "\n",
       "    .dataframe thead th {\n",
       "        text-align: right;\n",
       "    }\n",
       "</style>\n",
       "<table border=\"1\" class=\"dataframe\">\n",
       "  <thead>\n",
       "    <tr style=\"text-align: right;\">\n",
       "      <th></th>\n",
       "      <th>pair_index</th>\n",
       "      <th>title_1</th>\n",
       "      <th>image_1</th>\n",
       "      <th>title_2</th>\n",
       "      <th>image_2</th>\n",
       "    </tr>\n",
       "  </thead>\n",
       "  <tbody>\n",
       "    <tr>\n",
       "      <th>0</th>\n",
       "      <td>0</td>\n",
       "      <td>12.12 SUPER PROMO !! Sandal Jepit Pantai Fashion</td>\n",
       "      <td>83d1798fee1c90c2845204d9261169bb.jpg</td>\n",
       "      <td>Clarisse CRAZY OFFER Beli 5 Dapet 12 POLKA SUM...</td>\n",
       "      <td>caba83a8a7f9def9c4d268b6c34da7f4.jpg</td>\n",
       "    </tr>\n",
       "    <tr>\n",
       "      <th>1</th>\n",
       "      <td>1</td>\n",
       "      <td>Damai fashion jakarta - long dress JUMBO wanit...</td>\n",
       "      <td>126868769ca4a4694d36d28960f9de8a.jpg</td>\n",
       "      <td>[VIP] kasih fashion jakarta - long dress JUMBO...</td>\n",
       "      <td>7fdfe855a7be9c87238757c43b712b81.jpg</td>\n",
       "    </tr>\n",
       "    <tr>\n",
       "      <th>2</th>\n",
       "      <td>2</td>\n",
       "      <td>My Baby Minyak Telon 145 ML</td>\n",
       "      <td>86aee3dc281911f5f9d50fea17b978f0.jpg</td>\n",
       "      <td>My Baby Minyak Telon Plus 145 Ml 4btl kemasan ...</td>\n",
       "      <td>0ec544d3d4169df76ae156e76c724f0c.jpg</td>\n",
       "    </tr>\n",
       "    <tr>\n",
       "      <th>3</th>\n",
       "      <td>3</td>\n",
       "      <td>Creative Waterborne Marker Very Fine Double - ...</td>\n",
       "      <td>40ef98354335cf4780937da703ed6d65.jpg</td>\n",
       "      <td>SOMETHINC BROW WIZ Retractable Eyebrow</td>\n",
       "      <td>9cf798e5f940429f14b4af0fd48992a4.jpg</td>\n",
       "    </tr>\n",
       "    <tr>\n",
       "      <th>4</th>\n",
       "      <td>4</td>\n",
       "      <td>Goblin♛ COD Tas Ransel Anak Sekolah Karakter K...</td>\n",
       "      <td>c28512df97d0fc1d61fd30de966e01c3.jpg</td>\n",
       "      <td>TAS KARAKTER ANAK LUCU</td>\n",
       "      <td>a4c09a46d8b1adda43a2433d40bba583.jpg</td>\n",
       "    </tr>\n",
       "  </tbody>\n",
       "</table>\n",
       "</div>"
      ],
      "text/plain": [
       "   pair_index                                            title_1  \\\n",
       "0           0   12.12 SUPER PROMO !! Sandal Jepit Pantai Fashion   \n",
       "1           1  Damai fashion jakarta - long dress JUMBO wanit...   \n",
       "2           2                        My Baby Minyak Telon 145 ML   \n",
       "3           3  Creative Waterborne Marker Very Fine Double - ...   \n",
       "4           4  Goblin♛ COD Tas Ransel Anak Sekolah Karakter K...   \n",
       "\n",
       "                                image_1  \\\n",
       "0  83d1798fee1c90c2845204d9261169bb.jpg   \n",
       "1  126868769ca4a4694d36d28960f9de8a.jpg   \n",
       "2  86aee3dc281911f5f9d50fea17b978f0.jpg   \n",
       "3  40ef98354335cf4780937da703ed6d65.jpg   \n",
       "4  c28512df97d0fc1d61fd30de966e01c3.jpg   \n",
       "\n",
       "                                             title_2  \\\n",
       "0  Clarisse CRAZY OFFER Beli 5 Dapet 12 POLKA SUM...   \n",
       "1  [VIP] kasih fashion jakarta - long dress JUMBO...   \n",
       "2  My Baby Minyak Telon Plus 145 Ml 4btl kemasan ...   \n",
       "3             SOMETHINC BROW WIZ Retractable Eyebrow   \n",
       "4                             TAS KARAKTER ANAK LUCU   \n",
       "\n",
       "                                image_2  \n",
       "0  caba83a8a7f9def9c4d268b6c34da7f4.jpg  \n",
       "1  7fdfe855a7be9c87238757c43b712b81.jpg  \n",
       "2  0ec544d3d4169df76ae156e76c724f0c.jpg  \n",
       "3  9cf798e5f940429f14b4af0fd48992a4.jpg  \n",
       "4  a4c09a46d8b1adda43a2433d40bba583.jpg  "
      ]
     },
     "execution_count": 8,
     "metadata": {},
     "output_type": "execute_result"
    }
   ],
   "source": [
    "d_test.head()"
   ]
  },
  {
   "cell_type": "code",
   "execution_count": 9,
   "metadata": {},
   "outputs": [
    {
     "data": {
      "text/plain": [
       "title_1    0\n",
       "image_1    0\n",
       "title_2    2\n",
       "image_2    0\n",
       "Label      0\n",
       "dtype: int64"
      ]
     },
     "execution_count": 9,
     "metadata": {},
     "output_type": "execute_result"
    }
   ],
   "source": [
    "d_train.isna().sum()"
   ]
  },
  {
   "cell_type": "code",
   "execution_count": null,
   "metadata": {},
   "outputs": [],
   "source": [
    "d_train.Label.value_counts().plot(kind='pie', autopct='%1.1f%%')\n",
    "plt.savefig('../figures/label_dist.png')"
   ]
  },
  {
   "cell_type": "markdown",
   "metadata": {},
   "source": [
    "## Observation"
   ]
  },
  {
   "cell_type": "code",
   "execution_count": null,
   "metadata": {
    "scrolled": true
   },
   "outputs": [],
   "source": [
    "for idx, row in enumerate(d_train.loc[d_train[\"Label\"] == 1, [\"title_1\", \"title_2\", \"Label\"]].to_dict(orient='records')[:20]):\n",
    "    print(idx)\n",
    "    print(row['title_1'])\n",
    "    print(row['title_2'])\n",
    "    print(\"\\n\")"
   ]
  },
  {
   "cell_type": "code",
   "execution_count": null,
   "metadata": {},
   "outputs": [],
   "source": [
    "fig, ax = plt.subplots(3,2, figsize=(8,12))\n",
    "for idx, row in enumerate(d_train.loc[d_train[\"Label\"] == 1].reset_index(drop=True).loc[12:14][[\"image_1\", \"image_2\"]].to_dict(orient=\"records\")):\n",
    "    img_arr1 = plt.imread(os.path.join(\"../data/raw/training_img/training_img\", row[\"image_1\"]))\n",
    "    img_arr2 = plt.imread(os.path.join(\"../data/raw/training_img/training_img\", row[\"image_2\"]))\n",
    "    ax[idx, 0].imshow(img_arr1)\n",
    "    ax[idx, 1].imshow(img_arr2)"
   ]
  },
  {
   "cell_type": "code",
   "execution_count": null,
   "metadata": {},
   "outputs": [],
   "source": [
    "fig.savefig(\"../figures/title_diff_label_1.png\")"
   ]
  },
  {
   "cell_type": "code",
   "execution_count": null,
   "metadata": {
    "scrolled": true
   },
   "outputs": [],
   "source": [
    "for row in d_train.loc[d_train[\"Label\"] == 0, [\"title_1\", \"title_2\", \"Label\"]].to_dict(orient='records')[:20]:\n",
    "    print(row['title_1'])\n",
    "    print(row['title_2'])\n",
    "    print(\"\\n\")"
   ]
  },
  {
   "cell_type": "code",
   "execution_count": null,
   "metadata": {},
   "outputs": [],
   "source": [
    "fig, ax = plt.subplots(8, 2, figsize=(8,32))\n",
    "for idx, row in enumerate(d_train.loc[d_train[\"Label\"] == 0].reset_index(drop=True).loc[[0,2,3,5,6,7,9,19], :].to_dict(orient='records')):\n",
    "    img_arr1 = plt.imread(os.path.join(\"../data/raw/training_img/training_img\", row['image_1']))\n",
    "    img_arr2 = plt.imread(os.path.join(\"../data/raw/training_img/training_img\", row['image_2']))\n",
    "    ax[idx, 0].imshow(img_arr1)\n",
    "    ax[idx, 0].axis('off')\n",
    "    ax[idx, 1].imshow(img_arr2)\n",
    "    ax[idx, 1].axis('off')"
   ]
  },
  {
   "cell_type": "code",
   "execution_count": null,
   "metadata": {},
   "outputs": [],
   "source": [
    "fig.savefig(\"../figures/title_same_label_0.png\")"
   ]
  },
  {
   "cell_type": "markdown",
   "metadata": {},
   "source": [
    "## Need to cleansing\n",
    "\n",
    "- lower case\n",
    "- add space before|after symbol like ][\n",
    "- add space after number"
   ]
  },
  {
   "cell_type": "code",
   "execution_count": 10,
   "metadata": {},
   "outputs": [],
   "source": [
    "d_train.title_1 = d_train.title_1.str.lower()\n",
    "d_train.title_2 = d_train.title_2.str.lower()"
   ]
  },
  {
   "cell_type": "code",
   "execution_count": 11,
   "metadata": {},
   "outputs": [],
   "source": [
    "d_train.dropna(inplace=True)"
   ]
  },
  {
   "cell_type": "code",
   "execution_count": 47,
   "metadata": {},
   "outputs": [],
   "source": [
    "def text_cleansing(title):\n",
    "    table = str.maketrans(string.punctuation, ' '*len(string.punctuation)) #map punctuation to space\n",
    "    \n",
    "    title = re.sub('(\\d+)([a-zA-Z]+)', r'\\1 \\2', title)\n",
    "    title = re.sub('\\]', r' ] ', title)\n",
    "    title = re.sub('\\[', r' [ ', title)\n",
    "    title = title.translate(table)\n",
    "    title = re.sub(r'[^(a-z|A-Z|0-9)]', ' ', title)\n",
    "    title = \" \".join(title.split())\n",
    "    \n",
    "    return title"
   ]
  },
  {
   "cell_type": "code",
   "execution_count": 48,
   "metadata": {},
   "outputs": [],
   "source": [
    "d_train['title_1_pre'] = d_train.title_1.apply(text_cleansing)\n",
    "d_train['title_2_pre'] = d_train.title_2.apply(text_cleansing)"
   ]
  },
  {
   "cell_type": "code",
   "execution_count": 49,
   "metadata": {},
   "outputs": [],
   "source": [
    "d_test['title_1_pre'] = d_test.title_1.apply(text_cleansing)\n",
    "d_test['title_2_pre'] = d_test.title_2.apply(text_cleansing)"
   ]
  },
  {
   "cell_type": "code",
   "execution_count": 50,
   "metadata": {},
   "outputs": [
    {
     "data": {
      "text/html": [
       "<div>\n",
       "<style scoped>\n",
       "    .dataframe tbody tr th:only-of-type {\n",
       "        vertical-align: middle;\n",
       "    }\n",
       "\n",
       "    .dataframe tbody tr th {\n",
       "        vertical-align: top;\n",
       "    }\n",
       "\n",
       "    .dataframe thead th {\n",
       "        text-align: right;\n",
       "    }\n",
       "</style>\n",
       "<table border=\"1\" class=\"dataframe\">\n",
       "  <thead>\n",
       "    <tr style=\"text-align: right;\">\n",
       "      <th></th>\n",
       "      <th>title_1</th>\n",
       "      <th>image_1</th>\n",
       "      <th>title_2</th>\n",
       "      <th>image_2</th>\n",
       "      <th>Label</th>\n",
       "      <th>title_1_pre</th>\n",
       "      <th>title_2_pre</th>\n",
       "    </tr>\n",
       "  </thead>\n",
       "  <tbody>\n",
       "    <tr>\n",
       "      <th>0</th>\n",
       "      <td>johnson’s ® top to toe hair &amp; body bath 500ml</td>\n",
       "      <td>fdff8b9b8229da091dd7d070aae05f81.jpg</td>\n",
       "      <td>johnson's cottontouch top to toe hair &amp; body b...</td>\n",
       "      <td>41e191742760932598c7bd201e5dad47.jpg</td>\n",
       "      <td>0</td>\n",
       "      <td>johnson s top to toe hair body bath 500 ml</td>\n",
       "      <td>johnson s cottontouch top to toe hair body bab...</td>\n",
       "    </tr>\n",
       "    <tr>\n",
       "      <th>1</th>\n",
       "      <td>sandal humble</td>\n",
       "      <td>906cc44f0be72d4e767669b5b63e3a17.jpg</td>\n",
       "      <td>sandal humble glass - glanzton</td>\n",
       "      <td>7a556b836bfdd08ea592216440524a34.jpg</td>\n",
       "      <td>0</td>\n",
       "      <td>sandal humble</td>\n",
       "      <td>sandal humble glass glanzton</td>\n",
       "    </tr>\n",
       "    <tr>\n",
       "      <th>2</th>\n",
       "      <td>promo likuid likuit liquit baby pod liquid sal...</td>\n",
       "      <td>475c26635de18b9f93032400732ff336.jpg</td>\n",
       "      <td>voporizer liquit - likuit - likuid - liquid pr...</td>\n",
       "      <td>ace93bec689f3f1565800c500a8341fa.jpg</td>\n",
       "      <td>0</td>\n",
       "      <td>promo likuid likuit liquit baby pod liquid sal...</td>\n",
       "      <td>voporizer liquit likuit likuid liquid premium ...</td>\n",
       "    </tr>\n",
       "    <tr>\n",
       "      <th>3</th>\n",
       "      <td>6 pasang / set anting tusuk bentuk lingkaran a...</td>\n",
       "      <td>e630997f6217555d6026547ad1c15f0b.jpg</td>\n",
       "      <td>subei 6 pasang / set anting tusuk boho bohemia...</td>\n",
       "      <td>31abbc176b09f5bd1728cfc3ecbbfb9c.jpg</td>\n",
       "      <td>0</td>\n",
       "      <td>6 pasang set anting tusuk bentuk lingkaran aks...</td>\n",
       "      <td>subei 6 pasang set anting tusuk boho bohemia d...</td>\n",
       "    </tr>\n",
       "    <tr>\n",
       "      <th>4</th>\n",
       "      <td>rorec natural skin care mask rorec sheet mask ...</td>\n",
       "      <td>a27d11700a7902febd039dc3a96f10f2.jpg</td>\n",
       "      <td>rorec 86 natural skin care shert mask all variant</td>\n",
       "      <td>813ad9dd638c10f1765db9dde20c9e42.jpg</td>\n",
       "      <td>1</td>\n",
       "      <td>rorec natural skin care mask rorec sheet mask ...</td>\n",
       "      <td>rorec 86 natural skin care shert mask all variant</td>\n",
       "    </tr>\n",
       "  </tbody>\n",
       "</table>\n",
       "</div>"
      ],
      "text/plain": [
       "                                             title_1  \\\n",
       "0      johnson’s ® top to toe hair & body bath 500ml   \n",
       "1                                      sandal humble   \n",
       "2  promo likuid likuit liquit baby pod liquid sal...   \n",
       "3  6 pasang / set anting tusuk bentuk lingkaran a...   \n",
       "4  rorec natural skin care mask rorec sheet mask ...   \n",
       "\n",
       "                                image_1  \\\n",
       "0  fdff8b9b8229da091dd7d070aae05f81.jpg   \n",
       "1  906cc44f0be72d4e767669b5b63e3a17.jpg   \n",
       "2  475c26635de18b9f93032400732ff336.jpg   \n",
       "3  e630997f6217555d6026547ad1c15f0b.jpg   \n",
       "4  a27d11700a7902febd039dc3a96f10f2.jpg   \n",
       "\n",
       "                                             title_2  \\\n",
       "0  johnson's cottontouch top to toe hair & body b...   \n",
       "1                     sandal humble glass - glanzton   \n",
       "2  voporizer liquit - likuit - likuid - liquid pr...   \n",
       "3  subei 6 pasang / set anting tusuk boho bohemia...   \n",
       "4  rorec 86 natural skin care shert mask all variant   \n",
       "\n",
       "                                image_2  Label  \\\n",
       "0  41e191742760932598c7bd201e5dad47.jpg      0   \n",
       "1  7a556b836bfdd08ea592216440524a34.jpg      0   \n",
       "2  ace93bec689f3f1565800c500a8341fa.jpg      0   \n",
       "3  31abbc176b09f5bd1728cfc3ecbbfb9c.jpg      0   \n",
       "4  813ad9dd638c10f1765db9dde20c9e42.jpg      1   \n",
       "\n",
       "                                         title_1_pre  \\\n",
       "0         johnson s top to toe hair body bath 500 ml   \n",
       "1                                      sandal humble   \n",
       "2  promo likuid likuit liquit baby pod liquid sal...   \n",
       "3  6 pasang set anting tusuk bentuk lingkaran aks...   \n",
       "4  rorec natural skin care mask rorec sheet mask ...   \n",
       "\n",
       "                                         title_2_pre  \n",
       "0  johnson s cottontouch top to toe hair body bab...  \n",
       "1                       sandal humble glass glanzton  \n",
       "2  voporizer liquit likuit likuid liquid premium ...  \n",
       "3  subei 6 pasang set anting tusuk boho bohemia d...  \n",
       "4  rorec 86 natural skin care shert mask all variant  "
      ]
     },
     "execution_count": 50,
     "metadata": {},
     "output_type": "execute_result"
    }
   ],
   "source": [
    "d_train.head()"
   ]
  },
  {
   "cell_type": "code",
   "execution_count": null,
   "metadata": {},
   "outputs": [],
   "source": [
    "d_test.head()"
   ]
  },
  {
   "cell_type": "code",
   "execution_count": null,
   "metadata": {},
   "outputs": [],
   "source": [
    "d_train.to_csv(\"../data/text_clean/train.csv\", index=False)\n",
    "d_test.to_csv(\"../data/text_clean/test.csv\", index=False)"
   ]
  },
  {
   "cell_type": "markdown",
   "metadata": {},
   "source": [
    "## Overlapping"
   ]
  },
  {
   "cell_type": "code",
   "execution_count": null,
   "metadata": {},
   "outputs": [],
   "source": [
    "d_train['title_1_unique'] = d_train.title_1_pre.apply(lambda x: list(set(x.split())))\n",
    "d_train['title_2_unique'] = d_train.title_2_pre.apply(lambda x: list(set(x.split())))"
   ]
  },
  {
   "cell_type": "code",
   "execution_count": null,
   "metadata": {},
   "outputs": [],
   "source": [
    "d_train['vocab'] = d_train.title_1_unique + d_train.title_2_unique"
   ]
  },
  {
   "cell_type": "code",
   "execution_count": null,
   "metadata": {},
   "outputs": [],
   "source": [
    "d_train['vocab'] = d_train.vocab.apply(lambda x: list(set(x)))"
   ]
  },
  {
   "cell_type": "code",
   "execution_count": null,
   "metadata": {},
   "outputs": [],
   "source": [
    "d_train['num_vocab'] = d_train.vocab.apply(lambda x: len(x))"
   ]
  },
  {
   "cell_type": "code",
   "execution_count": null,
   "metadata": {},
   "outputs": [],
   "source": [
    "def word_overlap(row):\n",
    "    t1 = set(row['title_1_unique'])\n",
    "    t2 = set(row['title_2_unique'])\n",
    "    \n",
    "    num_intersec = len(t1.intersection(t2))\n",
    "    return num_intersec"
   ]
  },
  {
   "cell_type": "code",
   "execution_count": null,
   "metadata": {},
   "outputs": [],
   "source": [
    "d_train['num_overlap'] = d_train.apply(word_overlap, axis = 1)"
   ]
  },
  {
   "cell_type": "code",
   "execution_count": null,
   "metadata": {},
   "outputs": [],
   "source": [
    "d_train['percent_overlap'] = (d_train.num_overlap / d_train.num_vocab) * 100"
   ]
  },
  {
   "cell_type": "code",
   "execution_count": null,
   "metadata": {},
   "outputs": [],
   "source": [
    "plt.figure(figsize=(3,5))\n",
    "sns.boxplot(x = 'Label', y='percent_overlap', data = d_train)\n",
    "plt.savefig(\"../figures/word_overlap_boxplot.png\")"
   ]
  },
  {
   "cell_type": "code",
   "execution_count": null,
   "metadata": {},
   "outputs": [],
   "source": [
    "d_train.loc[d_train['Label'] == 1, 'percent_overlap'].mean()"
   ]
  },
  {
   "cell_type": "code",
   "execution_count": null,
   "metadata": {},
   "outputs": [],
   "source": [
    "d_train.loc[d_train['Label'] == 0, 'percent_overlap'].mean()"
   ]
  },
  {
   "cell_type": "code",
   "execution_count": null,
   "metadata": {},
   "outputs": [],
   "source": []
  }
 ],
 "metadata": {
  "kernelspec": {
   "display_name": "Python 3",
   "language": "python",
   "name": "python3"
  },
  "language_info": {
   "codemirror_mode": {
    "name": "ipython",
    "version": 3
   },
   "file_extension": ".py",
   "mimetype": "text/x-python",
   "name": "python",
   "nbconvert_exporter": "python",
   "pygments_lexer": "ipython3",
   "version": "3.8.3"
  }
 },
 "nbformat": 4,
 "nbformat_minor": 4
}
