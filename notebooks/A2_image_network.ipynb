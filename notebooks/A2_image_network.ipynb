{
 "cells": [
  {
   "cell_type": "code",
   "execution_count": 1,
   "metadata": {},
   "outputs": [],
   "source": [
    "import cv2\n",
    "\n",
    "from keras.preprocessing.image import ImageDataGenerator, load_img, save_img, img_to_array\n",
    "from keras.applications.mobilenet_v2 import MobileNetV2, preprocess_input\n",
    "from keras import Sequential\n",
    "from keras.layers import GlobalAveragePooling2D, Dense, Dropout\n",
    "from keras.optimizers import Adam\n",
    "from keras.callbacks import ModelCheckpoint\n",
    "from keras.models import load_model\n",
    "\n",
    "import keras\n",
    "from keras import layers"
   ]
  },
  {
   "cell_type": "code",
   "execution_count": null,
   "metadata": {},
   "outputs": [],
   "source": []
  },
  {
   "cell_type": "code",
   "execution_count": 2,
   "metadata": {},
   "outputs": [],
   "source": [
    "check_model = MobileNetV2(input_shape=(224,224,3), include_top=False)"
   ]
  },
  {
   "cell_type": "code",
   "execution_count": 3,
   "metadata": {},
   "outputs": [],
   "source": [
    "# check_model.summary()"
   ]
  },
  {
   "cell_type": "code",
   "execution_count": 4,
   "metadata": {},
   "outputs": [],
   "source": [
    "# [96, 128, 160, 192, 224]"
   ]
  },
  {
   "cell_type": "code",
   "execution_count": 5,
   "metadata": {},
   "outputs": [],
   "source": [
    "IMG_DIM = 224\n",
    "input_img = keras.Input(shape=(IMG_DIM,IMG_DIM, 3))\n",
    "base_model = MobileNetV2(include_top=False,input_shape=(IMG_DIM,IMG_DIM,3))(input_img)\n",
    "# img_net1 = GlobalAveragePooling2D(name='global_average_pooling2d')(base_model)\n",
    "# img_net1 = layers.MaxPooling2D((2, 2), padding='same')(base_model)\n",
    "img_net1 = layers.Conv2D(256, (4, 4), activation='relu')(base_model)\n",
    "img_net1 = layers.Reshape((1,16,256))(img_net1)\n",
    "img_net = keras.Model(input_img, img_net1)"
   ]
  },
  {
   "cell_type": "code",
   "execution_count": 6,
   "metadata": {},
   "outputs": [
    {
     "name": "stdout",
     "output_type": "stream",
     "text": [
      "Model: \"functional_1\"\n",
      "_________________________________________________________________\n",
      "Layer (type)                 Output Shape              Param #   \n",
      "=================================================================\n",
      "input_2 (InputLayer)         [(None, 224, 224, 3)]     0         \n",
      "_________________________________________________________________\n",
      "mobilenetv2_1.00_224 (Functi (None, 7, 7, 1280)        2257984   \n",
      "_________________________________________________________________\n",
      "conv2d (Conv2D)              (None, 4, 4, 256)         5243136   \n",
      "_________________________________________________________________\n",
      "reshape (Reshape)            (None, 1, 16, 256)        0         \n",
      "=================================================================\n",
      "Total params: 7,501,120\n",
      "Trainable params: 7,467,008\n",
      "Non-trainable params: 34,112\n",
      "_________________________________________________________________\n"
     ]
    }
   ],
   "source": [
    "img_net.summary()"
   ]
  },
  {
   "cell_type": "code",
   "execution_count": 7,
   "metadata": {},
   "outputs": [],
   "source": [
    "IMG_DIM = 192\n",
    "input_img = keras.Input(shape=(IMG_DIM,IMG_DIM, 3))\n",
    "base_model = MobileNetV2(include_top=False,input_shape=(IMG_DIM,IMG_DIM,3))(input_img)\n",
    "# img_net1 = GlobalAveragePooling2D(name='global_average_pooling2d')(base_model)\n",
    "# img_net1 = layers.MaxPooling2D((2, 2), padding='same')(base_model)\n",
    "img_net1 = layers.Conv2D(256, (3, 3), activation='relu')(base_model)\n",
    "img_net1 = layers.Reshape((1,16,256))(img_net1)\n",
    "img_net = keras.Model(input_img, img_net1)"
   ]
  },
  {
   "cell_type": "code",
   "execution_count": 8,
   "metadata": {},
   "outputs": [
    {
     "name": "stdout",
     "output_type": "stream",
     "text": [
      "Model: \"functional_3\"\n",
      "_________________________________________________________________\n",
      "Layer (type)                 Output Shape              Param #   \n",
      "=================================================================\n",
      "input_4 (InputLayer)         [(None, 192, 192, 3)]     0         \n",
      "_________________________________________________________________\n",
      "mobilenetv2_1.00_192 (Functi (None, 6, 6, 1280)        2257984   \n",
      "_________________________________________________________________\n",
      "conv2d_1 (Conv2D)            (None, 4, 4, 256)         2949376   \n",
      "_________________________________________________________________\n",
      "reshape_1 (Reshape)          (None, 1, 16, 256)        0         \n",
      "=================================================================\n",
      "Total params: 5,207,360\n",
      "Trainable params: 5,173,248\n",
      "Non-trainable params: 34,112\n",
      "_________________________________________________________________\n"
     ]
    }
   ],
   "source": [
    "img_net.summary()"
   ]
  },
  {
   "cell_type": "code",
   "execution_count": null,
   "metadata": {},
   "outputs": [],
   "source": []
  }
 ],
 "metadata": {
  "kernelspec": {
   "display_name": "joko-notebook",
   "language": "python",
   "name": "joko"
  },
  "language_info": {
   "codemirror_mode": {
    "name": "ipython",
    "version": 3
   },
   "file_extension": ".py",
   "mimetype": "text/x-python",
   "name": "python",
   "nbconvert_exporter": "python",
   "pygments_lexer": "ipython3",
   "version": "3.8.3"
  }
 },
 "nbformat": 4,
 "nbformat_minor": 4
}
