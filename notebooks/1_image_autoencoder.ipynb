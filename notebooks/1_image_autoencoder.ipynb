{
 "cells": [
  {
   "cell_type": "markdown",
   "metadata": {},
   "source": [
    "# Check the Autoencoder\n"
   ]
  },
  {
   "cell_type": "markdown",
   "metadata": {},
   "source": [
    "    keras == 2.4.3\n",
    "    tf == 2.3.1"
   ]
  },
  {
   "cell_type": "code",
   "execution_count": 1,
   "metadata": {},
   "outputs": [],
   "source": [
    "import os\n",
    "import pandas as pd\n",
    "import matplotlib.pyplot as plt\n",
    "import cv2\n",
    "import numpy as np\n",
    "import sys\n",
    "sys.path.insert(1, '../src/')\n",
    "\n",
    "from image_tools import *\n",
    "import keras\n",
    "from keras.datasets import mnist\n",
    "from sklearn.model_selection import train_test_split\n",
    "from keras.callbacks import ModelCheckpoint\n",
    "from keras.models import load_model\n"
   ]
  },
  {
   "cell_type": "code",
   "execution_count": null,
   "metadata": {},
   "outputs": [],
   "source": []
  },
  {
   "cell_type": "markdown",
   "metadata": {},
   "source": [
    "## Get Data"
   ]
  },
  {
   "cell_type": "code",
   "execution_count": 2,
   "metadata": {},
   "outputs": [],
   "source": [
    "data_path = \"../../ndsc_data/\"\n",
    "path_image = '../../ndsc_data/training_img/training_img/'"
   ]
  },
  {
   "cell_type": "code",
   "execution_count": 3,
   "metadata": {},
   "outputs": [],
   "source": [
    "d_train = pd.read_csv(os.path.join(data_path, \"new_training_set.csv\"),\n",
    "                      usecols=[\"title_1\", \"image_1\", \"title_2\", \"image_2\", \"Label\"])\n",
    "d_test = pd.read_csv(os.path.join(data_path, \"new_test_sample.csv\"))"
   ]
  },
  {
   "cell_type": "code",
   "execution_count": 4,
   "metadata": {},
   "outputs": [
    {
     "data": {
      "text/plain": [
       "(10181, 5)"
      ]
     },
     "execution_count": 4,
     "metadata": {},
     "output_type": "execute_result"
    }
   ],
   "source": [
    "d_train.shape"
   ]
  },
  {
   "cell_type": "code",
   "execution_count": 5,
   "metadata": {},
   "outputs": [
    {
     "data": {
      "text/html": [
       "<div>\n",
       "<style scoped>\n",
       "    .dataframe tbody tr th:only-of-type {\n",
       "        vertical-align: middle;\n",
       "    }\n",
       "\n",
       "    .dataframe tbody tr th {\n",
       "        vertical-align: top;\n",
       "    }\n",
       "\n",
       "    .dataframe thead th {\n",
       "        text-align: right;\n",
       "    }\n",
       "</style>\n",
       "<table border=\"1\" class=\"dataframe\">\n",
       "  <thead>\n",
       "    <tr style=\"text-align: right;\">\n",
       "      <th></th>\n",
       "      <th>title_1</th>\n",
       "      <th>image_1</th>\n",
       "      <th>title_2</th>\n",
       "      <th>image_2</th>\n",
       "      <th>Label</th>\n",
       "    </tr>\n",
       "  </thead>\n",
       "  <tbody>\n",
       "    <tr>\n",
       "      <th>0</th>\n",
       "      <td>Johnson’s ® Top to Toe Hair &amp; Body Bath 500ml</td>\n",
       "      <td>fdff8b9b8229da091dd7d070aae05f81.jpg</td>\n",
       "      <td>Johnson's cottontouch top to toe hair &amp; body b...</td>\n",
       "      <td>41e191742760932598c7bd201e5dad47.jpg</td>\n",
       "      <td>0</td>\n",
       "    </tr>\n",
       "    <tr>\n",
       "      <th>1</th>\n",
       "      <td>Sandal Humble</td>\n",
       "      <td>906cc44f0be72d4e767669b5b63e3a17.jpg</td>\n",
       "      <td>Sandal Humble Glass - Glanzton</td>\n",
       "      <td>7a556b836bfdd08ea592216440524a34.jpg</td>\n",
       "      <td>0</td>\n",
       "    </tr>\n",
       "    <tr>\n",
       "      <th>2</th>\n",
       "      <td>PROMO LIKUID LIKUIT LIQUIT BABY POD LIQUID SAL...</td>\n",
       "      <td>475c26635de18b9f93032400732ff336.jpg</td>\n",
       "      <td>Voporizer Liquit - Likuit - Likuid - Liquid Pr...</td>\n",
       "      <td>ace93bec689f3f1565800c500a8341fa.jpg</td>\n",
       "      <td>0</td>\n",
       "    </tr>\n",
       "    <tr>\n",
       "      <th>3</th>\n",
       "      <td>6 Pasang / Set Anting Tusuk Bentuk Lingkaran A...</td>\n",
       "      <td>e630997f6217555d6026547ad1c15f0b.jpg</td>\n",
       "      <td>Subei 6 Pasang / Set Anting Tusuk Boho Bohemia...</td>\n",
       "      <td>31abbc176b09f5bd1728cfc3ecbbfb9c.jpg</td>\n",
       "      <td>0</td>\n",
       "    </tr>\n",
       "    <tr>\n",
       "      <th>4</th>\n",
       "      <td>ROREC NATURAL SKIN CARE MASK ROREC SHEET MASK ...</td>\n",
       "      <td>a27d11700a7902febd039dc3a96f10f2.jpg</td>\n",
       "      <td>Rorec 86 Natural Skin Care Shert Mask All Variant</td>\n",
       "      <td>813ad9dd638c10f1765db9dde20c9e42.jpg</td>\n",
       "      <td>1</td>\n",
       "    </tr>\n",
       "  </tbody>\n",
       "</table>\n",
       "</div>"
      ],
      "text/plain": [
       "                                             title_1  \\\n",
       "0      Johnson’s ® Top to Toe Hair & Body Bath 500ml   \n",
       "1                                      Sandal Humble   \n",
       "2  PROMO LIKUID LIKUIT LIQUIT BABY POD LIQUID SAL...   \n",
       "3  6 Pasang / Set Anting Tusuk Bentuk Lingkaran A...   \n",
       "4  ROREC NATURAL SKIN CARE MASK ROREC SHEET MASK ...   \n",
       "\n",
       "                                image_1  \\\n",
       "0  fdff8b9b8229da091dd7d070aae05f81.jpg   \n",
       "1  906cc44f0be72d4e767669b5b63e3a17.jpg   \n",
       "2  475c26635de18b9f93032400732ff336.jpg   \n",
       "3  e630997f6217555d6026547ad1c15f0b.jpg   \n",
       "4  a27d11700a7902febd039dc3a96f10f2.jpg   \n",
       "\n",
       "                                             title_2  \\\n",
       "0  Johnson's cottontouch top to toe hair & body b...   \n",
       "1                     Sandal Humble Glass - Glanzton   \n",
       "2  Voporizer Liquit - Likuit - Likuid - Liquid Pr...   \n",
       "3  Subei 6 Pasang / Set Anting Tusuk Boho Bohemia...   \n",
       "4  Rorec 86 Natural Skin Care Shert Mask All Variant   \n",
       "\n",
       "                                image_2  Label  \n",
       "0  41e191742760932598c7bd201e5dad47.jpg      0  \n",
       "1  7a556b836bfdd08ea592216440524a34.jpg      0  \n",
       "2  ace93bec689f3f1565800c500a8341fa.jpg      0  \n",
       "3  31abbc176b09f5bd1728cfc3ecbbfb9c.jpg      0  \n",
       "4  813ad9dd638c10f1765db9dde20c9e42.jpg      1  "
      ]
     },
     "execution_count": 5,
     "metadata": {},
     "output_type": "execute_result"
    }
   ],
   "source": [
    "d_train.head()"
   ]
  },
  {
   "cell_type": "code",
   "execution_count": null,
   "metadata": {},
   "outputs": [],
   "source": []
  },
  {
   "cell_type": "markdown",
   "metadata": {},
   "source": [
    "## Get the images"
   ]
  },
  {
   "cell_type": "code",
   "execution_count": 6,
   "metadata": {},
   "outputs": [
    {
     "data": {
      "text/plain": [
       "10414"
      ]
     },
     "execution_count": 6,
     "metadata": {},
     "output_type": "execute_result"
    }
   ],
   "source": [
    "len(os.listdir(path_image))"
   ]
  },
  {
   "cell_type": "code",
   "execution_count": 7,
   "metadata": {},
   "outputs": [],
   "source": [
    "xtrain = []\n",
    "for im in os.listdir(path_image):\n",
    "    X0 = cv2.imread(path_image+im)\n",
    "    X0_res = cv2.resize(X0, (44,44))\n",
    "    xtrain.append(X0_res)"
   ]
  },
  {
   "cell_type": "code",
   "execution_count": 8,
   "metadata": {},
   "outputs": [],
   "source": [
    "xtrain = np.array(xtrain)"
   ]
  },
  {
   "cell_type": "code",
   "execution_count": 9,
   "metadata": {},
   "outputs": [
    {
     "data": {
      "text/plain": [
       "(10414, 44, 44, 3)"
      ]
     },
     "execution_count": 9,
     "metadata": {},
     "output_type": "execute_result"
    }
   ],
   "source": [
    "xtrain.shape"
   ]
  },
  {
   "cell_type": "code",
   "execution_count": 10,
   "metadata": {},
   "outputs": [],
   "source": [
    "xtrain = xtrain.astype('float32') / 255."
   ]
  },
  {
   "cell_type": "code",
   "execution_count": 11,
   "metadata": {},
   "outputs": [],
   "source": [
    "X1, X2 = train_test_split(xtrain, test_size=0.25,random_state = 234)"
   ]
  },
  {
   "cell_type": "code",
   "execution_count": 12,
   "metadata": {},
   "outputs": [
    {
     "data": {
      "text/plain": [
       "(7810, 44, 44, 3)"
      ]
     },
     "execution_count": 12,
     "metadata": {},
     "output_type": "execute_result"
    }
   ],
   "source": [
    "X1.shape"
   ]
  },
  {
   "cell_type": "code",
   "execution_count": 13,
   "metadata": {},
   "outputs": [
    {
     "data": {
      "text/plain": [
       "(2604, 44, 44, 3)"
      ]
     },
     "execution_count": 13,
     "metadata": {},
     "output_type": "execute_result"
    }
   ],
   "source": [
    "X2.shape"
   ]
  },
  {
   "cell_type": "code",
   "execution_count": null,
   "metadata": {},
   "outputs": [],
   "source": []
  },
  {
   "cell_type": "markdown",
   "metadata": {},
   "source": [
    "## Model"
   ]
  },
  {
   "cell_type": "code",
   "execution_count": 22,
   "metadata": {},
   "outputs": [],
   "source": [
    "mod = auto_encoderv1()"
   ]
  },
  {
   "cell_type": "code",
   "execution_count": 23,
   "metadata": {},
   "outputs": [
    {
     "name": "stdout",
     "output_type": "stream",
     "text": [
      "Model: \"functional_3\"\n",
      "_________________________________________________________________\n",
      "Layer (type)                 Output Shape              Param #   \n",
      "=================================================================\n",
      "input_2 (InputLayer)         [(None, 44, 44, 3)]       0         \n",
      "_________________________________________________________________\n",
      "conv2d_6 (Conv2D)            (None, 44, 44, 32)        896       \n",
      "_________________________________________________________________\n",
      "max_pooling2d_2 (MaxPooling2 (None, 22, 22, 32)        0         \n",
      "_________________________________________________________________\n",
      "conv2d_7 (Conv2D)            (None, 22, 22, 8)         2312      \n",
      "_________________________________________________________________\n",
      "max_pooling2d_3 (MaxPooling2 (None, 11, 11, 8)         0         \n",
      "_________________________________________________________________\n",
      "conv2d_8 (Conv2D)            (None, 11, 11, 8)         584       \n",
      "_________________________________________________________________\n",
      "enc (MaxPooling2D)           (None, 6, 6, 8)           0         \n",
      "_________________________________________________________________\n",
      "conv2d_9 (Conv2D)            (None, 6, 6, 8)           584       \n",
      "_________________________________________________________________\n",
      "up_sampling2d_3 (UpSampling2 (None, 12, 12, 8)         0         \n",
      "_________________________________________________________________\n",
      "conv2d_10 (Conv2D)           (None, 12, 12, 8)         584       \n",
      "_________________________________________________________________\n",
      "up_sampling2d_4 (UpSampling2 (None, 24, 24, 8)         0         \n",
      "_________________________________________________________________\n",
      "conv2d_11 (Conv2D)           (None, 22, 22, 32)        2336      \n",
      "_________________________________________________________________\n",
      "up_sampling2d_5 (UpSampling2 (None, 44, 44, 32)        0         \n",
      "_________________________________________________________________\n",
      "dec (Conv2D)                 (None, 44, 44, 3)         867       \n",
      "=================================================================\n",
      "Total params: 8,163\n",
      "Trainable params: 8,163\n",
      "Non-trainable params: 0\n",
      "_________________________________________________________________\n"
     ]
    }
   ],
   "source": [
    "mod.summary()"
   ]
  },
  {
   "cell_type": "code",
   "execution_count": null,
   "metadata": {},
   "outputs": [],
   "source": []
  },
  {
   "cell_type": "markdown",
   "metadata": {},
   "source": [
    "## Train it"
   ]
  },
  {
   "cell_type": "code",
   "execution_count": 35,
   "metadata": {},
   "outputs": [],
   "source": [
    "filepath = '../../ndsc_model/autoencoder_v1/model_{epoch:02d}_{val_loss:.4f}.hdf5'\n",
    "checkpoint = ModelCheckpoint(filepath, monitor='val_loss', verbose=1, save_best_only=True)"
   ]
  },
  {
   "cell_type": "code",
   "execution_count": 41,
   "metadata": {},
   "outputs": [],
   "source": [
    "# opt = keras.optimizers.Adam(learning_rate=0.001)\n",
    "opt = keras.optimizers.Adam(learning_rate=0.001)\n",
    "mod.compile(optimizer=opt, loss='binary_crossentropy')"
   ]
  },
  {
   "cell_type": "code",
   "execution_count": 42,
   "metadata": {},
   "outputs": [
    {
     "name": "stdout",
     "output_type": "stream",
     "text": [
      "Epoch 1/50\n",
      "61/62 [============================>.] - ETA: 0s - loss: 0.4296\n",
      "Epoch 00001: val_loss did not improve from 0.42910\n",
      "62/62 [==============================] - 31s 506ms/step - loss: 0.4295 - val_loss: 0.4348\n",
      "Epoch 2/50\n",
      "61/62 [============================>.] - ETA: 0s - loss: 0.4269\n",
      "Epoch 00002: val_loss did not improve from 0.42910\n",
      "62/62 [==============================] - 23s 375ms/step - loss: 0.4269 - val_loss: 0.4348\n",
      "Epoch 3/50\n",
      "61/62 [============================>.] - ETA: 0s - loss: 0.4267\n",
      "Epoch 00003: val_loss did not improve from 0.42910\n",
      "62/62 [==============================] - 27s 434ms/step - loss: 0.4268 - val_loss: 0.4342\n",
      "Epoch 4/50\n",
      "61/62 [============================>.] - ETA: 0s - loss: 0.4265\n",
      "Epoch 00004: val_loss did not improve from 0.42910\n",
      "62/62 [==============================] - 27s 439ms/step - loss: 0.4265 - val_loss: 0.4341\n",
      "Epoch 5/50\n",
      "61/62 [============================>.] - ETA: 0s - loss: 0.4264\n",
      "Epoch 00005: val_loss did not improve from 0.42910\n",
      "62/62 [==============================] - 26s 417ms/step - loss: 0.4264 - val_loss: 0.4338\n",
      "Epoch 6/50\n",
      "61/62 [============================>.] - ETA: 0s - loss: 0.4262\n",
      "Epoch 00006: val_loss did not improve from 0.42910\n",
      "62/62 [==============================] - 21s 345ms/step - loss: 0.4262 - val_loss: 0.4391\n",
      "Epoch 7/50\n",
      "61/62 [============================>.] - ETA: 0s - loss: 0.4267\n",
      "Epoch 00007: val_loss did not improve from 0.42910\n",
      "62/62 [==============================] - 23s 370ms/step - loss: 0.4267 - val_loss: 0.4367\n",
      "Epoch 8/50\n",
      "61/62 [============================>.] - ETA: 0s - loss: 0.4262\n",
      "Epoch 00008: val_loss did not improve from 0.42910\n",
      "62/62 [==============================] - 23s 370ms/step - loss: 0.4263 - val_loss: 0.4347\n",
      "Epoch 9/50\n",
      "61/62 [============================>.] - ETA: 0s - loss: 0.4259\n",
      "Epoch 00009: val_loss did not improve from 0.42910\n",
      "62/62 [==============================] - 24s 387ms/step - loss: 0.4259 - val_loss: 0.4336\n",
      "Epoch 10/50\n",
      "61/62 [============================>.] - ETA: 0s - loss: 0.4258\n",
      "Epoch 00010: val_loss did not improve from 0.42910\n",
      "62/62 [==============================] - 25s 402ms/step - loss: 0.4258 - val_loss: 0.4340\n",
      "Epoch 11/50\n",
      "61/62 [============================>.] - ETA: 0s - loss: 0.4257\n",
      "Epoch 00011: val_loss did not improve from 0.42910\n",
      "62/62 [==============================] - 23s 378ms/step - loss: 0.4257 - val_loss: 0.4338\n",
      "Epoch 12/50\n",
      "61/62 [============================>.] - ETA: 0s - loss: 0.4256\n",
      "Epoch 00012: val_loss did not improve from 0.42910\n",
      "62/62 [==============================] - 23s 365ms/step - loss: 0.4256 - val_loss: 0.4338\n",
      "Epoch 13/50\n",
      "61/62 [============================>.] - ETA: 0s - loss: 0.4255\n",
      "Epoch 00013: val_loss did not improve from 0.42910\n",
      "62/62 [==============================] - 22s 360ms/step - loss: 0.4255 - val_loss: 0.4332\n",
      "Epoch 14/50\n",
      "61/62 [============================>.] - ETA: 0s - loss: 0.4253\n",
      "Epoch 00014: val_loss did not improve from 0.42910\n",
      "62/62 [==============================] - 22s 352ms/step - loss: 0.4253 - val_loss: 0.4331\n",
      "Epoch 15/50\n",
      "61/62 [============================>.] - ETA: 0s - loss: 0.4253\n",
      "Epoch 00015: val_loss did not improve from 0.42910\n",
      "62/62 [==============================] - 22s 355ms/step - loss: 0.4253 - val_loss: 0.4330\n",
      "Epoch 16/50\n",
      "61/62 [============================>.] - ETA: 0s - loss: 0.4252\n",
      "Epoch 00016: val_loss did not improve from 0.42910\n",
      "62/62 [==============================] - 21s 343ms/step - loss: 0.4252 - val_loss: 0.4331\n",
      "Epoch 17/50\n",
      "61/62 [============================>.] - ETA: 0s - loss: 0.4252\n",
      "Epoch 00017: val_loss did not improve from 0.42910\n",
      "62/62 [==============================] - 21s 336ms/step - loss: 0.4252 - val_loss: 0.4327\n",
      "Epoch 18/50\n",
      "61/62 [============================>.] - ETA: 0s - loss: 0.4251\n",
      "Epoch 00018: val_loss did not improve from 0.42910\n",
      "62/62 [==============================] - 21s 332ms/step - loss: 0.4250 - val_loss: 0.4373\n",
      "Epoch 19/50\n",
      "61/62 [============================>.] - ETA: 0s - loss: 0.4257\n",
      "Epoch 00019: val_loss did not improve from 0.42910\n",
      "62/62 [==============================] - 21s 341ms/step - loss: 0.4257 - val_loss: 0.4326\n",
      "Epoch 20/50\n",
      "61/62 [============================>.] - ETA: 0s - loss: 0.4247\n",
      "Epoch 00020: val_loss did not improve from 0.42910\n",
      "62/62 [==============================] - 23s 377ms/step - loss: 0.4248 - val_loss: 0.4325\n",
      "Epoch 21/50\n",
      "61/62 [============================>.] - ETA: 0s - loss: 0.4248\n",
      "Epoch 00021: val_loss did not improve from 0.42910\n",
      "62/62 [==============================] - 22s 355ms/step - loss: 0.4248 - val_loss: 0.4349\n",
      "Epoch 22/50\n",
      "61/62 [============================>.] - ETA: 0s - loss: 0.4250\n",
      "Epoch 00022: val_loss did not improve from 0.42910\n",
      "62/62 [==============================] - 23s 379ms/step - loss: 0.4250 - val_loss: 0.4328\n",
      "Epoch 23/50\n",
      "61/62 [============================>.] - ETA: 0s - loss: 0.4246\n",
      "Epoch 00023: val_loss did not improve from 0.42910\n",
      "62/62 [==============================] - 21s 336ms/step - loss: 0.4246 - val_loss: 0.4329\n",
      "Epoch 24/50\n",
      "61/62 [============================>.] - ETA: 0s - loss: 0.4247\n",
      "Epoch 00024: val_loss did not improve from 0.42910\n",
      "62/62 [==============================] - 21s 336ms/step - loss: 0.4247 - val_loss: 0.4330\n",
      "Epoch 25/50\n",
      "61/62 [============================>.] - ETA: 0s - loss: 0.4246\n",
      "Epoch 00025: val_loss did not improve from 0.42910\n",
      "62/62 [==============================] - 22s 359ms/step - loss: 0.4246 - val_loss: 0.4356\n",
      "Epoch 26/50\n",
      "61/62 [============================>.] - ETA: 0s - loss: 0.4249\n",
      "Epoch 00026: val_loss did not improve from 0.42910\n",
      "62/62 [==============================] - 22s 349ms/step - loss: 0.4249 - val_loss: 0.4331\n",
      "Epoch 27/50\n",
      "61/62 [============================>.] - ETA: 0s - loss: 0.4244\n",
      "Epoch 00027: val_loss did not improve from 0.42910\n",
      "62/62 [==============================] - 21s 335ms/step - loss: 0.4244 - val_loss: 0.4326\n",
      "Epoch 28/50\n",
      "61/62 [============================>.] - ETA: 0s - loss: 0.4245\n",
      "Epoch 00028: val_loss did not improve from 0.42910\n",
      "62/62 [==============================] - 21s 336ms/step - loss: 0.4244 - val_loss: 0.4342\n",
      "Epoch 29/50\n",
      "61/62 [============================>.] - ETA: 0s - loss: 0.4244\n",
      "Epoch 00029: val_loss did not improve from 0.42910\n",
      "62/62 [==============================] - 22s 348ms/step - loss: 0.4245 - val_loss: 0.4327\n",
      "Epoch 30/50\n",
      "61/62 [============================>.] - ETA: 0s - loss: 0.4244\n",
      "Epoch 00030: val_loss did not improve from 0.42910\n",
      "62/62 [==============================] - 21s 336ms/step - loss: 0.4244 - val_loss: 0.4321\n",
      "Epoch 31/50\n",
      "61/62 [============================>.] - ETA: 0s - loss: 0.4242\n",
      "Epoch 00031: val_loss did not improve from 0.42910\n",
      "62/62 [==============================] - 21s 335ms/step - loss: 0.4242 - val_loss: 0.4322\n",
      "Epoch 32/50\n",
      "61/62 [============================>.] - ETA: 0s - loss: 0.4242\n",
      "Epoch 00032: val_loss did not improve from 0.42910\n",
      "62/62 [==============================] - 21s 343ms/step - loss: 0.4242 - val_loss: 0.4320\n",
      "Epoch 33/50\n",
      "61/62 [============================>.] - ETA: 0s - loss: 0.4243\n",
      "Epoch 00033: val_loss did not improve from 0.42910\n",
      "62/62 [==============================] - 21s 340ms/step - loss: 0.4243 - val_loss: 0.4322\n",
      "Epoch 34/50\n",
      "61/62 [============================>.] - ETA: 0s - loss: 0.4241\n",
      "Epoch 00034: val_loss did not improve from 0.42910\n",
      "62/62 [==============================] - 22s 354ms/step - loss: 0.4241 - val_loss: 0.4324\n",
      "Epoch 35/50\n",
      "61/62 [============================>.] - ETA: 0s - loss: 0.4241\n",
      "Epoch 00035: val_loss did not improve from 0.42910\n",
      "62/62 [==============================] - 23s 367ms/step - loss: 0.4241 - val_loss: 0.4330\n",
      "Epoch 36/50\n",
      "61/62 [============================>.] - ETA: 0s - loss: 0.4240\n",
      "Epoch 00036: val_loss did not improve from 0.42910\n",
      "62/62 [==============================] - 30s 476ms/step - loss: 0.4240 - val_loss: 0.4319\n",
      "Epoch 37/50\n",
      "61/62 [============================>.] - ETA: 0s - loss: 0.4239\n",
      "Epoch 00037: val_loss did not improve from 0.42910\n",
      "62/62 [==============================] - 29s 471ms/step - loss: 0.4239 - val_loss: 0.4317\n",
      "Epoch 38/50\n",
      "61/62 [============================>.] - ETA: 0s - loss: 0.4240\n",
      "Epoch 00038: val_loss did not improve from 0.42910\n",
      "62/62 [==============================] - 25s 397ms/step - loss: 0.4240 - val_loss: 0.4314\n",
      "Epoch 39/50\n",
      "61/62 [============================>.] - ETA: 0s - loss: 0.4239\n",
      "Epoch 00039: val_loss did not improve from 0.42910\n",
      "62/62 [==============================] - 23s 375ms/step - loss: 0.4239 - val_loss: 0.4365\n",
      "Epoch 40/50\n",
      "61/62 [============================>.] - ETA: 0s - loss: 0.4244\n",
      "Epoch 00040: val_loss did not improve from 0.42910\n",
      "62/62 [==============================] - 24s 386ms/step - loss: 0.4244 - val_loss: 0.4336\n",
      "Epoch 41/50\n",
      "61/62 [============================>.] - ETA: 0s - loss: 0.4240\n",
      "Epoch 00041: val_loss did not improve from 0.42910\n",
      "62/62 [==============================] - 28s 446ms/step - loss: 0.4240 - val_loss: 0.4317\n",
      "Epoch 42/50\n",
      "61/62 [============================>.] - ETA: 0s - loss: 0.4238\n",
      "Epoch 00042: val_loss did not improve from 0.42910\n",
      "62/62 [==============================] - 27s 443ms/step - loss: 0.4237 - val_loss: 0.4314\n",
      "Epoch 43/50\n",
      "61/62 [============================>.] - ETA: 0s - loss: 0.4237\n",
      "Epoch 00043: val_loss did not improve from 0.42910\n",
      "62/62 [==============================] - 22s 355ms/step - loss: 0.4237 - val_loss: 0.4332\n",
      "Epoch 44/50\n",
      "62/62 [==============================] - ETA: 0s - loss: 0.4238\n",
      "Epoch 00044: val_loss did not improve from 0.42910\n",
      "62/62 [==============================] - 24s 391ms/step - loss: 0.4238 - val_loss: 0.4314\n",
      "Epoch 45/50\n",
      "61/62 [============================>.] - ETA: 0s - loss: 0.4237\n",
      "Epoch 00045: val_loss did not improve from 0.42910\n",
      "62/62 [==============================] - 22s 361ms/step - loss: 0.4237 - val_loss: 0.4317\n",
      "Epoch 46/50\n",
      "61/62 [============================>.] - ETA: 0s - loss: 0.4237\n",
      "Epoch 00046: val_loss did not improve from 0.42910\n",
      "62/62 [==============================] - 22s 362ms/step - loss: 0.4237 - val_loss: 0.4319\n",
      "Epoch 47/50\n",
      "61/62 [============================>.] - ETA: 0s - loss: 0.4237\n",
      "Epoch 00047: val_loss did not improve from 0.42910\n",
      "62/62 [==============================] - 22s 350ms/step - loss: 0.4237 - val_loss: 0.4399\n",
      "Epoch 48/50\n",
      "61/62 [============================>.] - ETA: 0s - loss: 0.4244\n",
      "Epoch 00048: val_loss did not improve from 0.42910\n",
      "62/62 [==============================] - 21s 339ms/step - loss: 0.4244 - val_loss: 0.4311\n",
      "Epoch 49/50\n",
      "61/62 [============================>.] - ETA: 0s - loss: 0.4235\n",
      "Epoch 00049: val_loss did not improve from 0.42910\n",
      "62/62 [==============================] - 21s 346ms/step - loss: 0.4235 - val_loss: 0.4313\n",
      "Epoch 50/50\n",
      "61/62 [============================>.] - ETA: 0s - loss: 0.4235\n",
      "Epoch 00050: val_loss did not improve from 0.42910\n",
      "62/62 [==============================] - 21s 340ms/step - loss: 0.4236 - val_loss: 0.4315\n"
     ]
    }
   ],
   "source": [
    "enc_train = mod.fit(X1, X1,\n",
    "                epochs=50,\n",
    "                batch_size=128,\n",
    "                shuffle=True,\n",
    "                validation_data=(X2, X2),\n",
    "                   callbacks=[checkpoint])"
   ]
  },
  {
   "cell_type": "code",
   "execution_count": null,
   "metadata": {},
   "outputs": [],
   "source": []
  },
  {
   "cell_type": "markdown",
   "metadata": {},
   "source": [
    "## Check"
   ]
  },
  {
   "cell_type": "code",
   "execution_count": 44,
   "metadata": {},
   "outputs": [],
   "source": [
    "mod_enc = load_model('../../ndsc_model/autoencoder_v1/model_42_0.4291.hdf5') "
   ]
  },
  {
   "cell_type": "code",
   "execution_count": 53,
   "metadata": {},
   "outputs": [],
   "source": [
    "Xc = X2[4:10]"
   ]
  },
  {
   "cell_type": "code",
   "execution_count": 54,
   "metadata": {},
   "outputs": [],
   "source": [
    "XcT = mod_enc.predict(Xc)"
   ]
  },
  {
   "cell_type": "code",
   "execution_count": 61,
   "metadata": {},
   "outputs": [
    {
     "data": {
      "text/plain": [
       "<matplotlib.image.AxesImage at 0x1425b2d30>"
      ]
     },
     "execution_count": 61,
     "metadata": {},
     "output_type": "execute_result"
    },
    {
     "data": {
      "image/png": "[encoded data removed]",
      "text/plain": [
       "<Figure size 432x288 with 1 Axes>"
      ]
     },
     "metadata": {
      "needs_background": "light"
     },
     "output_type": "display_data"
    }
   ],
   "source": [
    "plt.imshow(Xc[0])"
   ]
  },
  {
   "cell_type": "code",
   "execution_count": 62,
   "metadata": {},
   "outputs": [
    {
     "data": {
      "text/plain": [
       "<matplotlib.image.AxesImage at 0x140865ca0>"
      ]
     },
     "execution_count": 62,
     "metadata": {},
     "output_type": "execute_result"
    },
    {
     "data": {
      "image/png": "[encoded data removed]",
      "text/plain": [
       "<Figure size 432x288 with 1 Axes>"
      ]
     },
     "metadata": {
      "needs_background": "light"
     },
     "output_type": "display_data"
    }
   ],
   "source": [
    "plt.imshow(XcT[0])"
   ]
  },
  {
   "cell_type": "code",
   "execution_count": null,
   "metadata": {},
   "outputs": [],
   "source": []
  }
 ],
 "metadata": {
  "kernelspec": {
   "display_name": "joko-notebook",
   "language": "python",
   "name": "joko"
  },
  "language_info": {
   "codemirror_mode": {
    "name": "ipython",
    "version": 3
   },
   "file_extension": ".py",
   "mimetype": "text/x-python",
   "name": "python",
   "nbconvert_exporter": "python",
   "pygments_lexer": "ipython3",
   "version": "3.8.3"
  }
 },
 "nbformat": 4,
 "nbformat_minor": 4
}
