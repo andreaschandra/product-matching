{
 "cells": [
  {
   "cell_type": "code",
   "execution_count": 66,
   "metadata": {},
   "outputs": [],
   "source": [
    "from itertools import chain\n",
    "\n",
    "import pandas as pd\n",
    "import numpy as np\n",
    "\n",
    "from nltk.tokenize import word_tokenize\n",
    "from sklearn.model_selection import train_test_split\n",
    "\n",
    "import torch\n",
    "import torch.nn as nn\n",
    "import torch.optim as optim\n",
    "from torch.nn.utils.rnn import pad_sequence\n",
    "from torch.utils.data import DataLoader"
   ]
  },
  {
   "cell_type": "code",
   "execution_count": 3,
   "metadata": {},
   "outputs": [],
   "source": [
    "d_train = pd.read_csv(\"../data/text_clean/train.csv\")\n",
    "d_test = pd.read_csv(\"../data/text_clean/test.csv\")"
   ]
  },
  {
   "cell_type": "code",
   "execution_count": 5,
   "metadata": {},
   "outputs": [],
   "source": [
    "# tokenize\n",
    "d_train.loc[:, 'title_1_token'] = d_train.title_1_pre.apply(word_tokenize)\n",
    "d_train.loc[:, 'title_2_token'] = d_train.title_2_pre.apply(word_tokenize)\n",
    "\n",
    "d_test.loc[:, 'title_1_token'] = d_test.title_1_pre.apply(word_tokenize)\n",
    "d_test.loc[:, 'title_2_token'] = d_test.title_2_pre.apply(word_tokenize)"
   ]
  },
  {
   "cell_type": "code",
   "execution_count": 9,
   "metadata": {},
   "outputs": [],
   "source": [
    "title_token = list(chain(*d_train.title_1_token.tolist() + d_train.title_2_token.tolist()))"
   ]
  },
  {
   "cell_type": "code",
   "execution_count": 12,
   "metadata": {},
   "outputs": [],
   "source": [
    "vocab_token = list(set(title_token))"
   ]
  },
  {
   "cell_type": "code",
   "execution_count": 14,
   "metadata": {},
   "outputs": [],
   "source": [
    "word2idx = dict((w, k) for k, w in enumerate(vocab_token, 2))\n",
    "idx2word = dict((k, w) for k, w in enumerate(vocab_token, 2))"
   ]
  },
  {
   "cell_type": "code",
   "execution_count": 25,
   "metadata": {},
   "outputs": [],
   "source": [
    "word2idx['<UNK>'] = 1\n",
    "idx2word[1] = '<UNK>'\n",
    "word2idx['<PAD>'] = 0\n",
    "idx2word[0] = '<PAD>'"
   ]
  },
  {
   "cell_type": "code",
   "execution_count": 76,
   "metadata": {},
   "outputs": [],
   "source": [
    "class TitleDataset():\n",
    "    def __init__(self, data, test, word2idx, idx2word):\n",
    "        train, val = train_test_split(data)\n",
    "        train.reset_index(drop=True, inplace=True)\n",
    "        val.reset_index(drop=True, inplace=True)\n",
    "        self.word2idx = word2idx\n",
    "        self.idx2word = idx2word\n",
    "        self.dataset = {\n",
    "            'train': (train, train.shape[0]),\n",
    "            'val': (val, val.shape[0]),\n",
    "            'test': (test, test.shape[0])\n",
    "        }\n",
    "        self.set_split('train')\n",
    "        \n",
    "    def set_split(self, split='train'):\n",
    "        self.data, self.length = self.dataset[split]\n",
    "    \n",
    "    def encode(self, text):\n",
    "        token_ids = []\n",
    "        for word in text:\n",
    "            try:\n",
    "                token_ids.append(self.word2idx[word])\n",
    "            except:\n",
    "                token_ids.append(1)\n",
    "        token_ids = torch.LongTensor(token_ids)\n",
    "        return token_ids\n",
    "    \n",
    "    def decode(self, ids):\n",
    "        words = []\n",
    "        for id_ in ids:\n",
    "            try:\n",
    "                words.append(self.idx2word[id_])\n",
    "            except:\n",
    "                words.append('<UNK>')\n",
    "                \n",
    "        return words\n",
    "    \n",
    "    def __getitem__(self, idx):\n",
    "        t1 = self.data.loc[idx, 'title_1_token']\n",
    "        t2 = self.data.loc[idx, 'title_2_token']\n",
    "        label = self.data.loc[idx, 'Label']\n",
    "        t1_encode = self.encode(t1)\n",
    "        t2_encode = self.encode(t2)\n",
    "        \n",
    "        return t1_encode, t2_encode, label\n",
    "    \n",
    "    def __len__(self):\n",
    "        return self.length"
   ]
  },
  {
   "cell_type": "code",
   "execution_count": 77,
   "metadata": {},
   "outputs": [],
   "source": [
    "dataset = TitleDataset(d_train, d_test, word2idx, idx2word)"
   ]
  },
  {
   "cell_type": "code",
   "execution_count": 78,
   "metadata": {},
   "outputs": [],
   "source": [
    "num_vocab = len(word2idx)"
   ]
  },
  {
   "cell_type": "code",
   "execution_count": 102,
   "metadata": {},
   "outputs": [
    {
     "data": {
      "text/plain": [
       "8476"
      ]
     },
     "execution_count": 102,
     "metadata": {},
     "output_type": "execute_result"
    }
   ],
   "source": [
    "num_vocab"
   ]
  },
  {
   "cell_type": "code",
   "execution_count": 79,
   "metadata": {},
   "outputs": [],
   "source": [
    "class TextEncoder(nn.Module):\n",
    "    def __init__(self, num_vocab, emb_size, hid_size, num_layers):\n",
    "        super(TextEncoder, self).__init__()\n",
    "        self.network = nn.Sequential(\n",
    "            nn.Embedding(num_vocab, emb_size),\n",
    "            nn.LSTM(emb_size, hid_size, num_layers=num_layers, batch_first=True)\n",
    "        )\n",
    "        \n",
    "    def forward(self, input_):\n",
    "        out = self.network(input_)\n",
    "        \n",
    "        return out"
   ]
  },
  {
   "cell_type": "code",
   "execution_count": 80,
   "metadata": {},
   "outputs": [],
   "source": [
    "model = TextEncoder(num_vocab, 768, 512, 1)"
   ]
  },
  {
   "cell_type": "code",
   "execution_count": 81,
   "metadata": {},
   "outputs": [],
   "source": [
    "num_params = sum(p.numel() for p in model.parameters())"
   ]
  },
  {
   "cell_type": "code",
   "execution_count": 82,
   "metadata": {},
   "outputs": [
    {
     "name": "stdout",
     "output_type": "stream",
     "text": [
      "Trainable parameters 9,135,104\n"
     ]
    }
   ],
   "source": [
    "print(f\"Trainable parameters {num_params:,}\")"
   ]
  },
  {
   "cell_type": "code",
   "execution_count": 83,
   "metadata": {},
   "outputs": [],
   "source": [
    "def pad_text(batch_data):\n",
    "    t1, t2, label = list(zip(*batch_data))\n",
    "    t1 = pad_sequence(t1, batch_first=True)\n",
    "    t2 = pad_sequence(t2, batch_first=True)\n",
    "    label = torch.LongTensor(label)\n",
    "    return (t1, t2, label)"
   ]
  },
  {
   "cell_type": "code",
   "execution_count": 84,
   "metadata": {},
   "outputs": [],
   "source": [
    "dataset.set_split(\"train\")\n",
    "data_gen = DataLoader(dataset, batch_size = 2, collate_fn=pad_text)"
   ]
  },
  {
   "cell_type": "code",
   "execution_count": 89,
   "metadata": {},
   "outputs": [],
   "source": [
    "for title1, title2, label in data_gen:\n",
    "    break"
   ]
  },
  {
   "cell_type": "code",
   "execution_count": 92,
   "metadata": {},
   "outputs": [
    {
     "data": {
      "text/plain": [
       "torch.Size([2, 14])"
      ]
     },
     "execution_count": 92,
     "metadata": {},
     "output_type": "execute_result"
    }
   ],
   "source": [
    "title1.shape"
   ]
  },
  {
   "cell_type": "code",
   "execution_count": 93,
   "metadata": {},
   "outputs": [
    {
     "data": {
      "text/plain": [
       "torch.Size([2, 12])"
      ]
     },
     "execution_count": 93,
     "metadata": {},
     "output_type": "execute_result"
    }
   ],
   "source": [
    "title2.shape"
   ]
  },
  {
   "cell_type": "code",
   "execution_count": 103,
   "metadata": {},
   "outputs": [],
   "source": [
    "out1, (h, c) = model(title1)\n",
    "out2, (h, c) = model(title2)"
   ]
  },
  {
   "cell_type": "code",
   "execution_count": 105,
   "metadata": {},
   "outputs": [
    {
     "data": {
      "text/plain": [
       "torch.Size([2, 14, 512])"
      ]
     },
     "execution_count": 105,
     "metadata": {},
     "output_type": "execute_result"
    }
   ],
   "source": [
    "out1.shape"
   ]
  },
  {
   "cell_type": "code",
   "execution_count": 106,
   "metadata": {},
   "outputs": [
    {
     "data": {
      "text/plain": [
       "torch.Size([2, 12, 512])"
      ]
     },
     "execution_count": 106,
     "metadata": {},
     "output_type": "execute_result"
    }
   ],
   "source": [
    "out2.shape"
   ]
  },
  {
   "cell_type": "code",
   "execution_count": null,
   "metadata": {},
   "outputs": [],
   "source": []
  }
 ],
 "metadata": {
  "kernelspec": {
   "display_name": "Python 3",
   "language": "python",
   "name": "python3"
  },
  "language_info": {
   "codemirror_mode": {
    "name": "ipython",
    "version": 3
   },
   "file_extension": ".py",
   "mimetype": "text/x-python",
   "name": "python",
   "nbconvert_exporter": "python",
   "pygments_lexer": "ipython3",
   "version": "3.6.7"
  }
 },
 "nbformat": 4,
 "nbformat_minor": 4
}
