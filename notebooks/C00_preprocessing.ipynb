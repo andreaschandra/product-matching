{
 "cells": [
  {
   "cell_type": "code",
   "execution_count": 1,
   "metadata": {},
   "outputs": [],
   "source": [
    "import os\n",
    "import re\n",
    "import string\n",
    "import pandas as pd\n",
    "import matplotlib.pyplot as plt\n",
    "import seaborn as sns\n",
    "from PIL import Image\n",
    "from tqdm import tqdm\n",
    "\n",
    "import cv2"
   ]
  },
  {
   "cell_type": "code",
   "execution_count": 2,
   "metadata": {},
   "outputs": [
    {
     "name": "stderr",
     "output_type": "stream",
     "text": [
      "/home/andreas/miniconda3/lib/python3.8/site-packages/tqdm/std.py:703: FutureWarning: The Panel class is removed from pandas. Accessing it from the top-level namespace will also be removed in the next version\n",
      "  from pandas import Panel\n"
     ]
    }
   ],
   "source": [
    "tqdm.pandas()"
   ]
  },
  {
   "cell_type": "code",
   "execution_count": 3,
   "metadata": {},
   "outputs": [],
   "source": [
    "data_path = \"../data/raw\""
   ]
  },
  {
   "cell_type": "code",
   "execution_count": 4,
   "metadata": {},
   "outputs": [],
   "source": [
    "d_train = pd.read_csv(os.path.join(data_path, \"new_training_set.csv\"),\n",
    "                      usecols=[\"title_1\", \"image_1\", \"title_2\", \"image_2\", \"Label\"])"
   ]
  },
  {
   "cell_type": "code",
   "execution_count": 5,
   "metadata": {},
   "outputs": [],
   "source": [
    "d_test = pd.read_csv(os.path.join(data_path, \"new_test_sample.csv\"),\n",
    "                    names=[\"pair_index\", \"title_1\", \"image_1\", \"title_2\", \"image_2\"], skiprows=1)"
   ]
  },
  {
   "cell_type": "code",
   "execution_count": 6,
   "metadata": {},
   "outputs": [],
   "source": [
    "d_final = pd.read_csv(os.path.join(\"../data/final\", \"new_test_set.csv\"),\n",
    "                    names=[\"pair_index\", \"title_1\", \"image_1\", \"title_2\", \"image_2\"], skiprows=1)"
   ]
  },
  {
   "cell_type": "code",
   "execution_count": 7,
   "metadata": {},
   "outputs": [
    {
     "data": {
      "text/plain": [
       "(32580, 5)"
      ]
     },
     "execution_count": 7,
     "metadata": {},
     "output_type": "execute_result"
    }
   ],
   "source": [
    "d_final.shape"
   ]
  },
  {
   "cell_type": "code",
   "execution_count": 8,
   "metadata": {},
   "outputs": [
    {
     "data": {
      "text/plain": [
       "(10181, 5)"
      ]
     },
     "execution_count": 8,
     "metadata": {},
     "output_type": "execute_result"
    }
   ],
   "source": [
    "d_train.shape"
   ]
  },
  {
   "cell_type": "code",
   "execution_count": 9,
   "metadata": {},
   "outputs": [
    {
     "data": {
      "text/plain": [
       "(207, 5)"
      ]
     },
     "execution_count": 9,
     "metadata": {},
     "output_type": "execute_result"
    }
   ],
   "source": [
    "d_test.shape"
   ]
  },
  {
   "cell_type": "code",
   "execution_count": 10,
   "metadata": {},
   "outputs": [
    {
     "data": {
      "text/html": [
       "<div>\n",
       "<style scoped>\n",
       "    .dataframe tbody tr th:only-of-type {\n",
       "        vertical-align: middle;\n",
       "    }\n",
       "\n",
       "    .dataframe tbody tr th {\n",
       "        vertical-align: top;\n",
       "    }\n",
       "\n",
       "    .dataframe thead th {\n",
       "        text-align: right;\n",
       "    }\n",
       "</style>\n",
       "<table border=\"1\" class=\"dataframe\">\n",
       "  <thead>\n",
       "    <tr style=\"text-align: right;\">\n",
       "      <th></th>\n",
       "      <th>title_1</th>\n",
       "      <th>image_1</th>\n",
       "      <th>title_2</th>\n",
       "      <th>image_2</th>\n",
       "      <th>Label</th>\n",
       "    </tr>\n",
       "  </thead>\n",
       "  <tbody>\n",
       "    <tr>\n",
       "      <th>0</th>\n",
       "      <td>Johnson’s ® Top to Toe Hair &amp; Body Bath 500ml</td>\n",
       "      <td>fdff8b9b8229da091dd7d070aae05f81.jpg</td>\n",
       "      <td>Johnson's cottontouch top to toe hair &amp; body b...</td>\n",
       "      <td>41e191742760932598c7bd201e5dad47.jpg</td>\n",
       "      <td>0</td>\n",
       "    </tr>\n",
       "    <tr>\n",
       "      <th>1</th>\n",
       "      <td>Sandal Humble</td>\n",
       "      <td>906cc44f0be72d4e767669b5b63e3a17.jpg</td>\n",
       "      <td>Sandal Humble Glass - Glanzton</td>\n",
       "      <td>7a556b836bfdd08ea592216440524a34.jpg</td>\n",
       "      <td>0</td>\n",
       "    </tr>\n",
       "    <tr>\n",
       "      <th>2</th>\n",
       "      <td>PROMO LIKUID LIKUIT LIQUIT BABY POD LIQUID SAL...</td>\n",
       "      <td>475c26635de18b9f93032400732ff336.jpg</td>\n",
       "      <td>Voporizer Liquit - Likuit - Likuid - Liquid Pr...</td>\n",
       "      <td>ace93bec689f3f1565800c500a8341fa.jpg</td>\n",
       "      <td>0</td>\n",
       "    </tr>\n",
       "    <tr>\n",
       "      <th>3</th>\n",
       "      <td>6 Pasang / Set Anting Tusuk Bentuk Lingkaran A...</td>\n",
       "      <td>e630997f6217555d6026547ad1c15f0b.jpg</td>\n",
       "      <td>Subei 6 Pasang / Set Anting Tusuk Boho Bohemia...</td>\n",
       "      <td>31abbc176b09f5bd1728cfc3ecbbfb9c.jpg</td>\n",
       "      <td>0</td>\n",
       "    </tr>\n",
       "    <tr>\n",
       "      <th>4</th>\n",
       "      <td>ROREC NATURAL SKIN CARE MASK ROREC SHEET MASK ...</td>\n",
       "      <td>a27d11700a7902febd039dc3a96f10f2.jpg</td>\n",
       "      <td>Rorec 86 Natural Skin Care Shert Mask All Variant</td>\n",
       "      <td>813ad9dd638c10f1765db9dde20c9e42.jpg</td>\n",
       "      <td>1</td>\n",
       "    </tr>\n",
       "  </tbody>\n",
       "</table>\n",
       "</div>"
      ],
      "text/plain": [
       "                                             title_1  \\\n",
       "0      Johnson’s ® Top to Toe Hair & Body Bath 500ml   \n",
       "1                                      Sandal Humble   \n",
       "2  PROMO LIKUID LIKUIT LIQUIT BABY POD LIQUID SAL...   \n",
       "3  6 Pasang / Set Anting Tusuk Bentuk Lingkaran A...   \n",
       "4  ROREC NATURAL SKIN CARE MASK ROREC SHEET MASK ...   \n",
       "\n",
       "                                image_1  \\\n",
       "0  fdff8b9b8229da091dd7d070aae05f81.jpg   \n",
       "1  906cc44f0be72d4e767669b5b63e3a17.jpg   \n",
       "2  475c26635de18b9f93032400732ff336.jpg   \n",
       "3  e630997f6217555d6026547ad1c15f0b.jpg   \n",
       "4  a27d11700a7902febd039dc3a96f10f2.jpg   \n",
       "\n",
       "                                             title_2  \\\n",
       "0  Johnson's cottontouch top to toe hair & body b...   \n",
       "1                     Sandal Humble Glass - Glanzton   \n",
       "2  Voporizer Liquit - Likuit - Likuid - Liquid Pr...   \n",
       "3  Subei 6 Pasang / Set Anting Tusuk Boho Bohemia...   \n",
       "4  Rorec 86 Natural Skin Care Shert Mask All Variant   \n",
       "\n",
       "                                image_2  Label  \n",
       "0  41e191742760932598c7bd201e5dad47.jpg      0  \n",
       "1  7a556b836bfdd08ea592216440524a34.jpg      0  \n",
       "2  ace93bec689f3f1565800c500a8341fa.jpg      0  \n",
       "3  31abbc176b09f5bd1728cfc3ecbbfb9c.jpg      0  \n",
       "4  813ad9dd638c10f1765db9dde20c9e42.jpg      1  "
      ]
     },
     "execution_count": 10,
     "metadata": {},
     "output_type": "execute_result"
    }
   ],
   "source": [
    "d_train.head()"
   ]
  },
  {
   "cell_type": "code",
   "execution_count": 11,
   "metadata": {},
   "outputs": [
    {
     "data": {
      "text/html": [
       "<div>\n",
       "<style scoped>\n",
       "    .dataframe tbody tr th:only-of-type {\n",
       "        vertical-align: middle;\n",
       "    }\n",
       "\n",
       "    .dataframe tbody tr th {\n",
       "        vertical-align: top;\n",
       "    }\n",
       "\n",
       "    .dataframe thead th {\n",
       "        text-align: right;\n",
       "    }\n",
       "</style>\n",
       "<table border=\"1\" class=\"dataframe\">\n",
       "  <thead>\n",
       "    <tr style=\"text-align: right;\">\n",
       "      <th></th>\n",
       "      <th>pair_index</th>\n",
       "      <th>title_1</th>\n",
       "      <th>image_1</th>\n",
       "      <th>title_2</th>\n",
       "      <th>image_2</th>\n",
       "    </tr>\n",
       "  </thead>\n",
       "  <tbody>\n",
       "    <tr>\n",
       "      <th>0</th>\n",
       "      <td>0</td>\n",
       "      <td>12.12 SUPER PROMO !! Sandal Jepit Pantai Fashion</td>\n",
       "      <td>83d1798fee1c90c2845204d9261169bb.jpg</td>\n",
       "      <td>Clarisse CRAZY OFFER Beli 5 Dapet 12 POLKA SUM...</td>\n",
       "      <td>caba83a8a7f9def9c4d268b6c34da7f4.jpg</td>\n",
       "    </tr>\n",
       "    <tr>\n",
       "      <th>1</th>\n",
       "      <td>1</td>\n",
       "      <td>Damai fashion jakarta - long dress JUMBO wanit...</td>\n",
       "      <td>126868769ca4a4694d36d28960f9de8a.jpg</td>\n",
       "      <td>[VIP] kasih fashion jakarta - long dress JUMBO...</td>\n",
       "      <td>7fdfe855a7be9c87238757c43b712b81.jpg</td>\n",
       "    </tr>\n",
       "    <tr>\n",
       "      <th>2</th>\n",
       "      <td>2</td>\n",
       "      <td>My Baby Minyak Telon 145 ML</td>\n",
       "      <td>86aee3dc281911f5f9d50fea17b978f0.jpg</td>\n",
       "      <td>My Baby Minyak Telon Plus 145 Ml 4btl kemasan ...</td>\n",
       "      <td>0ec544d3d4169df76ae156e76c724f0c.jpg</td>\n",
       "    </tr>\n",
       "    <tr>\n",
       "      <th>3</th>\n",
       "      <td>3</td>\n",
       "      <td>Creative Waterborne Marker Very Fine Double - ...</td>\n",
       "      <td>40ef98354335cf4780937da703ed6d65.jpg</td>\n",
       "      <td>SOMETHINC BROW WIZ Retractable Eyebrow</td>\n",
       "      <td>9cf798e5f940429f14b4af0fd48992a4.jpg</td>\n",
       "    </tr>\n",
       "    <tr>\n",
       "      <th>4</th>\n",
       "      <td>4</td>\n",
       "      <td>Goblin♛ COD Tas Ransel Anak Sekolah Karakter K...</td>\n",
       "      <td>c28512df97d0fc1d61fd30de966e01c3.jpg</td>\n",
       "      <td>TAS KARAKTER ANAK LUCU</td>\n",
       "      <td>a4c09a46d8b1adda43a2433d40bba583.jpg</td>\n",
       "    </tr>\n",
       "  </tbody>\n",
       "</table>\n",
       "</div>"
      ],
      "text/plain": [
       "   pair_index                                            title_1  \\\n",
       "0           0   12.12 SUPER PROMO !! Sandal Jepit Pantai Fashion   \n",
       "1           1  Damai fashion jakarta - long dress JUMBO wanit...   \n",
       "2           2                        My Baby Minyak Telon 145 ML   \n",
       "3           3  Creative Waterborne Marker Very Fine Double - ...   \n",
       "4           4  Goblin♛ COD Tas Ransel Anak Sekolah Karakter K...   \n",
       "\n",
       "                                image_1  \\\n",
       "0  83d1798fee1c90c2845204d9261169bb.jpg   \n",
       "1  126868769ca4a4694d36d28960f9de8a.jpg   \n",
       "2  86aee3dc281911f5f9d50fea17b978f0.jpg   \n",
       "3  40ef98354335cf4780937da703ed6d65.jpg   \n",
       "4  c28512df97d0fc1d61fd30de966e01c3.jpg   \n",
       "\n",
       "                                             title_2  \\\n",
       "0  Clarisse CRAZY OFFER Beli 5 Dapet 12 POLKA SUM...   \n",
       "1  [VIP] kasih fashion jakarta - long dress JUMBO...   \n",
       "2  My Baby Minyak Telon Plus 145 Ml 4btl kemasan ...   \n",
       "3             SOMETHINC BROW WIZ Retractable Eyebrow   \n",
       "4                             TAS KARAKTER ANAK LUCU   \n",
       "\n",
       "                                image_2  \n",
       "0  caba83a8a7f9def9c4d268b6c34da7f4.jpg  \n",
       "1  7fdfe855a7be9c87238757c43b712b81.jpg  \n",
       "2  0ec544d3d4169df76ae156e76c724f0c.jpg  \n",
       "3  9cf798e5f940429f14b4af0fd48992a4.jpg  \n",
       "4  a4c09a46d8b1adda43a2433d40bba583.jpg  "
      ]
     },
     "execution_count": 11,
     "metadata": {},
     "output_type": "execute_result"
    }
   ],
   "source": [
    "d_test.head()"
   ]
  },
  {
   "cell_type": "code",
   "execution_count": 12,
   "metadata": {},
   "outputs": [
    {
     "data": {
      "text/plain": [
       "title_1    0\n",
       "image_1    0\n",
       "title_2    2\n",
       "image_2    0\n",
       "Label      0\n",
       "dtype: int64"
      ]
     },
     "execution_count": 12,
     "metadata": {},
     "output_type": "execute_result"
    }
   ],
   "source": [
    "d_train.isna().sum()"
   ]
  },
  {
   "cell_type": "code",
   "execution_count": 13,
   "metadata": {},
   "outputs": [
    {
     "data": {
      "text/plain": [
       "pair_index    0\n",
       "title_1       0\n",
       "image_1       0\n",
       "title_2       8\n",
       "image_2       0\n",
       "dtype: int64"
      ]
     },
     "execution_count": 13,
     "metadata": {},
     "output_type": "execute_result"
    }
   ],
   "source": [
    "d_final.isna().sum()"
   ]
  },
  {
   "cell_type": "code",
   "execution_count": 14,
   "metadata": {},
   "outputs": [],
   "source": [
    "d_final.loc[d_final.title_2.isna(), 'title_2'] = d_final.loc[d_final.title_2.isna(), 'title_1']"
   ]
  },
  {
   "cell_type": "code",
   "execution_count": null,
   "metadata": {},
   "outputs": [],
   "source": [
    "d_final.isna().sum()"
   ]
  },
  {
   "cell_type": "code",
   "execution_count": null,
   "metadata": {},
   "outputs": [],
   "source": [
    "d_train.Label.value_counts().plot(kind='pie', autopct='%1.1f%%')\n",
    "plt.savefig('../figures/label_dist.png')"
   ]
  },
  {
   "cell_type": "markdown",
   "metadata": {},
   "source": [
    "## Need to cleansing\n",
    "\n",
    "- lower case\n",
    "- add space before|after symbol like ][\n",
    "- add space after number"
   ]
  },
  {
   "cell_type": "code",
   "execution_count": 15,
   "metadata": {},
   "outputs": [],
   "source": [
    "def text_cleansing(title):\n",
    "    table = str.maketrans(string.punctuation, ' '*len(string.punctuation)) #map punctuation to space\n",
    "    \n",
    "    title = title.lower()\n",
    "    title = re.sub('(\\d+)([a-zA-Z]+)', r'\\1 \\2', title)\n",
    "    title = re.sub('\\]', r' ] ', title)\n",
    "    title = re.sub('\\[', r' [ ', title)\n",
    "    title = title.translate(table)\n",
    "    title = re.sub(r'[^(a-z|A-Z|0-9)]', ' ', title)\n",
    "    title = \" \".join(title.split())\n",
    "    \n",
    "    return title"
   ]
  },
  {
   "cell_type": "code",
   "execution_count": null,
   "metadata": {},
   "outputs": [],
   "source": [
    "d_train.dropna(inplace=True)"
   ]
  },
  {
   "cell_type": "code",
   "execution_count": null,
   "metadata": {},
   "outputs": [],
   "source": [
    "d_train['title_1_pre'] = d_train.title_1.apply(text_cleansing)\n",
    "d_train['title_2_pre'] = d_train.title_2.apply(text_cleansing)"
   ]
  },
  {
   "cell_type": "code",
   "execution_count": null,
   "metadata": {},
   "outputs": [],
   "source": [
    "d_test['title_1_pre'] = d_test.title_1.apply(text_cleansing)\n",
    "d_test['title_2_pre'] = d_test.title_2.apply(text_cleansing)"
   ]
  },
  {
   "cell_type": "code",
   "execution_count": 16,
   "metadata": {},
   "outputs": [],
   "source": [
    "d_final['title_1_pre'] = d_final.title_1.apply(text_cleansing)\n",
    "d_final['title_2_pre'] = d_final.title_2.apply(text_cleansing)"
   ]
  },
  {
   "cell_type": "code",
   "execution_count": null,
   "metadata": {},
   "outputs": [],
   "source": [
    "d_train[[\"title_1_pre\", \"title_2_pre\", \"Label\"]]"
   ]
  },
  {
   "cell_type": "code",
   "execution_count": null,
   "metadata": {},
   "outputs": [],
   "source": [
    "d_test[[\"title_1_pre\", \"title_2_pre\"]]"
   ]
  },
  {
   "cell_type": "markdown",
   "metadata": {},
   "source": [
    "### Image"
   ]
  },
  {
   "cell_type": "code",
   "execution_count": 19,
   "metadata": {},
   "outputs": [],
   "source": [
    "def read_image_size(path):\n",
    "    try:\n",
    "        img_path = os.path.join(\"../data/final/test_img/test_img\", path)\n",
    "        img_arr = Image.open(img_path)\n",
    "        img_arr = img_arr.resize((224,224))\n",
    "        img_arr = img_arr.convert('RGB')\n",
    "        shape = img_arr.size\n",
    "    except:\n",
    "        shape = None\n",
    "    return shape"
   ]
  },
  {
   "cell_type": "code",
   "execution_count": 20,
   "metadata": {},
   "outputs": [],
   "source": [
    "import numpy as np\n",
    "from PIL import ImageFile\n",
    "ImageFile.LOAD_TRUNCATED_IMAGES = True"
   ]
  },
  {
   "cell_type": "code",
   "execution_count": null,
   "metadata": {},
   "outputs": [],
   "source": [
    "img_arr = read_image_size(d_train.loc[5253, 'image_2'])"
   ]
  },
  {
   "cell_type": "code",
   "execution_count": null,
   "metadata": {},
   "outputs": [],
   "source": [
    "d_train['image_1_size'] = d_train.image_1.progress_apply(read_image_size)\n",
    "d_train['image_2_size'] = d_train.image_2.progress_apply(read_image_size)"
   ]
  },
  {
   "cell_type": "code",
   "execution_count": 21,
   "metadata": {},
   "outputs": [
    {
     "name": "stderr",
     "output_type": "stream",
     "text": [
      "100%|██████████| 32580/32580 [13:06<00:00, 41.40it/s]\n"
     ]
    }
   ],
   "source": [
    "d_final['image_1_size'] = d_final.image_1.progress_apply(read_image_size)"
   ]
  },
  {
   "cell_type": "code",
   "execution_count": 23,
   "metadata": {},
   "outputs": [
    {
     "name": "stderr",
     "output_type": "stream",
     "text": [
      "100%|██████████| 32580/32580 [12:33<00:00, 43.23it/s]\n"
     ]
    }
   ],
   "source": [
    "d_final['image_2_size'] = d_final.image_2.progress_apply(read_image_size)"
   ]
  },
  {
   "cell_type": "code",
   "execution_count": 24,
   "metadata": {},
   "outputs": [
    {
     "data": {
      "text/plain": [
       "pair_index      0\n",
       "title_1         0\n",
       "image_1         0\n",
       "title_2         0\n",
       "image_2         0\n",
       "title_1_pre     0\n",
       "title_2_pre     0\n",
       "image_1_size    0\n",
       "image_2_size    0\n",
       "dtype: int64"
      ]
     },
     "execution_count": 24,
     "metadata": {},
     "output_type": "execute_result"
    }
   ],
   "source": [
    "d_final.isna().sum()"
   ]
  },
  {
   "cell_type": "code",
   "execution_count": null,
   "metadata": {},
   "outputs": [],
   "source": [
    "d_train.isna().sum()"
   ]
  },
  {
   "cell_type": "code",
   "execution_count": null,
   "metadata": {},
   "outputs": [],
   "source": [
    "d_train[d_train.image_2_size.isna()]"
   ]
  },
  {
   "cell_type": "code",
   "execution_count": null,
   "metadata": {},
   "outputs": [],
   "source": [
    "d_train[\"image_1_channel\"] = d_train.image_1_size.apply(lambda x: x[2])\n",
    "d_train[\"image_2_channel\"] = d_train.image_2_size.apply(lambda x: x[2])"
   ]
  },
  {
   "cell_type": "code",
   "execution_count": null,
   "metadata": {},
   "outputs": [],
   "source": [
    "d_train.image_1_channel.value_counts()"
   ]
  },
  {
   "cell_type": "code",
   "execution_count": null,
   "metadata": {},
   "outputs": [],
   "source": [
    "d_train.image_2_channel.value_counts()"
   ]
  },
  {
   "cell_type": "code",
   "execution_count": null,
   "metadata": {},
   "outputs": [],
   "source": [
    "d_train"
   ]
  },
  {
   "cell_type": "code",
   "execution_count": null,
   "metadata": {},
   "outputs": [],
   "source": [
    "d_train.to_csv(\"../data/text_clean/train.csv\", index=False)\n",
    "d_test.to_csv(\"../data/text_clean/test.csv\", index=False)"
   ]
  },
  {
   "cell_type": "code",
   "execution_count": 28,
   "metadata": {},
   "outputs": [],
   "source": [
    "d_final[['pair_index', 'title_1', 'image_1', 'title_2', 'image_2', 'title_1_pre',\n",
    "       'title_2_pre']].to_csv(\"../data/text_clean/final.csv\", index=False)"
   ]
  },
  {
   "cell_type": "code",
   "execution_count": null,
   "metadata": {},
   "outputs": [],
   "source": []
  }
 ],
 "metadata": {
  "kernelspec": {
   "display_name": "Python 3",
   "language": "python",
   "name": "python3"
  },
  "language_info": {
   "codemirror_mode": {
    "name": "ipython",
    "version": 3
   },
   "file_extension": ".py",
   "mimetype": "text/x-python",
   "name": "python",
   "nbconvert_exporter": "python",
   "pygments_lexer": "ipython3",
   "version": "3.8.5"
  }
 },
 "nbformat": 4,
 "nbformat_minor": 4
}
