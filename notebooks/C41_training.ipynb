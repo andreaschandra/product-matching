{
 "cells": [
  {
   "cell_type": "code",
   "execution_count": 1,
   "metadata": {},
   "outputs": [],
   "source": [
    "import os\n",
    "import time\n",
    "from itertools import chain\n",
    "\n",
    "import pandas as pd\n",
    "import numpy as np\n",
    "\n",
    "from nltk.tokenize import word_tokenize\n",
    "from sklearn.model_selection import train_test_split\n",
    "from PIL import Image\n",
    "\n",
    "import torch\n",
    "import torch.nn as nn\n",
    "import torch.nn.functional as nnF\n",
    "import torch.optim as optim\n",
    "from torch.nn.utils.rnn import pad_sequence\n",
    "from torch.utils.data import DataLoader\n",
    "\n",
    "import torchvision.models as models\n",
    "from torchvision.transforms import functional as F"
   ]
  },
  {
   "cell_type": "code",
   "execution_count": 2,
   "metadata": {},
   "outputs": [],
   "source": [
    "def data_text_prep():\n",
    "    d_train = pd.read_csv(\"../data/text_clean/train.csv\")\n",
    "    d_test = pd.read_csv(\"../data/text_clean/test.csv\")\n",
    "\n",
    "    # tokenize\n",
    "    d_train.loc[:, 'title_1_token'] = d_train.title_1_pre.apply(word_tokenize)\n",
    "    d_train.loc[:, 'title_2_token'] = d_train.title_2_pre.apply(word_tokenize)\n",
    "\n",
    "    d_test.loc[:, 'title_1_token'] = d_test.title_1_pre.apply(word_tokenize)\n",
    "    d_test.loc[:, 'title_2_token'] = d_test.title_2_pre.apply(word_tokenize)\n",
    "    \n",
    "    title_token = list(chain(*d_train.title_1_token.tolist() + d_train.title_2_token.tolist()))\n",
    "    vocab_token = list(set(title_token))\n",
    "\n",
    "    word2idx = dict((w, k) for k, w in enumerate(vocab_token, 2))\n",
    "    idx2word = dict((k, w) for k, w in enumerate(vocab_token, 2))\n",
    "\n",
    "    word2idx['<UNK>'] = 1\n",
    "    idx2word[1] = '<UNK>'\n",
    "    word2idx['<PAD>'] = 0\n",
    "    idx2word[0] = '<PAD>'\n",
    "    \n",
    "    return d_train, d_test, word2idx, idx2word"
   ]
  },
  {
   "cell_type": "code",
   "execution_count": 3,
   "metadata": {},
   "outputs": [],
   "source": [
    "class ShopeeDataset():\n",
    "    def __init__(self, data, test, word2idx, idx2word):\n",
    "        train, val = train_test_split(data, random_state=127)\n",
    "        train.reset_index(drop=True, inplace=True)\n",
    "        val.reset_index(drop=True, inplace=True)\n",
    "        self.word2idx = word2idx\n",
    "        self.idx2word = idx2word\n",
    "        self.dataset = {\n",
    "            'train': (train, train.shape[0]),\n",
    "            'val': (val, val.shape[0]),\n",
    "            'test': (test, test.shape[0])\n",
    "        }\n",
    "        self.set_split('train')\n",
    "        \n",
    "    def set_split(self, split='train'):\n",
    "        self.data, self.length = self.dataset[split]\n",
    "    \n",
    "    def encode(self, text):\n",
    "        token_ids = []\n",
    "        for word in text:\n",
    "            try:\n",
    "                token_ids.append(self.word2idx[word])\n",
    "            except:\n",
    "                token_ids.append(1)\n",
    "        token_ids = torch.LongTensor(token_ids)\n",
    "        return token_ids\n",
    "    \n",
    "    def decode(self, ids):\n",
    "        words = []\n",
    "        for id_ in ids:\n",
    "            try:\n",
    "                words.append(self.idx2word[id_])\n",
    "            except:\n",
    "                words.append('<UNK>')\n",
    "                \n",
    "        return words\n",
    "    \n",
    "    def set_fix_length(self, ids):\n",
    "        length = ids.shape[0]\n",
    "        zeros = torch.zeros(25, dtype=torch.long)\n",
    "        \n",
    "        if length <= 25:\n",
    "            zeros[:length] = ids\n",
    "        else:\n",
    "            zeros = ids[:25]\n",
    "            \n",
    "        return zeros\n",
    "    \n",
    "    def read_image(self, path):\n",
    "        img_arr = Image.open(path)\n",
    "        img_arr = img_arr.resize((224, 224))\n",
    "        img_arr = img_arr.convert('RGB')\n",
    "        img_arr = F.to_tensor(img_arr)\n",
    "        \n",
    "        return img_arr\n",
    "    \n",
    "    def __getitem__(self, idx):\n",
    "        t1 = self.data.loc[idx, 'title_1_token']\n",
    "        t2 = self.data.loc[idx, 'title_2_token']\n",
    "        i1 = self.data.loc[idx, 'image_1']\n",
    "        i2 = self.data.loc[idx, 'image_2']\n",
    "        label = self.data.loc[idx, 'Label']\n",
    "        \n",
    "        t1_encode = self.encode(t1)\n",
    "        t2_encode = self.encode(t2)\n",
    "        \n",
    "        t1_encode = self.set_fix_length(t1_encode)\n",
    "        t2_encode = self.set_fix_length(t2_encode)\n",
    "        \n",
    "        i1_scaled = self.read_image(os.path.join(\"../data/raw/training_img/training_img\", i1))\n",
    "        i2_scaled = self.read_image(os.path.join(\"../data/raw/training_img/training_img\", i2))\n",
    "        \n",
    "        return t1_encode, t2_encode, i1_scaled, i2_scaled, label\n",
    "    \n",
    "    def __len__(self):\n",
    "        return self.length"
   ]
  },
  {
   "cell_type": "code",
   "execution_count": 4,
   "metadata": {},
   "outputs": [],
   "source": [
    "class TextEncoder(nn.Module):\n",
    "    def __init__(self, num_vocab, emb_size=512, hid_size=256, num_layers=1):\n",
    "        super(TextEncoder, self).__init__()\n",
    "        self.network = nn.Sequential(\n",
    "            nn.Embedding(num_vocab, emb_size),\n",
    "            nn.LSTM(emb_size, hid_size, num_layers=num_layers, batch_first=True)\n",
    "        )\n",
    "        \n",
    "    def forward(self, input_):\n",
    "        out, (h, c) = self.network(input_)\n",
    "        out = out.unsqueeze(1)\n",
    "        \n",
    "        return out"
   ]
  },
  {
   "cell_type": "code",
   "execution_count": 5,
   "metadata": {},
   "outputs": [],
   "source": [
    "class ImageEncoder(nn.Module):\n",
    "    def __init__(self, out_channels=256, kernel_size=(3,3)):\n",
    "        super(ImageEncoder, self).__init__()\n",
    "        \n",
    "        self.mobilenet = models.mobilenet_v2()\n",
    "        self.backbone = self.mobilenet.features\n",
    "        self.model = nn.Sequential(\n",
    "            self.backbone,\n",
    "            nn.Conv2d(in_channels=1280, out_channels=out_channels, kernel_size=kernel_size)\n",
    "        )\n",
    "    \n",
    "    def forward(self, input_):\n",
    "        batch_size = input_.shape[0]\n",
    "        out = self.model(input_)\n",
    "        \n",
    "        n_channel = out.shape[1]\n",
    "        out = torch.reshape(out, (batch_size, n_channel, -1))\n",
    "        \n",
    "        out = out.unsqueeze(1)\n",
    "        out = out.permute(0,1,3,2)\n",
    "        \n",
    "        return out"
   ]
  },
  {
   "cell_type": "code",
   "execution_count": 6,
   "metadata": {},
   "outputs": [],
   "source": [
    "class BaseNetwork(nn.Module):\n",
    "    def __init__(self, in_channel, kernel_size_cnn=(3,11), kernel_size_max_pool=2):\n",
    "        super(BaseNetwork, self).__init__()\n",
    "        \n",
    "        self.base_network = nn.Sequential(\n",
    "            nn.Conv2d(in_channels=in_channel, out_channels=1, kernel_size=kernel_size_cnn),\n",
    "            nn.MaxPool2d(kernel_size=kernel_size_max_pool),\n",
    "            nn.Conv2d(in_channels=1, out_channels=1, kernel_size=kernel_size_cnn),\n",
    "            nn.MaxPool2d(kernel_size=kernel_size_max_pool),\n",
    "            nn.Conv2d(in_channels=1, out_channels=1, kernel_size=kernel_size_cnn),\n",
    "            nn.MaxPool2d(kernel_size=kernel_size_max_pool)\n",
    "        )\n",
    "        \n",
    "    def forward(self, input_):\n",
    "        out = self.base_network(input_)\n",
    "        out = out.squeeze(1)\n",
    "        out = out.squeeze(1)\n",
    "        \n",
    "        return out"
   ]
  },
  {
   "cell_type": "code",
   "execution_count": 7,
   "metadata": {},
   "outputs": [],
   "source": [
    "class WrapperModel(nn.Module):\n",
    "    def __init__(self):\n",
    "        super(WrapperModel, self).__init__()\n",
    "        self.model_text = TextEncoder(num_vocab=len(word2idx))\n",
    "        self.model_image = ImageEncoder()\n",
    "        self.model_base = BaseNetwork(in_channel=1)\n",
    "        self.fc = nn.Linear(1, 1)\n",
    "        \n",
    "    def forward(self, t1_encode, t2_encode, i1_scaled, i2_scaled):\n",
    "        feat_t1 = self.model_text(t1_encode)\n",
    "        feat_t2 = self.model_text(t2_encode)\n",
    "        \n",
    "        feat_i1 = self.model_image(i1_scaled)\n",
    "        feat_i2 = self.model_image(i2_scaled)\n",
    "        \n",
    "        # concatenate\n",
    "        concat_1 = torch.cat((feat_t1, feat_i1), axis=3)\n",
    "        concat_2 = torch.cat((feat_t2, feat_i2), axis=3)\n",
    "        \n",
    "        vec_1 = self.model_base(concat_1)\n",
    "        vec_2 = self.model_base(concat_2)\n",
    "        \n",
    "        ed = euclidean_distance(vec_1, vec_2)\n",
    "        \n",
    "        out = self.fc(ed)\n",
    "        \n",
    "        return out, ed"
   ]
  },
  {
   "cell_type": "code",
   "execution_count": 8,
   "metadata": {},
   "outputs": [],
   "source": [
    "def euclidean_distance(vec_1, vec_2):\n",
    "    ed = torch.sqrt(torch.sum(torch.pow(vec_1-vec_2, 2), dim=1))\n",
    "    ed = ed.reshape(-1, 1)\n",
    "    return ed"
   ]
  },
  {
   "cell_type": "code",
   "execution_count": 9,
   "metadata": {},
   "outputs": [],
   "source": [
    "def cont_loss(label, distance, margin=0.5):\n",
    "    loss_contrastive = torch.mean(label * torch.pow(distance, 2) +\n",
    "                                  (1-label )* torch.pow(torch.clamp(margin - distance, min=0), 2))\n",
    "    \n",
    "    return loss_contrastive"
   ]
  },
  {
   "cell_type": "code",
   "execution_count": 10,
   "metadata": {},
   "outputs": [],
   "source": [
    "def compute_accuracy(y_true, y_pred):\n",
    "    y_pred = (y_pred > 0.5).long().squeeze()\n",
    "#     y_pred = y_pred.argmax(1)\n",
    "    n_correct = torch.eq(y_true, y_pred).sum().item()\n",
    "    accuracy = (n_correct/label.shape[0])*100\n",
    "    \n",
    "    return accuracy"
   ]
  },
  {
   "cell_type": "code",
   "execution_count": 11,
   "metadata": {},
   "outputs": [],
   "source": [
    "train, test, word2idx, idx2word = data_text_prep()"
   ]
  },
  {
   "cell_type": "code",
   "execution_count": 12,
   "metadata": {},
   "outputs": [],
   "source": [
    "dataset = ShopeeDataset(train, test, word2idx, idx2word)\n",
    "model = WrapperModel()"
   ]
  },
  {
   "cell_type": "code",
   "execution_count": 13,
   "metadata": {},
   "outputs": [
    {
     "name": "stdout",
     "output_type": "stream",
     "text": [
      "Trainable params: 11,582,544\n"
     ]
    }
   ],
   "source": [
    "num_params = sum(p.numel() for p in model.parameters())\n",
    "print(f\"Trainable params: {num_params:,}\")"
   ]
  },
  {
   "cell_type": "code",
   "execution_count": 14,
   "metadata": {},
   "outputs": [],
   "source": [
    "optimizer = optim.AdamW(model.parameters(), lr=1e-3)\n",
    "# criterion = nn.BCELoss()"
   ]
  },
  {
   "cell_type": "code",
   "execution_count": null,
   "metadata": {
    "scrolled": true
   },
   "outputs": [],
   "source": [
    "for epoch in range(1, 101):\n",
    "    \n",
    "    running_loss = 0\n",
    "    running_loss_v = 0\n",
    "    running_acc = 0\n",
    "    running_acc_v = 0\n",
    "    \n",
    "    start = time.time()\n",
    "    \n",
    "    model.train()\n",
    "    dataset.set_split('train')\n",
    "    data_gen = DataLoader(dataset, batch_size=32)\n",
    "    for batch_index, (t1_encode, t2_encode, i1_scaled, i2_scaled, label) in enumerate(data_gen, 1):\n",
    "        optimizer.zero_grad()\n",
    "        \n",
    "        y_pred, distance = model(t1_encode, t2_encode, i1_scaled, i2_scaled)\n",
    "        y_pred = torch.sigmoid(y_pred)\n",
    "        loss = cont_loss(label, distance, margin=0.5)\n",
    "#         loss = criterion(torch.sigmoid(distance), label.type(torch.float))\n",
    "        running_loss += (loss.item() - running_loss) / batch_index\n",
    "        \n",
    "        accuracy = compute_accuracy(label, y_pred)\n",
    "        running_acc += (accuracy - running_acc) / batch_index\n",
    "        \n",
    "        loss.backward()\n",
    "        \n",
    "        optimizer.step()\n",
    "        break\n",
    "    \n",
    "    \n",
    "    model.eval()\n",
    "    dataset.set_split('val')\n",
    "    data_gen = DataLoader(dataset, batch_size=32)\n",
    "    for batch_index, (t1_encode, t2_encode, i1_scaled, i2_scaled, label) in enumerate(data_gen, 1):\n",
    "\n",
    "        y_pred, distance = model(t1_encode, t2_encode, i1_scaled, i2_scaled)\n",
    "        y_pred = torch.sigmoid(y_pred)\n",
    "        \n",
    "        loss = cont_loss(label, distance, margin=0.5)\n",
    "#         loss = criterion(torch.sigmoid(distance), label.type(torch.float))\n",
    "        running_loss_v += (loss.item() - running_loss_v) / batch_index\n",
    "        \n",
    "        accuracy = compute_accuracy(label, y_pred)\n",
    "        running_acc_v += (accuracy - running_acc_v) / batch_index\n",
    "        break\n",
    "    \n",
    "    duration = time.time() - start\n",
    "    print(f\"epoch: {epoch} | time: {duration:.1f}s\")\n",
    "    print(f\"\\ttrain loss: {running_loss:.2f} | train accuracy: {running_acc:.2f}\")\n",
    "    print(f\"\\tval loss: {running_loss_v:.2f} | val accuracy: {running_acc_v:.2f}\")"
   ]
  },
  {
   "cell_type": "code",
   "execution_count": null,
   "metadata": {},
   "outputs": [],
   "source": [
    "dataset.data.loc[12, :]"
   ]
  },
  {
   "cell_type": "code",
   "execution_count": null,
   "metadata": {},
   "outputs": [],
   "source": [
    "img = dataset.read_image(\"../data/raw/training_img/training_img/b5fccecda25cde1a5e24e8d509e342a7.jpg\")"
   ]
  },
  {
   "cell_type": "code",
   "execution_count": null,
   "metadata": {},
   "outputs": [],
   "source": [
    "img.shape"
   ]
  },
  {
   "cell_type": "code",
   "execution_count": null,
   "metadata": {},
   "outputs": [],
   "source": [
    "img = Image.open(\"../data/raw/training_img/training_img/b5fccecda25cde1a5e24e8d509e342a7.jpg\")"
   ]
  },
  {
   "cell_type": "code",
   "execution_count": null,
   "metadata": {},
   "outputs": [],
   "source": [
    "np.array(img).shape"
   ]
  },
  {
   "cell_type": "code",
   "execution_count": null,
   "metadata": {},
   "outputs": [],
   "source": [
    "label"
   ]
  },
  {
   "cell_type": "code",
   "execution_count": null,
   "metadata": {},
   "outputs": [],
   "source": [
    "y_pred"
   ]
  },
  {
   "cell_type": "code",
   "execution_count": null,
   "metadata": {},
   "outputs": [],
   "source": [
    "len(embedding_weight)"
   ]
  },
  {
   "cell_type": "code",
   "execution_count": null,
   "metadata": {},
   "outputs": [],
   "source": [
    "embedding_weight[1].data"
   ]
  },
  {
   "cell_type": "code",
   "execution_count": null,
   "metadata": {},
   "outputs": [],
   "source": [
    "embedding_weight[2].data"
   ]
  },
  {
   "cell_type": "code",
   "execution_count": null,
   "metadata": {},
   "outputs": [],
   "source": [
    "for i in range(len(embedding_weight) - 1):\n",
    "    change = torch.eq(embedding_weight[i].data, embedding_weight[i+1].data).sum().item()\n",
    "    print(change)"
   ]
  },
  {
   "cell_type": "code",
   "execution_count": null,
   "metadata": {},
   "outputs": [],
   "source": []
  }
 ],
 "metadata": {
  "kernelspec": {
   "display_name": "Python 3",
   "language": "python",
   "name": "python3"
  },
  "language_info": {
   "codemirror_mode": {
    "name": "ipython",
    "version": 3
   },
   "file_extension": ".py",
   "mimetype": "text/x-python",
   "name": "python",
   "nbconvert_exporter": "python",
   "pygments_lexer": "ipython3",
   "version": "3.8.3"
  }
 },
 "nbformat": 4,
 "nbformat_minor": 4
}
