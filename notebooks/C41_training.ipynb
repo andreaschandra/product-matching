{
 "cells": [
  {
   "cell_type": "code",
   "execution_count": 76,
   "metadata": {},
   "outputs": [],
   "source": [
    "import os\n",
    "from itertools import chain\n",
    "\n",
    "import pandas as pd\n",
    "import numpy as np\n",
    "import matplotlib.pyplot as plt\n",
    "import seaborn as sns\n",
    "\n",
    "from nltk.tokenize import word_tokenize\n",
    "from sklearn.model_selection import train_test_split\n",
    "from PIL import Image\n",
    "\n",
    "import torch\n",
    "import torch.nn as nn\n",
    "import torch.nn.functional as nnF\n",
    "import torch.optim as optim\n",
    "from torch.nn.utils.rnn import pad_sequence\n",
    "from torch.utils.data import DataLoader\n",
    "\n",
    "import torchvision.models as models\n",
    "from torchvision.transforms import functional as F"
   ]
  },
  {
   "cell_type": "code",
   "execution_count": 2,
   "metadata": {},
   "outputs": [],
   "source": [
    "def data_text_prep():\n",
    "    d_train = pd.read_csv(\"../data/text_clean/train.csv\")\n",
    "    d_test = pd.read_csv(\"../data/text_clean/test.csv\")\n",
    "\n",
    "    # tokenize\n",
    "    d_train.loc[:, 'title_1_token'] = d_train.title_1_pre.apply(word_tokenize)\n",
    "    d_train.loc[:, 'title_2_token'] = d_train.title_2_pre.apply(word_tokenize)\n",
    "\n",
    "    d_test.loc[:, 'title_1_token'] = d_test.title_1_pre.apply(word_tokenize)\n",
    "    d_test.loc[:, 'title_2_token'] = d_test.title_2_pre.apply(word_tokenize)\n",
    "    \n",
    "    title_token = list(chain(*d_train.title_1_token.tolist() + d_train.title_2_token.tolist()))\n",
    "    vocab_token = list(set(title_token))\n",
    "\n",
    "    word2idx = dict((w, k) for k, w in enumerate(vocab_token, 2))\n",
    "    idx2word = dict((k, w) for k, w in enumerate(vocab_token, 2))\n",
    "\n",
    "    word2idx['<UNK>'] = 1\n",
    "    idx2word[1] = '<UNK>'\n",
    "    word2idx['<PAD>'] = 0\n",
    "    idx2word[0] = '<PAD>'\n",
    "    \n",
    "    return d_train, d_test, word2idx, idx2word"
   ]
  },
  {
   "cell_type": "code",
   "execution_count": 15,
   "metadata": {},
   "outputs": [],
   "source": [
    "class ShopeeDataset():\n",
    "    def __init__(self, data, test, word2idx, idx2word):\n",
    "        train, val = train_test_split(data)\n",
    "        train.reset_index(drop=True, inplace=True)\n",
    "        val.reset_index(drop=True, inplace=True)\n",
    "        self.word2idx = word2idx\n",
    "        self.idx2word = idx2word\n",
    "        self.dataset = {\n",
    "            'train': (train, train.shape[0]),\n",
    "            'val': (val, val.shape[0]),\n",
    "            'test': (test, test.shape[0])\n",
    "        }\n",
    "        self.set_split('train')\n",
    "        \n",
    "    def set_split(self, split='train'):\n",
    "        self.data, self.length = self.dataset[split]\n",
    "    \n",
    "    def encode(self, text):\n",
    "        token_ids = []\n",
    "        for word in text:\n",
    "            try:\n",
    "                token_ids.append(self.word2idx[word])\n",
    "            except:\n",
    "                token_ids.append(1)\n",
    "        token_ids = torch.LongTensor(token_ids)\n",
    "        return token_ids\n",
    "    \n",
    "    def decode(self, ids):\n",
    "        words = []\n",
    "        for id_ in ids:\n",
    "            try:\n",
    "                words.append(self.idx2word[id_])\n",
    "            except:\n",
    "                words.append('<UNK>')\n",
    "                \n",
    "        return words\n",
    "    \n",
    "    def set_fix_length(self, ids):\n",
    "        length = ids.shape[0]\n",
    "        zeros = torch.zeros(25, dtype=torch.long)\n",
    "        \n",
    "        if length <= 25:\n",
    "            zeros[:length] = ids\n",
    "        else:\n",
    "            zeros = ids[:25]\n",
    "            \n",
    "        return zeros\n",
    "    \n",
    "    def read_image(self, path):\n",
    "        img_arr = Image.open(path)\n",
    "        img_arr = img_arr.resize((224, 224))\n",
    "        img_arr = F.to_tensor(img_arr)\n",
    "        \n",
    "        return img_arr\n",
    "    \n",
    "    def __getitem__(self, idx):\n",
    "        t1 = self.data.loc[idx, 'title_1_token']\n",
    "        t2 = self.data.loc[idx, 'title_2_token']\n",
    "        i1 = self.data.loc[idx, 'image_1']\n",
    "        i2 = self.data.loc[idx, 'image_2']\n",
    "        label = self.data.loc[idx, 'Label']\n",
    "        \n",
    "        t1_encode = self.encode(t1)\n",
    "        t2_encode = self.encode(t2)\n",
    "        \n",
    "        t1_encode = self.set_fix_length(t1_encode)\n",
    "        t2_encode = self.set_fix_length(t2_encode)\n",
    "        \n",
    "        i1_scaled = self.read_image(os.path.join(\"../data/raw/training_img/training_img\", i1))\n",
    "        i2_scaled = self.read_image(os.path.join(\"../data/raw/training_img/training_img\", i2))\n",
    "        \n",
    "        return t1_encode, t2_encode, i1_scaled, i2_scaled, label\n",
    "    \n",
    "    def __len__(self):\n",
    "        return self.length"
   ]
  },
  {
   "cell_type": "code",
   "execution_count": 100,
   "metadata": {},
   "outputs": [],
   "source": [
    "class TextEncoder(nn.Module):\n",
    "    def __init__(self, num_vocab, emb_size=512, hid_size=256, num_layers=1):\n",
    "        super(TextEncoder, self).__init__()\n",
    "        self.network = nn.Sequential(\n",
    "            nn.Embedding(num_vocab, emb_size),\n",
    "            nn.LSTM(emb_size, hid_size, num_layers=num_layers, batch_first=True)\n",
    "        )\n",
    "        \n",
    "    def forward(self, input_):\n",
    "        out, (h, c) = self.network(input_)\n",
    "        out = out.unsqueeze(1)\n",
    "        \n",
    "        return out"
   ]
  },
  {
   "cell_type": "code",
   "execution_count": 101,
   "metadata": {},
   "outputs": [],
   "source": [
    "class ImageEncoder(nn.Module):\n",
    "    def __init__(self, out_channels=256, kernel_size=(3,3)):\n",
    "        super(ImageEncoder, self).__init__()\n",
    "        \n",
    "        self.mobilenet = models.mobilenet_v2()\n",
    "        self.backbone = self.mobilenet.features\n",
    "        self.model = nn.Sequential(\n",
    "            self.backbone,\n",
    "            nn.Conv2d(in_channels=1280, out_channels=out_channels, kernel_size=kernel_size)\n",
    "        )\n",
    "    \n",
    "    def forward(self, input_):\n",
    "        out = self.model(input_)\n",
    "        out = torch.reshape(out, (2, 1, 256, -1))\n",
    "        out = out.permute(0,1,3,2)\n",
    "        \n",
    "        return out"
   ]
  },
  {
   "cell_type": "code",
   "execution_count": 102,
   "metadata": {},
   "outputs": [],
   "source": [
    "class BaseNetwork(nn.Module):\n",
    "    def __init__(self, in_channel, kernel_size_cnn=(3,11), kernel_size_max_pool=2):\n",
    "        super(BaseNetwork, self).__init__()\n",
    "        \n",
    "        self.base_network = nn.Sequential(\n",
    "            nn.Conv2d(in_channels=in_channel, out_channels=1, kernel_size=kernel_size_cnn),\n",
    "            nn.MaxPool2d(kernel_size=kernel_size_max_pool),\n",
    "            nn.Conv2d(in_channels=1, out_channels=1, kernel_size=kernel_size_cnn),\n",
    "            nn.MaxPool2d(kernel_size=kernel_size_max_pool),\n",
    "            nn.Conv2d(in_channels=1, out_channels=1, kernel_size=kernel_size_cnn),\n",
    "            nn.MaxPool2d(kernel_size=kernel_size_max_pool)\n",
    "        )\n",
    "        \n",
    "    def forward(self, input_):\n",
    "        out = self.base_network(input_)\n",
    "        out = out.squeeze(1)\n",
    "        out = out.squeeze(1)\n",
    "        \n",
    "        return out"
   ]
  },
  {
   "cell_type": "code",
   "execution_count": 136,
   "metadata": {},
   "outputs": [],
   "source": [
    "class WrapperModel(nn.Module):\n",
    "    def __init__(self):\n",
    "        super(WrapperModel, self).__init__()\n",
    "        self.model_text = TextEncoder(num_vocab=len(word2idx))\n",
    "        self.model_image = ImageEncoder()\n",
    "        self.model_base = BaseNetwork(in_channel=1)\n",
    "        \n",
    "    def forward(self, t1_encode, t2_encode, i1_scaled, i2_scaled):\n",
    "        feat_t1 = self.model_text(t1_encode)\n",
    "        feat_t2 = self.model_text(t2_encode)\n",
    "        \n",
    "        feat_i1 = self.model_image(i1_scaled)\n",
    "        feat_i2 = self.model_image(i2_scaled)\n",
    "        \n",
    "        # concatenate\n",
    "        concat_1 = torch.cat((feat_t1, feat_i1), axis=3)\n",
    "        concat_2 = torch.cat((feat_t2, feat_i2), axis=3)\n",
    "        \n",
    "        vec_1 = self.model_base(concat_1)\n",
    "        vec_2 = self.model_base(concat_2)\n",
    "        \n",
    "        return vec_1, vec_2"
   ]
  },
  {
   "cell_type": "code",
   "execution_count": 142,
   "metadata": {},
   "outputs": [],
   "source": [
    "def euclidean_distance(vec_1, vec_2):\n",
    "    ed = torch.sqrt(torch.sum(torch.pow(vec_1-vec_2, 2), dim=1))\n",
    "    \n",
    "    return ed"
   ]
  },
  {
   "cell_type": "code",
   "execution_count": 151,
   "metadata": {},
   "outputs": [],
   "source": [
    "def cont_loss(label, distance, margin=0.5):\n",
    "    loss_contrastive = torch.mean((label) * torch.pow(distance, 2) +\n",
    "                                  (1-label )* torch.pow(torch.clamp(margin - distance, min=0), 2))\n",
    "    \n",
    "    return loss_contrastive"
   ]
  },
  {
   "cell_type": "code",
   "execution_count": 116,
   "metadata": {},
   "outputs": [],
   "source": [
    "train, test, word2idx, idx2word = data_text_prep()"
   ]
  },
  {
   "cell_type": "code",
   "execution_count": 117,
   "metadata": {},
   "outputs": [],
   "source": [
    "dataset = ShopeeDataset(train, test, word2idx, idx2word)\n",
    "model_text = TextEncoder(num_vocab=len(word2idx))\n",
    "model_image = ImageEncoder()\n",
    "model_base = BaseNetwork(in_channel=1)"
   ]
  },
  {
   "cell_type": "code",
   "execution_count": 118,
   "metadata": {},
   "outputs": [],
   "source": [
    "model_wrap = WrapperModel()"
   ]
  },
  {
   "cell_type": "code",
   "execution_count": 119,
   "metadata": {},
   "outputs": [
    {
     "name": "stdout",
     "output_type": "stream",
     "text": [
      "Trainable params: 5,128,192\n"
     ]
    }
   ],
   "source": [
    "num_params = sum(p.numel() for p in model_text.parameters())\n",
    "print(f\"Trainable params: {num_params:,}\")"
   ]
  },
  {
   "cell_type": "code",
   "execution_count": 120,
   "metadata": {},
   "outputs": [
    {
     "name": "stdout",
     "output_type": "stream",
     "text": [
      "Trainable params: 6,454,248\n"
     ]
    }
   ],
   "source": [
    "num_params = sum(p.numel() for p in model_image.parameters())\n",
    "print(f\"Trainable params: {num_params:,}\")"
   ]
  },
  {
   "cell_type": "code",
   "execution_count": 121,
   "metadata": {},
   "outputs": [
    {
     "name": "stdout",
     "output_type": "stream",
     "text": [
      "Trainable params: 102\n"
     ]
    }
   ],
   "source": [
    "num_params = sum(p.numel() for p in model_base.parameters())\n",
    "print(f\"Trainable params: {num_params:,}\")"
   ]
  },
  {
   "cell_type": "code",
   "execution_count": 122,
   "metadata": {},
   "outputs": [
    {
     "name": "stdout",
     "output_type": "stream",
     "text": [
      "Trainable params: 11,582,542\n"
     ]
    }
   ],
   "source": [
    "num_params = sum(p.numel() for p in model_wrap.parameters())\n",
    "print(f\"Trainable params: {num_params:,}\")"
   ]
  },
  {
   "cell_type": "code",
   "execution_count": 123,
   "metadata": {},
   "outputs": [],
   "source": [
    "data_gen = DataLoader(dataset, batch_size=2)"
   ]
  },
  {
   "cell_type": "code",
   "execution_count": 124,
   "metadata": {},
   "outputs": [],
   "source": [
    "for t1_encode, t2_encode, i1_scaled, i2_scaled, label in data_gen:\n",
    "    break"
   ]
  },
  {
   "cell_type": "code",
   "execution_count": 125,
   "metadata": {},
   "outputs": [],
   "source": [
    "feat_t1 = model_text(t1_encode)\n",
    "feat_t2 = model_text(t2_encode)"
   ]
  },
  {
   "cell_type": "code",
   "execution_count": 126,
   "metadata": {},
   "outputs": [],
   "source": [
    "feat_i1 = model_image(i1_scaled)\n",
    "feat_i2 = model_image(i2_scaled)"
   ]
  },
  {
   "cell_type": "code",
   "execution_count": 127,
   "metadata": {},
   "outputs": [],
   "source": [
    "# concatenate\n",
    "concat_1 = torch.cat((feat_t1, feat_i1), axis=3)\n",
    "concat_2 = torch.cat((feat_t2, feat_i2), axis=3)"
   ]
  },
  {
   "cell_type": "code",
   "execution_count": 130,
   "metadata": {},
   "outputs": [],
   "source": [
    "vec_1 = model_base(concat_1)\n",
    "vec_2 = model_base(concat_2)"
   ]
  },
  {
   "cell_type": "code",
   "execution_count": 131,
   "metadata": {},
   "outputs": [
    {
     "data": {
      "text/plain": [
       "torch.Size([2, 55])"
      ]
     },
     "execution_count": 131,
     "metadata": {},
     "output_type": "execute_result"
    }
   ],
   "source": [
    "vec_1.shape"
   ]
  },
  {
   "cell_type": "code",
   "execution_count": 132,
   "metadata": {},
   "outputs": [
    {
     "data": {
      "text/plain": [
       "torch.Size([2, 55])"
      ]
     },
     "execution_count": 132,
     "metadata": {},
     "output_type": "execute_result"
    }
   ],
   "source": [
    "vec_2.shape"
   ]
  },
  {
   "cell_type": "code",
   "execution_count": 133,
   "metadata": {},
   "outputs": [],
   "source": [
    "vec_1, vec_2 = model_wrap(t1_encode, t2_encode, i1_scaled, i2_scaled)"
   ]
  },
  {
   "cell_type": "code",
   "execution_count": 134,
   "metadata": {},
   "outputs": [
    {
     "data": {
      "text/plain": [
       "torch.Size([2, 55])"
      ]
     },
     "execution_count": 134,
     "metadata": {},
     "output_type": "execute_result"
    }
   ],
   "source": [
    "vec_1.shape"
   ]
  },
  {
   "cell_type": "code",
   "execution_count": 135,
   "metadata": {},
   "outputs": [
    {
     "data": {
      "text/plain": [
       "torch.Size([2, 55])"
      ]
     },
     "execution_count": 135,
     "metadata": {},
     "output_type": "execute_result"
    }
   ],
   "source": [
    "vec_2.shape"
   ]
  },
  {
   "cell_type": "code",
   "execution_count": 143,
   "metadata": {},
   "outputs": [],
   "source": [
    "ed = euclidean_distance(vec_1, vec_2)"
   ]
  },
  {
   "cell_type": "code",
   "execution_count": 149,
   "metadata": {},
   "outputs": [
    {
     "data": {
      "text/plain": [
       "tensor([1, 0])"
      ]
     },
     "execution_count": 149,
     "metadata": {},
     "output_type": "execute_result"
    }
   ],
   "source": [
    "label"
   ]
  },
  {
   "cell_type": "code",
   "execution_count": 152,
   "metadata": {},
   "outputs": [],
   "source": [
    "loss = cont_loss(label, ed)"
   ]
  },
  {
   "cell_type": "code",
   "execution_count": 154,
   "metadata": {},
   "outputs": [],
   "source": [
    "loss.backward()"
   ]
  },
  {
   "cell_type": "code",
   "execution_count": null,
   "metadata": {},
   "outputs": [],
   "source": []
  }
 ],
 "metadata": {
  "kernelspec": {
   "display_name": "Python 3",
   "language": "python",
   "name": "python3"
  },
  "language_info": {
   "codemirror_mode": {
    "name": "ipython",
    "version": 3
   },
   "file_extension": ".py",
   "mimetype": "text/x-python",
   "name": "python",
   "nbconvert_exporter": "python",
   "pygments_lexer": "ipython3",
   "version": "3.8.3"
  }
 },
 "nbformat": 4,
 "nbformat_minor": 4
}
