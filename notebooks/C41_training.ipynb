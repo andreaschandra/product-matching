{
 "cells": [
  {
   "cell_type": "code",
   "execution_count": 1,
   "metadata": {},
   "outputs": [],
   "source": [
    "import os\n",
    "import time\n",
    "from itertools import chain\n",
    "from tqdm import tqdm\n",
    "\n",
    "import pandas as pd\n",
    "import numpy as np\n",
    "\n",
    "from nltk.tokenize import word_tokenize\n",
    "from sklearn.model_selection import train_test_split\n",
    "from PIL import Image\n",
    "from PIL import ImageFile\n",
    "\n",
    "import torch\n",
    "import torch.nn as nn\n",
    "import torch.nn.functional as nnF\n",
    "import torch.optim as optim\n",
    "from torch.nn.utils.rnn import pad_sequence\n",
    "from torch.utils.data import DataLoader\n",
    "\n",
    "import torchvision.models as models\n",
    "from torchvision.transforms import functional as F"
   ]
  },
  {
   "cell_type": "code",
   "execution_count": 2,
   "metadata": {},
   "outputs": [],
   "source": [
    "ImageFile.LOAD_TRUNCATED_IMAGES = True"
   ]
  },
  {
   "cell_type": "code",
   "execution_count": 3,
   "metadata": {},
   "outputs": [
    {
     "data": {
      "text/plain": [
       "True"
      ]
     },
     "execution_count": 3,
     "metadata": {},
     "output_type": "execute_result"
    }
   ],
   "source": [
    "torch.cuda.is_available()"
   ]
  },
  {
   "cell_type": "code",
   "execution_count": 4,
   "metadata": {},
   "outputs": [
    {
     "data": {
      "text/plain": [
       "<torch._C.Generator at 0x7ff21ff04930>"
      ]
     },
     "execution_count": 4,
     "metadata": {},
     "output_type": "execute_result"
    }
   ],
   "source": [
    "torch.manual_seed(123)"
   ]
  },
  {
   "cell_type": "code",
   "execution_count": 5,
   "metadata": {},
   "outputs": [],
   "source": [
    "def data_text_prep():\n",
    "    d_train = pd.read_csv(\"../data/text_clean/train.csv\")\n",
    "    d_test = pd.read_csv(\"../data/text_clean/test.csv\")\n",
    "    d_final = pd.read_csv(\"../data/text_clean/final.csv\")\n",
    "\n",
    "    # tokenize\n",
    "    d_train.loc[:, 'title_1_token'] = d_train.title_1_pre.apply(word_tokenize)\n",
    "    d_train.loc[:, 'title_2_token'] = d_train.title_2_pre.apply(word_tokenize)\n",
    "\n",
    "    d_test.loc[:, 'title_1_token'] = d_test.title_1_pre.apply(word_tokenize)\n",
    "    d_test.loc[:, 'title_2_token'] = d_test.title_2_pre.apply(word_tokenize)\n",
    "    \n",
    "    d_final.loc[:, 'title_1_token'] = d_final.title_1_pre.apply(word_tokenize)\n",
    "    d_final.loc[:, 'title_2_token'] = d_final.title_2_pre.apply(word_tokenize)\n",
    "    \n",
    "    title_token = list(chain(*d_train.title_1_token.tolist() + d_train.title_2_token.tolist()))\n",
    "    vocab_token = list(set(title_token))\n",
    "\n",
    "    word2idx = dict((w, k) for k, w in enumerate(vocab_token, 2))\n",
    "    idx2word = dict((k, w) for k, w in enumerate(vocab_token, 2))\n",
    "\n",
    "    word2idx['<UNK>'] = 1\n",
    "    idx2word[1] = '<UNK>'\n",
    "    word2idx['<PAD>'] = 0\n",
    "    idx2word[0] = '<PAD>'\n",
    "    \n",
    "    return d_train, d_test, d_final, word2idx, idx2word"
   ]
  },
  {
   "cell_type": "code",
   "execution_count": 6,
   "metadata": {},
   "outputs": [],
   "source": [
    "class ShopeeDataset():\n",
    "    def __init__(self, data, test, final, word2idx, idx2word):\n",
    "        data['Label'] = data.Label.map({1:0, 0:1})\n",
    "        train, val = train_test_split(data, random_state=127)\n",
    "        train.reset_index(drop=True, inplace=True)\n",
    "        val.reset_index(drop=True, inplace=True)\n",
    "        self.word2idx = word2idx\n",
    "        self.idx2word = idx2word\n",
    "        self.dataset = {\n",
    "            'train': (train, train.shape[0]),\n",
    "            'val': (val, val.shape[0]),\n",
    "            'test': (test, test.shape[0]),\n",
    "            'final': (final, final.shape[0])\n",
    "        }\n",
    "        self.set_split('train')\n",
    "        \n",
    "    def set_split(self, split='train'):\n",
    "        self.split = split\n",
    "        self.data, self.length = self.dataset[split]\n",
    "    \n",
    "    def encode(self, text):\n",
    "        token_ids = []\n",
    "        for word in text:\n",
    "            try:\n",
    "                token_ids.append(self.word2idx[word])\n",
    "            except:\n",
    "                token_ids.append(1)\n",
    "        token_ids = torch.LongTensor(token_ids)\n",
    "        return token_ids\n",
    "    \n",
    "    def decode(self, ids):\n",
    "        words = []\n",
    "        for id_ in ids:\n",
    "            try:\n",
    "                words.append(self.idx2word[id_])\n",
    "            except:\n",
    "                words.append('<UNK>')\n",
    "                \n",
    "        return words\n",
    "    \n",
    "    def set_fix_length(self, ids):\n",
    "        length = ids.shape[0]\n",
    "        zeros = torch.zeros(25, dtype=torch.long)\n",
    "        \n",
    "        if length <= 25:\n",
    "            zeros[:length] = ids\n",
    "        else:\n",
    "            zeros = ids[:25]\n",
    "            \n",
    "        return zeros\n",
    "    \n",
    "    def read_image(self, path):\n",
    "        img_arr = Image.open(path)\n",
    "        img_arr = img_arr.resize((224, 224))\n",
    "        img_arr = img_arr.convert('RGB')\n",
    "        img_arr = F.to_tensor(img_arr)\n",
    "        \n",
    "        return img_arr\n",
    "    \n",
    "    def __getitem__(self, idx):\n",
    "        t1 = self.data.loc[idx, 'title_1_token']\n",
    "        t2 = self.data.loc[idx, 'title_2_token']\n",
    "        i1 = self.data.loc[idx, 'image_1']\n",
    "        i2 = self.data.loc[idx, 'image_2']\n",
    "        try:\n",
    "            label = self.data.loc[idx, 'Label']\n",
    "        except:\n",
    "            label = 0\n",
    "        \n",
    "        t1_encode = self.encode(t1)\n",
    "        t2_encode = self.encode(t2)\n",
    "        \n",
    "        t1_encode = self.set_fix_length(t1_encode)\n",
    "        t2_encode = self.set_fix_length(t2_encode)\n",
    "        \n",
    "        if (self.split == \"train\") | (self.split == \"val\") :\n",
    "            dir_ = \"raw/training_img/training_img\"\n",
    "        elif (self.split == \"final\"):\n",
    "            dir_ = \"final/test_img/test_img\"\n",
    "        else:\n",
    "            dir_ = \"raw/sample_img/sample_img\"\n",
    "        \n",
    "        i1_scaled = self.read_image(os.path.join(f\"../data/{dir_}\", i1))\n",
    "        i2_scaled = self.read_image(os.path.join(f\"../data/{dir_}\", i2))\n",
    "        \n",
    "        return t1_encode, t2_encode, i1_scaled, i2_scaled, label\n",
    "    \n",
    "    def __len__(self):\n",
    "        return self.length"
   ]
  },
  {
   "cell_type": "code",
   "execution_count": 7,
   "metadata": {},
   "outputs": [],
   "source": [
    "class TextEncoder(nn.Module):\n",
    "    def __init__(self, num_vocab, emb_size=512, hid_size=256, num_layers=1):\n",
    "        super(TextEncoder, self).__init__()\n",
    "        self.network = nn.Sequential(\n",
    "            nn.Embedding(num_vocab, emb_size),\n",
    "            nn.LSTM(emb_size, hid_size, num_layers=num_layers, batch_first=True)\n",
    "        )\n",
    "        \n",
    "    def forward(self, input_):\n",
    "        out, (h, c) = self.network(input_)\n",
    "        out = out.unsqueeze(1)\n",
    "        \n",
    "        return out"
   ]
  },
  {
   "cell_type": "code",
   "execution_count": 8,
   "metadata": {},
   "outputs": [],
   "source": [
    "class ImageEncoder(nn.Module):\n",
    "    def __init__(self, out_channels=256, kernel_size=(3,3)):\n",
    "        super(ImageEncoder, self).__init__()\n",
    "        \n",
    "        mobilenet = models.mobilenet_v2(pretrained=True)\n",
    "        self.model = nn.Sequential(\n",
    "            mobilenet.features,\n",
    "            nn.Conv2d(in_channels=1280, out_channels=out_channels, kernel_size=kernel_size)\n",
    "        )\n",
    "    \n",
    "    def forward(self, input_):\n",
    "        batch_size = input_.shape[0]\n",
    "        out = self.model(input_)\n",
    "        \n",
    "        n_channel = out.shape[1]\n",
    "        out = torch.reshape(out, (batch_size, n_channel, -1))\n",
    "        \n",
    "        out = out.unsqueeze(1)\n",
    "        out = out.permute(0,1,3,2)\n",
    "        \n",
    "        return out"
   ]
  },
  {
   "cell_type": "code",
   "execution_count": 9,
   "metadata": {},
   "outputs": [],
   "source": [
    "class BaseNetwork(nn.Module):\n",
    "    def __init__(self, in_channel, kernel_size_cnn=(3,11), kernel_size_max_pool=2):\n",
    "        super(BaseNetwork, self).__init__()\n",
    "        \n",
    "        self.base_network = nn.Sequential(\n",
    "            nn.Conv2d(in_channels=in_channel, out_channels=1, kernel_size=kernel_size_cnn),\n",
    "            nn.ReLU(inplace=True),\n",
    "            nn.Conv2d(in_channels=1, out_channels=1, kernel_size=kernel_size_cnn),\n",
    "            nn.ReLU(inplace=True),\n",
    "            nn.AvgPool2d(kernel_size=kernel_size_max_pool),\n",
    "        )\n",
    "        \n",
    "    def forward(self, input_):\n",
    "        batch_size = input_.shape[0]\n",
    "        out = self.base_network(input_)\n",
    "        out = out.reshape(batch_size, -1)\n",
    "        \n",
    "        return out"
   ]
  },
  {
   "cell_type": "code",
   "execution_count": 10,
   "metadata": {},
   "outputs": [],
   "source": [
    "class WrapperModel(nn.Module):\n",
    "    def __init__(self):\n",
    "        super(WrapperModel, self).__init__()\n",
    "        self.model_text = TextEncoder(num_vocab=len(word2idx), num_layers=3)\n",
    "        self.model_image = ImageEncoder()\n",
    "        self.model_base = BaseNetwork(in_channel=1, kernel_size_cnn=(3,3))\n",
    "        self.fc = nn.Linear(1, 1)\n",
    "        \n",
    "    def forward(self, t1_encode, t2_encode, i1_scaled, i2_scaled):\n",
    "        feat_t1 = self.model_text(t1_encode)\n",
    "        feat_t2 = self.model_text(t2_encode)\n",
    "        \n",
    "        feat_i1 = self.model_image(i1_scaled)\n",
    "        feat_i2 = self.model_image(i2_scaled)\n",
    "        \n",
    "        # concatenate\n",
    "        concat_1 = torch.cat((feat_t1, feat_i1), axis=3)\n",
    "        concat_2 = torch.cat((feat_t2, feat_i2), axis=3)\n",
    "\n",
    "        vec_1 = self.model_base(concat_1)\n",
    "        vec_2 = self.model_base(concat_2)\n",
    "        \n",
    "        ed = nnF.pairwise_distance(vec_1, vec_2)\n",
    "        \n",
    "#         ed = euclidean_distance(vec_1, vec_2)\n",
    "        \n",
    "        return ed"
   ]
  },
  {
   "cell_type": "code",
   "execution_count": 11,
   "metadata": {},
   "outputs": [],
   "source": [
    "def euclidean_distance(vec_1, vec_2):\n",
    "    ed = torch.sqrt(torch.sum(torch.pow(vec_1-vec_2, 2), dim=1))\n",
    "    ed = ed.reshape(-1, 1)\n",
    "    return ed"
   ]
  },
  {
   "cell_type": "code",
   "execution_count": 12,
   "metadata": {},
   "outputs": [],
   "source": [
    "def cont_loss(label, distance, margin=0.5):\n",
    "    loss_contrastive = torch.mean(((1-label) * torch.pow(distance, 2)) +\n",
    "                                  (label * torch.pow(torch.clamp(2 - distance, min=0), 2)))\n",
    "    \n",
    "    return loss_contrastive"
   ]
  },
  {
   "cell_type": "code",
   "execution_count": 13,
   "metadata": {},
   "outputs": [],
   "source": [
    "def compute_accuracy(y_true, y_pred):\n",
    "    y_pred = (y_pred > 0.5).long().squeeze()\n",
    "#     y_pred = y_pred.argmax(1)\n",
    "    n_correct = torch.eq(y_true, y_pred).sum().item()\n",
    "    accuracy = (n_correct/y_true.shape[0])*100\n",
    "    \n",
    "    return accuracy"
   ]
  },
  {
   "cell_type": "code",
   "execution_count": 14,
   "metadata": {},
   "outputs": [],
   "source": [
    "train, test, final, word2idx, idx2word = data_text_prep()"
   ]
  },
  {
   "cell_type": "code",
   "execution_count": 15,
   "metadata": {},
   "outputs": [],
   "source": [
    "dataset = ShopeeDataset(train, test, final, word2idx, idx2word)"
   ]
  },
  {
   "cell_type": "code",
   "execution_count": 16,
   "metadata": {},
   "outputs": [],
   "source": [
    "model = WrapperModel()\n",
    "model.load_state_dict(torch.load(\"../models/model3.pth\"))\n",
    "model = model.to('cuda')"
   ]
  },
  {
   "cell_type": "code",
   "execution_count": 17,
   "metadata": {},
   "outputs": [
    {
     "name": "stdout",
     "output_type": "stream",
     "text": [
      "Trainable params: 11,354,134\n"
     ]
    }
   ],
   "source": [
    "num_params = sum(p.numel() for p in model.parameters())\n",
    "print(f\"Trainable params: {num_params:,}\")"
   ]
  },
  {
   "cell_type": "code",
   "execution_count": 18,
   "metadata": {},
   "outputs": [],
   "source": [
    "optimizer = optim.Adam(model.parameters(), lr=5e-3, weight_decay=1e-4)\n",
    "# criterion = nn.BCELoss()"
   ]
  },
  {
   "cell_type": "code",
   "execution_count": 19,
   "metadata": {
    "scrolled": true
   },
   "outputs": [
    {
     "name": "stderr",
     "output_type": "stream",
     "text": [
      "160it [05:29,  2.06s/it]\n",
      "54it [01:26,  1.60s/it]\n",
      "0it [00:00, ?it/s]"
     ]
    },
    {
     "name": "stdout",
     "output_type": "stream",
     "text": [
      "epoch: 0 | time: 416.4s\n",
      "\ttrain loss: 0.77 | train accuracy: 66.42 | train accuracy sigmoid: 42.40\n",
      "\tval loss: 0.73 | val accuracy: 68.75 | train accuracy sigmoid: 43.48\n"
     ]
    },
    {
     "name": "stderr",
     "output_type": "stream",
     "text": [
      "160it [05:16,  1.98s/it]\n",
      "0it [00:00, ?it/s]"
     ]
    },
    {
     "name": "stdout",
     "output_type": "stream",
     "text": [
      "epoch: 1 | time: 316.2s\n",
      "\ttrain loss: 0.70 | train accuracy: 66.95 | train accuracy sigmoid: 42.40\n",
      "\tval loss: 0.00 | val accuracy: 0.00 | train accuracy sigmoid: 0.00\n"
     ]
    },
    {
     "name": "stderr",
     "output_type": "stream",
     "text": [
      "160it [05:30,  2.07s/it]\n",
      "0it [00:00, ?it/s]"
     ]
    },
    {
     "name": "stdout",
     "output_type": "stream",
     "text": [
      "epoch: 2 | time: 330.6s\n",
      "\ttrain loss: 0.66 | train accuracy: 68.28 | train accuracy sigmoid: 42.40\n",
      "\tval loss: 0.00 | val accuracy: 0.00 | train accuracy sigmoid: 0.00\n"
     ]
    },
    {
     "name": "stderr",
     "output_type": "stream",
     "text": [
      "160it [05:10,  1.94s/it]\n",
      "54it [01:19,  1.48s/it]\n",
      "0it [00:00, ?it/s]"
     ]
    },
    {
     "name": "stdout",
     "output_type": "stream",
     "text": [
      "epoch: 3 | time: 390.6s\n",
      "\ttrain loss: 0.66 | train accuracy: 68.80 | train accuracy sigmoid: 42.40\n",
      "\tval loss: 0.67 | val accuracy: 70.87 | train accuracy sigmoid: 43.48\n"
     ]
    },
    {
     "name": "stderr",
     "output_type": "stream",
     "text": [
      "160it [05:09,  1.94s/it]\n",
      "0it [00:00, ?it/s]"
     ]
    },
    {
     "name": "stdout",
     "output_type": "stream",
     "text": [
      "epoch: 4 | time: 309.8s\n",
      "\ttrain loss: 0.68 | train accuracy: 69.51 | train accuracy sigmoid: 42.40\n",
      "\tval loss: 0.00 | val accuracy: 0.00 | train accuracy sigmoid: 0.00\n"
     ]
    },
    {
     "name": "stderr",
     "output_type": "stream",
     "text": [
      "160it [05:10,  1.94s/it]\n",
      "0it [00:00, ?it/s]"
     ]
    },
    {
     "name": "stdout",
     "output_type": "stream",
     "text": [
      "epoch: 5 | time: 310.3s\n",
      "\ttrain loss: 0.67 | train accuracy: 66.71 | train accuracy sigmoid: 42.40\n",
      "\tval loss: 0.00 | val accuracy: 0.00 | train accuracy sigmoid: 0.00\n"
     ]
    },
    {
     "name": "stderr",
     "output_type": "stream",
     "text": [
      "160it [05:14,  1.96s/it]\n",
      "54it [01:20,  1.50s/it]\n",
      "0it [00:00, ?it/s]"
     ]
    },
    {
     "name": "stdout",
     "output_type": "stream",
     "text": [
      "epoch: 6 | time: 395.2s\n",
      "\ttrain loss: 0.70 | train accuracy: 69.34 | train accuracy sigmoid: 42.40\n",
      "\tval loss: 0.76 | val accuracy: 68.75 | train accuracy sigmoid: 43.48\n"
     ]
    },
    {
     "name": "stderr",
     "output_type": "stream",
     "text": [
      "6it [00:13,  2.21s/it]\n"
     ]
    },
    {
     "ename": "KeyboardInterrupt",
     "evalue": "",
     "output_type": "error",
     "traceback": [
      "\u001b[0;31m---------------------------------------------------------------------------\u001b[0m",
      "\u001b[0;31mKeyboardInterrupt\u001b[0m                         Traceback (most recent call last)",
      "\u001b[0;32m<ipython-input-19-792f730c4dd3>\u001b[0m in \u001b[0;36m<module>\u001b[0;34m\u001b[0m\n\u001b[1;32m     14\u001b[0m     \u001b[0mdataset\u001b[0m\u001b[0;34m.\u001b[0m\u001b[0mset_split\u001b[0m\u001b[0;34m(\u001b[0m\u001b[0;34m'train'\u001b[0m\u001b[0;34m)\u001b[0m\u001b[0;34m\u001b[0m\u001b[0;34m\u001b[0m\u001b[0m\n\u001b[1;32m     15\u001b[0m     \u001b[0mdata_gen\u001b[0m \u001b[0;34m=\u001b[0m \u001b[0mDataLoader\u001b[0m\u001b[0;34m(\u001b[0m\u001b[0mdataset\u001b[0m\u001b[0;34m,\u001b[0m \u001b[0mbatch_size\u001b[0m\u001b[0;34m=\u001b[0m\u001b[0;36m48\u001b[0m\u001b[0;34m)\u001b[0m\u001b[0;34m\u001b[0m\u001b[0;34m\u001b[0m\u001b[0m\n\u001b[0;32m---> 16\u001b[0;31m     \u001b[0;32mfor\u001b[0m \u001b[0mbatch_index\u001b[0m\u001b[0;34m,\u001b[0m \u001b[0;34m(\u001b[0m\u001b[0mt1_encode\u001b[0m\u001b[0;34m,\u001b[0m \u001b[0mt2_encode\u001b[0m\u001b[0;34m,\u001b[0m \u001b[0mi1_scaled\u001b[0m\u001b[0;34m,\u001b[0m \u001b[0mi2_scaled\u001b[0m\u001b[0;34m,\u001b[0m \u001b[0mlabel_train\u001b[0m\u001b[0;34m)\u001b[0m \u001b[0;32min\u001b[0m \u001b[0mtqdm\u001b[0m\u001b[0;34m(\u001b[0m\u001b[0menumerate\u001b[0m\u001b[0;34m(\u001b[0m\u001b[0mdata_gen\u001b[0m\u001b[0;34m,\u001b[0m \u001b[0;36m1\u001b[0m\u001b[0;34m)\u001b[0m\u001b[0;34m)\u001b[0m\u001b[0;34m:\u001b[0m\u001b[0;34m\u001b[0m\u001b[0;34m\u001b[0m\u001b[0m\n\u001b[0m\u001b[1;32m     17\u001b[0m \u001b[0;34m\u001b[0m\u001b[0m\n\u001b[1;32m     18\u001b[0m         \u001b[0mt1_encode\u001b[0m \u001b[0;34m=\u001b[0m \u001b[0mt1_encode\u001b[0m\u001b[0;34m.\u001b[0m\u001b[0mto\u001b[0m\u001b[0;34m(\u001b[0m\u001b[0;34m'cuda'\u001b[0m\u001b[0;34m)\u001b[0m\u001b[0;34m\u001b[0m\u001b[0;34m\u001b[0m\u001b[0m\n",
      "\u001b[0;32m~/miniconda3/lib/python3.8/site-packages/tqdm/std.py\u001b[0m in \u001b[0;36m__iter__\u001b[0;34m(self)\u001b[0m\n\u001b[1;32m   1169\u001b[0m \u001b[0;34m\u001b[0m\u001b[0m\n\u001b[1;32m   1170\u001b[0m         \u001b[0;32mtry\u001b[0m\u001b[0;34m:\u001b[0m\u001b[0;34m\u001b[0m\u001b[0;34m\u001b[0m\u001b[0m\n\u001b[0;32m-> 1171\u001b[0;31m             \u001b[0;32mfor\u001b[0m \u001b[0mobj\u001b[0m \u001b[0;32min\u001b[0m \u001b[0miterable\u001b[0m\u001b[0;34m:\u001b[0m\u001b[0;34m\u001b[0m\u001b[0;34m\u001b[0m\u001b[0m\n\u001b[0m\u001b[1;32m   1172\u001b[0m                 \u001b[0;32myield\u001b[0m \u001b[0mobj\u001b[0m\u001b[0;34m\u001b[0m\u001b[0;34m\u001b[0m\u001b[0m\n\u001b[1;32m   1173\u001b[0m                 \u001b[0;31m# Update and possibly print the progressbar.\u001b[0m\u001b[0;34m\u001b[0m\u001b[0;34m\u001b[0m\u001b[0;34m\u001b[0m\u001b[0m\n",
      "\u001b[0;32m~/miniconda3/lib/python3.8/site-packages/torch/utils/data/dataloader.py\u001b[0m in \u001b[0;36m__next__\u001b[0;34m(self)\u001b[0m\n\u001b[1;32m    433\u001b[0m         \u001b[0;32mif\u001b[0m \u001b[0mself\u001b[0m\u001b[0;34m.\u001b[0m\u001b[0m_sampler_iter\u001b[0m \u001b[0;32mis\u001b[0m \u001b[0;32mNone\u001b[0m\u001b[0;34m:\u001b[0m\u001b[0;34m\u001b[0m\u001b[0;34m\u001b[0m\u001b[0m\n\u001b[1;32m    434\u001b[0m             \u001b[0mself\u001b[0m\u001b[0;34m.\u001b[0m\u001b[0m_reset\u001b[0m\u001b[0;34m(\u001b[0m\u001b[0;34m)\u001b[0m\u001b[0;34m\u001b[0m\u001b[0;34m\u001b[0m\u001b[0m\n\u001b[0;32m--> 435\u001b[0;31m         \u001b[0mdata\u001b[0m \u001b[0;34m=\u001b[0m \u001b[0mself\u001b[0m\u001b[0;34m.\u001b[0m\u001b[0m_next_data\u001b[0m\u001b[0;34m(\u001b[0m\u001b[0;34m)\u001b[0m\u001b[0;34m\u001b[0m\u001b[0;34m\u001b[0m\u001b[0m\n\u001b[0m\u001b[1;32m    436\u001b[0m         \u001b[0mself\u001b[0m\u001b[0;34m.\u001b[0m\u001b[0m_num_yielded\u001b[0m \u001b[0;34m+=\u001b[0m \u001b[0;36m1\u001b[0m\u001b[0;34m\u001b[0m\u001b[0;34m\u001b[0m\u001b[0m\n\u001b[1;32m    437\u001b[0m         \u001b[0;32mif\u001b[0m \u001b[0mself\u001b[0m\u001b[0;34m.\u001b[0m\u001b[0m_dataset_kind\u001b[0m \u001b[0;34m==\u001b[0m \u001b[0m_DatasetKind\u001b[0m\u001b[0;34m.\u001b[0m\u001b[0mIterable\u001b[0m \u001b[0;32mand\u001b[0m\u001b[0;31m \u001b[0m\u001b[0;31m\\\u001b[0m\u001b[0;34m\u001b[0m\u001b[0;34m\u001b[0m\u001b[0m\n",
      "\u001b[0;32m~/miniconda3/lib/python3.8/site-packages/torch/utils/data/dataloader.py\u001b[0m in \u001b[0;36m_next_data\u001b[0;34m(self)\u001b[0m\n\u001b[1;32m    473\u001b[0m     \u001b[0;32mdef\u001b[0m \u001b[0m_next_data\u001b[0m\u001b[0;34m(\u001b[0m\u001b[0mself\u001b[0m\u001b[0;34m)\u001b[0m\u001b[0;34m:\u001b[0m\u001b[0;34m\u001b[0m\u001b[0;34m\u001b[0m\u001b[0m\n\u001b[1;32m    474\u001b[0m         \u001b[0mindex\u001b[0m \u001b[0;34m=\u001b[0m \u001b[0mself\u001b[0m\u001b[0;34m.\u001b[0m\u001b[0m_next_index\u001b[0m\u001b[0;34m(\u001b[0m\u001b[0;34m)\u001b[0m  \u001b[0;31m# may raise StopIteration\u001b[0m\u001b[0;34m\u001b[0m\u001b[0;34m\u001b[0m\u001b[0m\n\u001b[0;32m--> 475\u001b[0;31m         \u001b[0mdata\u001b[0m \u001b[0;34m=\u001b[0m \u001b[0mself\u001b[0m\u001b[0;34m.\u001b[0m\u001b[0m_dataset_fetcher\u001b[0m\u001b[0;34m.\u001b[0m\u001b[0mfetch\u001b[0m\u001b[0;34m(\u001b[0m\u001b[0mindex\u001b[0m\u001b[0;34m)\u001b[0m  \u001b[0;31m# may raise StopIteration\u001b[0m\u001b[0;34m\u001b[0m\u001b[0;34m\u001b[0m\u001b[0m\n\u001b[0m\u001b[1;32m    476\u001b[0m         \u001b[0;32mif\u001b[0m \u001b[0mself\u001b[0m\u001b[0;34m.\u001b[0m\u001b[0m_pin_memory\u001b[0m\u001b[0;34m:\u001b[0m\u001b[0;34m\u001b[0m\u001b[0;34m\u001b[0m\u001b[0m\n\u001b[1;32m    477\u001b[0m             \u001b[0mdata\u001b[0m \u001b[0;34m=\u001b[0m \u001b[0m_utils\u001b[0m\u001b[0;34m.\u001b[0m\u001b[0mpin_memory\u001b[0m\u001b[0;34m.\u001b[0m\u001b[0mpin_memory\u001b[0m\u001b[0;34m(\u001b[0m\u001b[0mdata\u001b[0m\u001b[0;34m)\u001b[0m\u001b[0;34m\u001b[0m\u001b[0;34m\u001b[0m\u001b[0m\n",
      "\u001b[0;32m~/miniconda3/lib/python3.8/site-packages/torch/utils/data/_utils/fetch.py\u001b[0m in \u001b[0;36mfetch\u001b[0;34m(self, possibly_batched_index)\u001b[0m\n\u001b[1;32m     42\u001b[0m     \u001b[0;32mdef\u001b[0m \u001b[0mfetch\u001b[0m\u001b[0;34m(\u001b[0m\u001b[0mself\u001b[0m\u001b[0;34m,\u001b[0m \u001b[0mpossibly_batched_index\u001b[0m\u001b[0;34m)\u001b[0m\u001b[0;34m:\u001b[0m\u001b[0;34m\u001b[0m\u001b[0;34m\u001b[0m\u001b[0m\n\u001b[1;32m     43\u001b[0m         \u001b[0;32mif\u001b[0m \u001b[0mself\u001b[0m\u001b[0;34m.\u001b[0m\u001b[0mauto_collation\u001b[0m\u001b[0;34m:\u001b[0m\u001b[0;34m\u001b[0m\u001b[0;34m\u001b[0m\u001b[0m\n\u001b[0;32m---> 44\u001b[0;31m             \u001b[0mdata\u001b[0m \u001b[0;34m=\u001b[0m \u001b[0;34m[\u001b[0m\u001b[0mself\u001b[0m\u001b[0;34m.\u001b[0m\u001b[0mdataset\u001b[0m\u001b[0;34m[\u001b[0m\u001b[0midx\u001b[0m\u001b[0;34m]\u001b[0m \u001b[0;32mfor\u001b[0m \u001b[0midx\u001b[0m \u001b[0;32min\u001b[0m \u001b[0mpossibly_batched_index\u001b[0m\u001b[0;34m]\u001b[0m\u001b[0;34m\u001b[0m\u001b[0;34m\u001b[0m\u001b[0m\n\u001b[0m\u001b[1;32m     45\u001b[0m         \u001b[0;32melse\u001b[0m\u001b[0;34m:\u001b[0m\u001b[0;34m\u001b[0m\u001b[0;34m\u001b[0m\u001b[0m\n\u001b[1;32m     46\u001b[0m             \u001b[0mdata\u001b[0m \u001b[0;34m=\u001b[0m \u001b[0mself\u001b[0m\u001b[0;34m.\u001b[0m\u001b[0mdataset\u001b[0m\u001b[0;34m[\u001b[0m\u001b[0mpossibly_batched_index\u001b[0m\u001b[0;34m]\u001b[0m\u001b[0;34m\u001b[0m\u001b[0;34m\u001b[0m\u001b[0m\n",
      "\u001b[0;32m~/miniconda3/lib/python3.8/site-packages/torch/utils/data/_utils/fetch.py\u001b[0m in \u001b[0;36m<listcomp>\u001b[0;34m(.0)\u001b[0m\n\u001b[1;32m     42\u001b[0m     \u001b[0;32mdef\u001b[0m \u001b[0mfetch\u001b[0m\u001b[0;34m(\u001b[0m\u001b[0mself\u001b[0m\u001b[0;34m,\u001b[0m \u001b[0mpossibly_batched_index\u001b[0m\u001b[0;34m)\u001b[0m\u001b[0;34m:\u001b[0m\u001b[0;34m\u001b[0m\u001b[0;34m\u001b[0m\u001b[0m\n\u001b[1;32m     43\u001b[0m         \u001b[0;32mif\u001b[0m \u001b[0mself\u001b[0m\u001b[0;34m.\u001b[0m\u001b[0mauto_collation\u001b[0m\u001b[0;34m:\u001b[0m\u001b[0;34m\u001b[0m\u001b[0;34m\u001b[0m\u001b[0m\n\u001b[0;32m---> 44\u001b[0;31m             \u001b[0mdata\u001b[0m \u001b[0;34m=\u001b[0m \u001b[0;34m[\u001b[0m\u001b[0mself\u001b[0m\u001b[0;34m.\u001b[0m\u001b[0mdataset\u001b[0m\u001b[0;34m[\u001b[0m\u001b[0midx\u001b[0m\u001b[0;34m]\u001b[0m \u001b[0;32mfor\u001b[0m \u001b[0midx\u001b[0m \u001b[0;32min\u001b[0m \u001b[0mpossibly_batched_index\u001b[0m\u001b[0;34m]\u001b[0m\u001b[0;34m\u001b[0m\u001b[0;34m\u001b[0m\u001b[0m\n\u001b[0m\u001b[1;32m     45\u001b[0m         \u001b[0;32melse\u001b[0m\u001b[0;34m:\u001b[0m\u001b[0;34m\u001b[0m\u001b[0;34m\u001b[0m\u001b[0m\n\u001b[1;32m     46\u001b[0m             \u001b[0mdata\u001b[0m \u001b[0;34m=\u001b[0m \u001b[0mself\u001b[0m\u001b[0;34m.\u001b[0m\u001b[0mdataset\u001b[0m\u001b[0;34m[\u001b[0m\u001b[0mpossibly_batched_index\u001b[0m\u001b[0;34m]\u001b[0m\u001b[0;34m\u001b[0m\u001b[0;34m\u001b[0m\u001b[0m\n",
      "\u001b[0;32m<ipython-input-6-e6d9dfedc9f4>\u001b[0m in \u001b[0;36m__getitem__\u001b[0;34m(self, idx)\u001b[0m\n\u001b[1;32m     81\u001b[0m             \u001b[0mdir_\u001b[0m \u001b[0;34m=\u001b[0m \u001b[0;34m\"raw/sample_img/sample_img\"\u001b[0m\u001b[0;34m\u001b[0m\u001b[0;34m\u001b[0m\u001b[0m\n\u001b[1;32m     82\u001b[0m \u001b[0;34m\u001b[0m\u001b[0m\n\u001b[0;32m---> 83\u001b[0;31m         \u001b[0mi1_scaled\u001b[0m \u001b[0;34m=\u001b[0m \u001b[0mself\u001b[0m\u001b[0;34m.\u001b[0m\u001b[0mread_image\u001b[0m\u001b[0;34m(\u001b[0m\u001b[0mos\u001b[0m\u001b[0;34m.\u001b[0m\u001b[0mpath\u001b[0m\u001b[0;34m.\u001b[0m\u001b[0mjoin\u001b[0m\u001b[0;34m(\u001b[0m\u001b[0;34mf\"../data/{dir_}\"\u001b[0m\u001b[0;34m,\u001b[0m \u001b[0mi1\u001b[0m\u001b[0;34m)\u001b[0m\u001b[0;34m)\u001b[0m\u001b[0;34m\u001b[0m\u001b[0;34m\u001b[0m\u001b[0m\n\u001b[0m\u001b[1;32m     84\u001b[0m         \u001b[0mi2_scaled\u001b[0m \u001b[0;34m=\u001b[0m \u001b[0mself\u001b[0m\u001b[0;34m.\u001b[0m\u001b[0mread_image\u001b[0m\u001b[0;34m(\u001b[0m\u001b[0mos\u001b[0m\u001b[0;34m.\u001b[0m\u001b[0mpath\u001b[0m\u001b[0;34m.\u001b[0m\u001b[0mjoin\u001b[0m\u001b[0;34m(\u001b[0m\u001b[0;34mf\"../data/{dir_}\"\u001b[0m\u001b[0;34m,\u001b[0m \u001b[0mi2\u001b[0m\u001b[0;34m)\u001b[0m\u001b[0;34m)\u001b[0m\u001b[0;34m\u001b[0m\u001b[0;34m\u001b[0m\u001b[0m\n\u001b[1;32m     85\u001b[0m \u001b[0;34m\u001b[0m\u001b[0m\n",
      "\u001b[0;32m<ipython-input-6-e6d9dfedc9f4>\u001b[0m in \u001b[0;36mread_image\u001b[0;34m(self, path)\u001b[0m\n\u001b[1;32m     52\u001b[0m     \u001b[0;32mdef\u001b[0m \u001b[0mread_image\u001b[0m\u001b[0;34m(\u001b[0m\u001b[0mself\u001b[0m\u001b[0;34m,\u001b[0m \u001b[0mpath\u001b[0m\u001b[0;34m)\u001b[0m\u001b[0;34m:\u001b[0m\u001b[0;34m\u001b[0m\u001b[0;34m\u001b[0m\u001b[0m\n\u001b[1;32m     53\u001b[0m         \u001b[0mimg_arr\u001b[0m \u001b[0;34m=\u001b[0m \u001b[0mImage\u001b[0m\u001b[0;34m.\u001b[0m\u001b[0mopen\u001b[0m\u001b[0;34m(\u001b[0m\u001b[0mpath\u001b[0m\u001b[0;34m)\u001b[0m\u001b[0;34m\u001b[0m\u001b[0;34m\u001b[0m\u001b[0m\n\u001b[0;32m---> 54\u001b[0;31m         \u001b[0mimg_arr\u001b[0m \u001b[0;34m=\u001b[0m \u001b[0mimg_arr\u001b[0m\u001b[0;34m.\u001b[0m\u001b[0mresize\u001b[0m\u001b[0;34m(\u001b[0m\u001b[0;34m(\u001b[0m\u001b[0;36m224\u001b[0m\u001b[0;34m,\u001b[0m \u001b[0;36m224\u001b[0m\u001b[0;34m)\u001b[0m\u001b[0;34m)\u001b[0m\u001b[0;34m\u001b[0m\u001b[0;34m\u001b[0m\u001b[0m\n\u001b[0m\u001b[1;32m     55\u001b[0m         \u001b[0mimg_arr\u001b[0m \u001b[0;34m=\u001b[0m \u001b[0mimg_arr\u001b[0m\u001b[0;34m.\u001b[0m\u001b[0mconvert\u001b[0m\u001b[0;34m(\u001b[0m\u001b[0;34m'RGB'\u001b[0m\u001b[0;34m)\u001b[0m\u001b[0;34m\u001b[0m\u001b[0;34m\u001b[0m\u001b[0m\n\u001b[1;32m     56\u001b[0m         \u001b[0mimg_arr\u001b[0m \u001b[0;34m=\u001b[0m \u001b[0mF\u001b[0m\u001b[0;34m.\u001b[0m\u001b[0mto_tensor\u001b[0m\u001b[0;34m(\u001b[0m\u001b[0mimg_arr\u001b[0m\u001b[0;34m)\u001b[0m\u001b[0;34m\u001b[0m\u001b[0;34m\u001b[0m\u001b[0m\n",
      "\u001b[0;32m~/miniconda3/lib/python3.8/site-packages/PIL/Image.py\u001b[0m in \u001b[0;36mresize\u001b[0;34m(self, size, resample, box, reducing_gap)\u001b[0m\n\u001b[1;32m   1920\u001b[0m                 )\n\u001b[1;32m   1921\u001b[0m \u001b[0;34m\u001b[0m\u001b[0m\n\u001b[0;32m-> 1922\u001b[0;31m         \u001b[0;32mreturn\u001b[0m \u001b[0mself\u001b[0m\u001b[0;34m.\u001b[0m\u001b[0m_new\u001b[0m\u001b[0;34m(\u001b[0m\u001b[0mself\u001b[0m\u001b[0;34m.\u001b[0m\u001b[0mim\u001b[0m\u001b[0;34m.\u001b[0m\u001b[0mresize\u001b[0m\u001b[0;34m(\u001b[0m\u001b[0msize\u001b[0m\u001b[0;34m,\u001b[0m \u001b[0mresample\u001b[0m\u001b[0;34m,\u001b[0m \u001b[0mbox\u001b[0m\u001b[0;34m)\u001b[0m\u001b[0;34m)\u001b[0m\u001b[0;34m\u001b[0m\u001b[0;34m\u001b[0m\u001b[0m\n\u001b[0m\u001b[1;32m   1923\u001b[0m \u001b[0;34m\u001b[0m\u001b[0m\n\u001b[1;32m   1924\u001b[0m     \u001b[0;32mdef\u001b[0m \u001b[0mreduce\u001b[0m\u001b[0;34m(\u001b[0m\u001b[0mself\u001b[0m\u001b[0;34m,\u001b[0m \u001b[0mfactor\u001b[0m\u001b[0;34m,\u001b[0m \u001b[0mbox\u001b[0m\u001b[0;34m=\u001b[0m\u001b[0;32mNone\u001b[0m\u001b[0;34m)\u001b[0m\u001b[0;34m:\u001b[0m\u001b[0;34m\u001b[0m\u001b[0;34m\u001b[0m\u001b[0m\n",
      "\u001b[0;31mKeyboardInterrupt\u001b[0m: "
     ]
    }
   ],
   "source": [
    "# result_list = []\n",
    "for epoch in range(0, 21):\n",
    "    \n",
    "    running_loss = 0\n",
    "    running_loss_v = 0\n",
    "    running_acc = 0\n",
    "    running_acc_v = 0\n",
    "    running_acc_sigmoid = 0\n",
    "    running_acc_sigmoid_v = 0\n",
    "    \n",
    "    start = time.time()\n",
    "    \n",
    "    model.train()\n",
    "    dataset.set_split('train')\n",
    "    data_gen = DataLoader(dataset, batch_size=48)\n",
    "    for batch_index, (t1_encode, t2_encode, i1_scaled, i2_scaled, label_train) in tqdm(enumerate(data_gen, 1)):\n",
    "        \n",
    "        t1_encode = t1_encode.to('cuda')\n",
    "        t2_encode = t2_encode.to('cuda')\n",
    "        i1_scaled = i1_scaled.to('cuda')\n",
    "        i2_scaled = i2_scaled.to('cuda')\n",
    "        label_train = label_train.to('cuda')\n",
    "        \n",
    "        optimizer.zero_grad()\n",
    "        \n",
    "        distance_train = model(t1_encode, t2_encode, i1_scaled, i2_scaled)\n",
    "        y_pred_train = torch.sigmoid(distance_train)\n",
    "        \n",
    "        loss = cont_loss(label_train, distance_train, margin=0.5)\n",
    "        running_loss += (loss.item() - running_loss) / batch_index\n",
    "        \n",
    "        accuracy = compute_accuracy(label_train, distance_train)\n",
    "        running_acc += (accuracy - running_acc) / batch_index\n",
    "        \n",
    "        accuracy_sig = compute_accuracy(label_train, y_pred_train)\n",
    "        running_acc_sigmoid += (accuracy_sig - running_acc_sigmoid) / batch_index\n",
    "        \n",
    "        loss.backward()\n",
    "        \n",
    "        optimizer.step()\n",
    "        \n",
    "    if (epoch % 3) == 0:\n",
    "        model.eval()\n",
    "        dataset.set_split('val')\n",
    "        data_gen = DataLoader(dataset, batch_size=48)\n",
    "        for batch_index, (t1_encode, t2_encode, i1_scaled, i2_scaled, label) in tqdm(enumerate(data_gen, 1)):\n",
    "\n",
    "            t1_encode = t1_encode.to('cuda')\n",
    "            t2_encode = t2_encode.to('cuda')\n",
    "            i1_scaled = i1_scaled.to('cuda')\n",
    "            i2_scaled = i2_scaled.to('cuda')\n",
    "            label = label.to('cuda')\n",
    "\n",
    "            with torch.no_grad():\n",
    "                distance = model(t1_encode, t2_encode, i1_scaled, i2_scaled)\n",
    "                y_pred = torch.sigmoid(distance)\n",
    "\n",
    "            loss = cont_loss(label, distance, margin=0.5)\n",
    "            running_loss_v += (loss.item() - running_loss_v) / batch_index\n",
    "\n",
    "            accuracy = compute_accuracy(label, distance)\n",
    "            running_acc_v += (accuracy - running_acc_v) / batch_index\n",
    "            \n",
    "            accuracy_sig = compute_accuracy(label, y_pred)\n",
    "            running_acc_sigmoid_v += (accuracy_sig - running_acc_sigmoid_v) / batch_index\n",
    "            \n",
    "#     result_list.append({\"label_train\": label_train.tolist(), \"y_pred_train\": (y_pred_train>0.5).clone().long().squeeze().detach().tolist(), \"dist_train\": distance_train.clone().squeeze().detach().tolist(),\n",
    "#                        \"label\": label.tolist(), \"y_pred\": (y_pred>0.5).clone().long().squeeze().detach().tolist(), \"dist\": distance.clone().squeeze().detach().tolist()})\n",
    "    \n",
    "    duration = time.time() - start\n",
    "    print(f\"epoch: {epoch} | time: {duration:.1f}s\")\n",
    "    print(f\"\\ttrain loss: {running_loss:.2f} | train accuracy: {running_acc:.2f} | train accuracy sigmoid: {running_acc_sigmoid:.2f}\")\n",
    "    print(f\"\\tval loss: {running_loss_v:.2f} | val accuracy: {running_acc_v:.2f} | train accuracy sigmoid: {running_acc_sigmoid_v:.2f}\")"
   ]
  },
  {
   "cell_type": "code",
   "execution_count": null,
   "metadata": {},
   "outputs": [],
   "source": [
    "# torch.save(model.state_dict(), \"../models/model.pth\")"
   ]
  },
  {
   "cell_type": "code",
   "execution_count": null,
   "metadata": {},
   "outputs": [],
   "source": [
    "# torch.save(model.state_dict(), \"../models/model2.pth\")"
   ]
  },
  {
   "cell_type": "code",
   "execution_count": null,
   "metadata": {},
   "outputs": [],
   "source": [
    "# torch.save(model.state_dict(), \"../models/model3.pth\")"
   ]
  },
  {
   "cell_type": "markdown",
   "metadata": {},
   "source": [
    "## Inference"
   ]
  },
  {
   "cell_type": "code",
   "execution_count": null,
   "metadata": {
    "scrolled": true
   },
   "outputs": [],
   "source": [
    "# model = WrapperModel()\n",
    "# model.load_state_dict(torch.load(\"../models/model.pth\"))\n",
    "# model.to('cuda')"
   ]
  },
  {
   "cell_type": "code",
   "execution_count": null,
   "metadata": {
    "scrolled": true
   },
   "outputs": [],
   "source": [
    "y_pred_list = []\n",
    "model.eval()\n",
    "dataset.set_split('test')\n",
    "data_gen = DataLoader(dataset, batch_size=48)\n",
    "for batch_index, (t1_encode, t2_encode, i1_scaled, i2_scaled, label) in tqdm(enumerate(data_gen, 1)):\n",
    "\n",
    "    t1_encode = t1_encode.to('cuda')\n",
    "    t2_encode = t2_encode.to('cuda')\n",
    "    i1_scaled = i1_scaled.to('cuda')\n",
    "    i2_scaled = i2_scaled.to('cuda')\n",
    "    label = label.to('cuda')\n",
    "    \n",
    "    with torch.no_grad():\n",
    "        distance = model(t1_encode, t2_encode, i1_scaled, i2_scaled)\n",
    "        y_pred_sigmoid = torch.sigmoid(distance)\n",
    "    \n",
    "    loss = cont_loss(label, distance, margin=0.5)\n",
    "    running_loss_v += (loss.item() - running_loss_v) / batch_index\n",
    "\n",
    "    accuracy = compute_accuracy(label, distance)\n",
    "    running_acc_v += (accuracy - running_acc_v) / batch_index\n",
    "    \n",
    "    y_pred = (distance>0.5).clone().long().cpu().tolist()\n",
    "    y_pred_list.extend(y_pred)"
   ]
  },
  {
   "cell_type": "code",
   "execution_count": null,
   "metadata": {},
   "outputs": [],
   "source": [
    "n_correct = dataset.data.Label.values == np.array(y_pred_list)"
   ]
  },
  {
   "cell_type": "code",
   "execution_count": null,
   "metadata": {},
   "outputs": [],
   "source": [
    "dataset.data.shape"
   ]
  },
  {
   "cell_type": "code",
   "execution_count": null,
   "metadata": {},
   "outputs": [],
   "source": [
    "n_correct.sum() / 2545"
   ]
  },
  {
   "cell_type": "code",
   "execution_count": null,
   "metadata": {},
   "outputs": [],
   "source": [
    "d_submission = dataset.data\n",
    "d_submission = d_submission[[\"pair_index\"]]\n",
    "d_submission[\"Label\"] = y_pred_list\n",
    "d_submission['Label'] = d_submission.Label.map({1:0, 0:1})\n",
    "d_submission.to_csv(\"../submission/submit.csv\",sep=\",\",index=False)"
   ]
  },
  {
   "cell_type": "markdown",
   "metadata": {},
   "source": [
    "## inference final"
   ]
  },
  {
   "cell_type": "code",
   "execution_count": 20,
   "metadata": {},
   "outputs": [],
   "source": [
    "dataset.set_split('final')"
   ]
  },
  {
   "cell_type": "code",
   "execution_count": 21,
   "metadata": {},
   "outputs": [
    {
     "name": "stderr",
     "output_type": "stream",
     "text": [
      "679it [20:32,  1.82s/it]\n"
     ]
    }
   ],
   "source": [
    "y_pred_list = []\n",
    "model.eval()\n",
    "dataset.set_split('final')\n",
    "data_gen = DataLoader(dataset, batch_size=48)\n",
    "for batch_index, (t1_encode, t2_encode, i1_scaled, i2_scaled, label) in tqdm(enumerate(data_gen, 1)):\n",
    "\n",
    "    t1_encode = t1_encode.to('cuda')\n",
    "    t2_encode = t2_encode.to('cuda')\n",
    "    i1_scaled = i1_scaled.to('cuda')\n",
    "    i2_scaled = i2_scaled.to('cuda')\n",
    "    label = label.to('cuda')\n",
    "    \n",
    "    with torch.no_grad():\n",
    "        distance = model(t1_encode, t2_encode, i1_scaled, i2_scaled)\n",
    "        y_pred_sigmoid = torch.sigmoid(distance)\n",
    "    \n",
    "    loss = cont_loss(label, distance, margin=0.5)\n",
    "    running_loss_v += (loss.item() - running_loss_v) / batch_index\n",
    "\n",
    "    accuracy = compute_accuracy(label, distance)\n",
    "    running_acc_v += (accuracy - running_acc_v) / batch_index\n",
    "    \n",
    "    y_pred = (distance>0.5).clone().long().cpu().tolist()\n",
    "    y_pred_list.extend(y_pred)"
   ]
  },
  {
   "cell_type": "code",
   "execution_count": 23,
   "metadata": {},
   "outputs": [
    {
     "name": "stderr",
     "output_type": "stream",
     "text": [
      "<ipython-input-23-488a79a39e3e>:3: SettingWithCopyWarning: \n",
      "A value is trying to be set on a copy of a slice from a DataFrame.\n",
      "Try using .loc[row_indexer,col_indexer] = value instead\n",
      "\n",
      "See the caveats in the documentation: https://pandas.pydata.org/pandas-docs/stable/user_guide/indexing.html#returning-a-view-versus-a-copy\n",
      "  d_submission[\"Label\"] = y_pred_list\n",
      "<ipython-input-23-488a79a39e3e>:4: SettingWithCopyWarning: \n",
      "A value is trying to be set on a copy of a slice from a DataFrame.\n",
      "Try using .loc[row_indexer,col_indexer] = value instead\n",
      "\n",
      "See the caveats in the documentation: https://pandas.pydata.org/pandas-docs/stable/user_guide/indexing.html#returning-a-view-versus-a-copy\n",
      "  d_submission[\"Label\"] = d_submission.Label.map({1:0, 0:1})\n"
     ]
    }
   ],
   "source": [
    "d_submission = dataset.data\n",
    "d_submission = d_submission[[\"pair_index\"]]\n",
    "d_submission[\"Label\"] = y_pred_list\n",
    "d_submission[\"Label\"] = d_submission.Label.map({1:0, 0:1})"
   ]
  },
  {
   "cell_type": "code",
   "execution_count": 24,
   "metadata": {},
   "outputs": [
    {
     "data": {
      "text/html": [
       "<div>\n",
       "<style scoped>\n",
       "    .dataframe tbody tr th:only-of-type {\n",
       "        vertical-align: middle;\n",
       "    }\n",
       "\n",
       "    .dataframe tbody tr th {\n",
       "        vertical-align: top;\n",
       "    }\n",
       "\n",
       "    .dataframe thead th {\n",
       "        text-align: right;\n",
       "    }\n",
       "</style>\n",
       "<table border=\"1\" class=\"dataframe\">\n",
       "  <thead>\n",
       "    <tr style=\"text-align: right;\">\n",
       "      <th></th>\n",
       "      <th>pair_index</th>\n",
       "      <th>Label</th>\n",
       "    </tr>\n",
       "  </thead>\n",
       "  <tbody>\n",
       "    <tr>\n",
       "      <th>0</th>\n",
       "      <td>0</td>\n",
       "      <td>0</td>\n",
       "    </tr>\n",
       "    <tr>\n",
       "      <th>1</th>\n",
       "      <td>1</td>\n",
       "      <td>0</td>\n",
       "    </tr>\n",
       "    <tr>\n",
       "      <th>2</th>\n",
       "      <td>2</td>\n",
       "      <td>0</td>\n",
       "    </tr>\n",
       "    <tr>\n",
       "      <th>3</th>\n",
       "      <td>3</td>\n",
       "      <td>0</td>\n",
       "    </tr>\n",
       "    <tr>\n",
       "      <th>4</th>\n",
       "      <td>4</td>\n",
       "      <td>0</td>\n",
       "    </tr>\n",
       "    <tr>\n",
       "      <th>...</th>\n",
       "      <td>...</td>\n",
       "      <td>...</td>\n",
       "    </tr>\n",
       "    <tr>\n",
       "      <th>32575</th>\n",
       "      <td>32575</td>\n",
       "      <td>0</td>\n",
       "    </tr>\n",
       "    <tr>\n",
       "      <th>32576</th>\n",
       "      <td>32576</td>\n",
       "      <td>0</td>\n",
       "    </tr>\n",
       "    <tr>\n",
       "      <th>32577</th>\n",
       "      <td>32577</td>\n",
       "      <td>0</td>\n",
       "    </tr>\n",
       "    <tr>\n",
       "      <th>32578</th>\n",
       "      <td>32578</td>\n",
       "      <td>1</td>\n",
       "    </tr>\n",
       "    <tr>\n",
       "      <th>32579</th>\n",
       "      <td>32579</td>\n",
       "      <td>0</td>\n",
       "    </tr>\n",
       "  </tbody>\n",
       "</table>\n",
       "<p>32580 rows × 2 columns</p>\n",
       "</div>"
      ],
      "text/plain": [
       "       pair_index  Label\n",
       "0               0      0\n",
       "1               1      0\n",
       "2               2      0\n",
       "3               3      0\n",
       "4               4      0\n",
       "...           ...    ...\n",
       "32575       32575      0\n",
       "32576       32576      0\n",
       "32577       32577      0\n",
       "32578       32578      1\n",
       "32579       32579      0\n",
       "\n",
       "[32580 rows x 2 columns]"
      ]
     },
     "execution_count": 24,
     "metadata": {},
     "output_type": "execute_result"
    }
   ],
   "source": [
    "d_submission"
   ]
  },
  {
   "cell_type": "code",
   "execution_count": 25,
   "metadata": {},
   "outputs": [],
   "source": [
    "d_submission.to_csv(\"../submission/submit_final2.csv\", sep=\",\", index=False)"
   ]
  },
  {
   "cell_type": "code",
   "execution_count": null,
   "metadata": {},
   "outputs": [],
   "source": []
  }
 ],
 "metadata": {
  "kernelspec": {
   "display_name": "Python 3",
   "language": "python",
   "name": "python3"
  },
  "language_info": {
   "codemirror_mode": {
    "name": "ipython",
    "version": 3
   },
   "file_extension": ".py",
   "mimetype": "text/x-python",
   "name": "python",
   "nbconvert_exporter": "python",
   "pygments_lexer": "ipython3",
   "version": "3.8.5"
  }
 },
 "nbformat": 4,
 "nbformat_minor": 4
}
